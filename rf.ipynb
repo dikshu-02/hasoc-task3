{
  "cells": [
    {
      "cell_type": "code",
      "execution_count": null,
      "metadata": {
        "id": "Pp4sj03uiU5J"
      },
      "outputs": [],
      "source": [
        "# # Random Forest Regression\n",
        "# ## Importing the libraries\n",
        "# In[1]:\n",
        "import numpy as np\n",
        "import matplotlib.pyplot as plt\n",
        "import pandas as pd\n",
        "import seaborn as sns\n",
        "sns.set()\n",
        "import warnings\n",
        "warnings.filterwarnings(\"ignore\")\n",
        "from sklearn.model_selection import train_test_split\n",
        "import pandas\n",
        "from sklearn import preprocessing \n",
        "from sklearn.naive_bayes import MultinomialNB \n",
        "from sklearn.feature_extraction.text import CountVectorizer"
      ]
    },
    {
      "cell_type": "code",
      "execution_count": null,
      "metadata": {
        "colab": {
          "base_uri": "https://localhost:8080/"
        },
        "id": "PbIWsOJwiWN7",
        "outputId": "7894111d-683a-4666-dc43-87060d08c590"
      },
      "outputs": [
        {
          "output_type": "stream",
          "name": "stdout",
          "text": [
            "Drive already mounted at /content/drive; to attempt to forcibly remount, call drive.mount(\"/content/drive\", force_remount=True).\n"
          ]
        }
      ],
      "source": [
        "from google.colab import drive\n",
        "drive.mount('/content/drive')"
      ]
    },
    {
      "cell_type": "code",
      "execution_count": null,
      "metadata": {
        "id": "0JR5x0SbiaHa"
      },
      "outputs": [],
      "source": [
        "#Importing traing data\n",
        "train = pd.read_csv('/content/drive/MyDrive/ML_text_processing/MOLD_SPLIT/subtask_a.tsv','\\t',skiprows=1,names=['id','tweet','subtask_a'])\n",
        "test = pd.read_csv('/content/drive/MyDrive/ML_text_processing/MOLD_SPLIT/marathi_test_without_labels.csv',skiprows=1,names=['id','tweet'])"
      ]
    },
    {
      "cell_type": "code",
      "execution_count": null,
      "metadata": {
        "colab": {
          "base_uri": "https://localhost:8080/",
          "height": 206
        },
        "id": "WzXkuhjBicNC",
        "outputId": "d79eeb2e-e2ea-4a89-913e-46196080ed69"
      },
      "outputs": [
        {
          "output_type": "execute_result",
          "data": {
            "text/plain": [
              "   id                                              tweet subtask_a  encoded_a\n",
              "0   0  आजच्या जनता दरबारात जळगाव जिल्ह्यातील चाळीसगाव...       NOT          0\n",
              "1   1  कुणी कविता करत असतं तर कुणी कविता जगत असतं कुण...       NOT          0\n",
              "2   2  आम्हाला इतिहासातील औरंगजेबशी काही घेणे नाही आम...       NOT          0\n",
              "3   3  गँभीर प्रकरण महाराष्ट्राची अवस्था बिकट आहे भाष...       NOT          0\n",
              "4   4  कब्झा हा कन्नड चित्रपट लवकरच मराठी मध्ये डब्ब ...       NOT          0"
            ],
            "text/html": [
              "\n",
              "  <div id=\"df-126ae60f-da20-499f-b902-166c505316ad\">\n",
              "    <div class=\"colab-df-container\">\n",
              "      <div>\n",
              "<style scoped>\n",
              "    .dataframe tbody tr th:only-of-type {\n",
              "        vertical-align: middle;\n",
              "    }\n",
              "\n",
              "    .dataframe tbody tr th {\n",
              "        vertical-align: top;\n",
              "    }\n",
              "\n",
              "    .dataframe thead th {\n",
              "        text-align: right;\n",
              "    }\n",
              "</style>\n",
              "<table border=\"1\" class=\"dataframe\">\n",
              "  <thead>\n",
              "    <tr style=\"text-align: right;\">\n",
              "      <th></th>\n",
              "      <th>id</th>\n",
              "      <th>tweet</th>\n",
              "      <th>subtask_a</th>\n",
              "      <th>encoded_a</th>\n",
              "    </tr>\n",
              "  </thead>\n",
              "  <tbody>\n",
              "    <tr>\n",
              "      <th>0</th>\n",
              "      <td>0</td>\n",
              "      <td>आजच्या जनता दरबारात जळगाव जिल्ह्यातील चाळीसगाव...</td>\n",
              "      <td>NOT</td>\n",
              "      <td>0</td>\n",
              "    </tr>\n",
              "    <tr>\n",
              "      <th>1</th>\n",
              "      <td>1</td>\n",
              "      <td>कुणी कविता करत असतं तर कुणी कविता जगत असतं कुण...</td>\n",
              "      <td>NOT</td>\n",
              "      <td>0</td>\n",
              "    </tr>\n",
              "    <tr>\n",
              "      <th>2</th>\n",
              "      <td>2</td>\n",
              "      <td>आम्हाला इतिहासातील औरंगजेबशी काही घेणे नाही आम...</td>\n",
              "      <td>NOT</td>\n",
              "      <td>0</td>\n",
              "    </tr>\n",
              "    <tr>\n",
              "      <th>3</th>\n",
              "      <td>3</td>\n",
              "      <td>गँभीर प्रकरण महाराष्ट्राची अवस्था बिकट आहे भाष...</td>\n",
              "      <td>NOT</td>\n",
              "      <td>0</td>\n",
              "    </tr>\n",
              "    <tr>\n",
              "      <th>4</th>\n",
              "      <td>4</td>\n",
              "      <td>कब्झा हा कन्नड चित्रपट लवकरच मराठी मध्ये डब्ब ...</td>\n",
              "      <td>NOT</td>\n",
              "      <td>0</td>\n",
              "    </tr>\n",
              "  </tbody>\n",
              "</table>\n",
              "</div>\n",
              "      <button class=\"colab-df-convert\" onclick=\"convertToInteractive('df-126ae60f-da20-499f-b902-166c505316ad')\"\n",
              "              title=\"Convert this dataframe to an interactive table.\"\n",
              "              style=\"display:none;\">\n",
              "        \n",
              "  <svg xmlns=\"http://www.w3.org/2000/svg\" height=\"24px\"viewBox=\"0 0 24 24\"\n",
              "       width=\"24px\">\n",
              "    <path d=\"M0 0h24v24H0V0z\" fill=\"none\"/>\n",
              "    <path d=\"M18.56 5.44l.94 2.06.94-2.06 2.06-.94-2.06-.94-.94-2.06-.94 2.06-2.06.94zm-11 1L8.5 8.5l.94-2.06 2.06-.94-2.06-.94L8.5 2.5l-.94 2.06-2.06.94zm10 10l.94 2.06.94-2.06 2.06-.94-2.06-.94-.94-2.06-.94 2.06-2.06.94z\"/><path d=\"M17.41 7.96l-1.37-1.37c-.4-.4-.92-.59-1.43-.59-.52 0-1.04.2-1.43.59L10.3 9.45l-7.72 7.72c-.78.78-.78 2.05 0 2.83L4 21.41c.39.39.9.59 1.41.59.51 0 1.02-.2 1.41-.59l7.78-7.78 2.81-2.81c.8-.78.8-2.07 0-2.86zM5.41 20L4 18.59l7.72-7.72 1.47 1.35L5.41 20z\"/>\n",
              "  </svg>\n",
              "      </button>\n",
              "      \n",
              "  <style>\n",
              "    .colab-df-container {\n",
              "      display:flex;\n",
              "      flex-wrap:wrap;\n",
              "      gap: 12px;\n",
              "    }\n",
              "\n",
              "    .colab-df-convert {\n",
              "      background-color: #E8F0FE;\n",
              "      border: none;\n",
              "      border-radius: 50%;\n",
              "      cursor: pointer;\n",
              "      display: none;\n",
              "      fill: #1967D2;\n",
              "      height: 32px;\n",
              "      padding: 0 0 0 0;\n",
              "      width: 32px;\n",
              "    }\n",
              "\n",
              "    .colab-df-convert:hover {\n",
              "      background-color: #E2EBFA;\n",
              "      box-shadow: 0px 1px 2px rgba(60, 64, 67, 0.3), 0px 1px 3px 1px rgba(60, 64, 67, 0.15);\n",
              "      fill: #174EA6;\n",
              "    }\n",
              "\n",
              "    [theme=dark] .colab-df-convert {\n",
              "      background-color: #3B4455;\n",
              "      fill: #D2E3FC;\n",
              "    }\n",
              "\n",
              "    [theme=dark] .colab-df-convert:hover {\n",
              "      background-color: #434B5C;\n",
              "      box-shadow: 0px 1px 3px 1px rgba(0, 0, 0, 0.15);\n",
              "      filter: drop-shadow(0px 1px 2px rgba(0, 0, 0, 0.3));\n",
              "      fill: #FFFFFF;\n",
              "    }\n",
              "  </style>\n",
              "\n",
              "      <script>\n",
              "        const buttonEl =\n",
              "          document.querySelector('#df-126ae60f-da20-499f-b902-166c505316ad button.colab-df-convert');\n",
              "        buttonEl.style.display =\n",
              "          google.colab.kernel.accessAllowed ? 'block' : 'none';\n",
              "\n",
              "        async function convertToInteractive(key) {\n",
              "          const element = document.querySelector('#df-126ae60f-da20-499f-b902-166c505316ad');\n",
              "          const dataTable =\n",
              "            await google.colab.kernel.invokeFunction('convertToInteractive',\n",
              "                                                     [key], {});\n",
              "          if (!dataTable) return;\n",
              "\n",
              "          const docLinkHtml = 'Like what you see? Visit the ' +\n",
              "            '<a target=\"_blank\" href=https://colab.research.google.com/notebooks/data_table.ipynb>data table notebook</a>'\n",
              "            + ' to learn more about interactive tables.';\n",
              "          element.innerHTML = '';\n",
              "          dataTable['output_type'] = 'display_data';\n",
              "          await google.colab.output.renderOutput(dataTable, element);\n",
              "          const docLink = document.createElement('div');\n",
              "          docLink.innerHTML = docLinkHtml;\n",
              "          element.appendChild(docLink);\n",
              "        }\n",
              "      </script>\n",
              "    </div>\n",
              "  </div>\n",
              "  "
            ]
          },
          "metadata": {},
          "execution_count": 73
        }
      ],
      "source": [
        "le = preprocessing.LabelEncoder()\n",
        "train['encoded_a'] = le.fit_transform(train['subtask_a'].astype(str))\n",
        "train.head()"
      ]
    },
    {
      "cell_type": "code",
      "execution_count": null,
      "metadata": {
        "id": "BpHU2YonihOW"
      },
      "outputs": [],
      "source": [
        "from sklearn.feature_extraction.text import CountVectorizer, TfidfVectorizer\n",
        "vectorizer = CountVectorizer(analyzer='char', ngram_range=(1,3))\n",
        "x_train=train['tweet']\n",
        "y_train=train['encoded_a']\n",
        "x_train=x_train.replace(np.nan,\"\")\n",
        "x_test=test['tweet']\n",
        "x_test=x_test.replace(np.nan,\"\")\n",
        "x_train = vectorizer.fit_transform(x_train)\n",
        "x_test=vectorizer.transform(x_test)"
      ]
    },
    {
      "cell_type": "code",
      "execution_count": null,
      "metadata": {
        "id": "KtwVcfNeivV2"
      },
      "outputs": [],
      "source": [
        "from sklearn.ensemble import RandomForestRegressor"
      ]
    },
    {
      "cell_type": "code",
      "execution_count": null,
      "metadata": {
        "id": "sabne-Kfiy31"
      },
      "outputs": [],
      "source": [
        "regressor = RandomForestRegressor(n_estimators = 100, random_state = 7)"
      ]
    },
    {
      "cell_type": "code",
      "execution_count": null,
      "metadata": {
        "id": "6BOkTpjhi2qt",
        "colab": {
          "base_uri": "https://localhost:8080/"
        },
        "outputId": "d2af36b7-045d-4662-ec19-6231d8801bf0"
      },
      "outputs": [
        {
          "output_type": "execute_result",
          "data": {
            "text/plain": [
              "RandomForestRegressor(random_state=7)"
            ]
          },
          "metadata": {},
          "execution_count": 77
        }
      ],
      "source": [
        "regressor.fit(x_train,y_train)"
      ]
    },
    {
      "cell_type": "code",
      "execution_count": null,
      "metadata": {
        "id": "WuOM-QSHjSB-"
      },
      "outputs": [],
      "source": [
        "y_pred = regressor.predict(x_test)"
      ]
    },
    {
      "cell_type": "code",
      "execution_count": null,
      "metadata": {
        "id": "sgfgIBTZXPc6"
      },
      "outputs": [],
      "source": [
        "import math\n",
        "pred=[]\n",
        "for i in range(len(y_pred)):\n",
        " pred.append(int(y_pred[i].round()))\n"
      ]
    },
    {
      "cell_type": "code",
      "source": [
        "pred=le.inverse_transform(pred)"
      ],
      "metadata": {
        "id": "xBS5ow_XiRfp"
      },
      "execution_count": null,
      "outputs": []
    },
    {
      "cell_type": "code",
      "source": [
        "submission = pd.DataFrame()\n",
        "submission['id'] = test['id']\n",
        "submission['label'] = pred\n",
        "submission.to_csv('/content/drive/MyDrive/ML_text_processing/MOLD_SPLIT/taska_sub1.csv',index= False)"
      ],
      "metadata": {
        "id": "x3bHDupDhAj9"
      },
      "execution_count": null,
      "outputs": []
    },
    {
      "cell_type": "code",
      "source": [
        "print(submission)\n",
        "null_list=[]\n",
        "null_list=submission.index[submission['label'] == \"NOT\"].tolist()\n",
        "print(null_list)"
      ],
      "metadata": {
        "colab": {
          "base_uri": "https://localhost:8080/"
        },
        "id": "Jn7Ogwf2i8X-",
        "outputId": "877f58ea-2201-43a8-e0aa-b9718fab3992"
      },
      "execution_count": null,
      "outputs": [
        {
          "output_type": "stream",
          "name": "stdout",
          "text": [
            "      id label\n",
            "0      0   NOT\n",
            "1      1   NOT\n",
            "2      2   NOT\n",
            "3      3   NOT\n",
            "4      4   NOT\n",
            "..   ...   ...\n",
            "505  505   OFF\n",
            "506  506   OFF\n",
            "507  507   OFF\n",
            "508  508   OFF\n",
            "509  509   OFF\n",
            "\n",
            "[510 rows x 2 columns]\n",
            "[0, 1, 2, 3, 4, 5, 6, 7, 8, 9, 10, 11, 13, 14, 15, 16, 17, 18, 19, 20, 21, 22, 23, 24, 25, 26, 27, 29, 30, 31, 32, 33, 34, 35, 36, 38, 39, 40, 41, 42, 43, 44, 45, 46, 47, 49, 50, 51, 53, 54, 55, 56, 57, 58, 59, 60, 61, 62, 63, 64, 65, 66, 67, 68, 69, 70, 71, 72, 73, 74, 75, 76, 77, 78, 79, 82, 83, 84, 85, 86, 87, 88, 89, 90, 91, 92, 93, 94, 95, 96, 97, 99, 100, 101, 102, 103, 104, 105, 106, 107, 108, 109, 110, 111, 112, 113, 114, 115, 116, 117, 118, 119, 120, 121, 122, 123, 124, 125, 126, 127, 128, 129, 130, 131, 132, 133, 134, 135, 136, 137, 138, 139, 140, 141, 142, 143, 144, 146, 147, 148, 149, 150, 151, 152, 153, 154, 155, 156, 157, 158, 159, 160, 161, 162, 164, 165, 166, 167, 168, 169, 170, 171, 172, 173, 174, 175, 176, 177, 178, 179, 180, 181, 182, 183, 184, 185, 186, 187, 188, 189, 191, 192, 193, 194, 195, 196, 197, 198, 199, 200, 201, 202, 203, 204, 205, 206, 207, 208, 210, 211, 212, 213, 214, 215, 216, 217, 218, 219, 220, 221, 222, 223, 224, 225, 226, 227, 228, 229, 230, 231, 232, 233, 234, 235, 236, 237, 238, 239, 240, 241, 242, 243, 244, 245, 246, 247, 248, 249, 478]\n"
          ]
        }
      ]
    },
    {
      "cell_type": "code",
      "execution_count": null,
      "metadata": {
        "colab": {
          "base_uri": "https://localhost:8080/",
          "height": 206
        },
        "id": "MEqrVdIVnPQc",
        "outputId": "1be96147-8550-4152-f68d-afccd6a0a3f9"
      },
      "outputs": [
        {
          "output_type": "execute_result",
          "data": {
            "text/plain": [
              "     id                                              tweet subtask_b\n",
              "0  1451  राम कदम वागण्यात नाही तर बोलण्यात चुकला बीजेपी...       TIN\n",
              "1  1452  हीच का तुमची शिवसेने चि शिकवण आपली आई म्हणजे द...       TIN\n",
              "2  1453  हे वाचा गाढवांनो आणि हे ही सांगा की तुमच्या मॅ...       TIN\n",
              "3  1454           भक्त आंधळे असतात मूर्खा ना काही कळत नाही       TIN\n",
              "4  1455  १९६६ साली छत्रपती शिवाजी महाराज या जागतिक दर्ज...       TIN"
            ],
            "text/html": [
              "\n",
              "  <div id=\"df-81a5c84d-b122-48fc-936a-19983a6ce3b1\">\n",
              "    <div class=\"colab-df-container\">\n",
              "      <div>\n",
              "<style scoped>\n",
              "    .dataframe tbody tr th:only-of-type {\n",
              "        vertical-align: middle;\n",
              "    }\n",
              "\n",
              "    .dataframe tbody tr th {\n",
              "        vertical-align: top;\n",
              "    }\n",
              "\n",
              "    .dataframe thead th {\n",
              "        text-align: right;\n",
              "    }\n",
              "</style>\n",
              "<table border=\"1\" class=\"dataframe\">\n",
              "  <thead>\n",
              "    <tr style=\"text-align: right;\">\n",
              "      <th></th>\n",
              "      <th>id</th>\n",
              "      <th>tweet</th>\n",
              "      <th>subtask_b</th>\n",
              "    </tr>\n",
              "  </thead>\n",
              "  <tbody>\n",
              "    <tr>\n",
              "      <th>0</th>\n",
              "      <td>1451</td>\n",
              "      <td>राम कदम वागण्यात नाही तर बोलण्यात चुकला बीजेपी...</td>\n",
              "      <td>TIN</td>\n",
              "    </tr>\n",
              "    <tr>\n",
              "      <th>1</th>\n",
              "      <td>1452</td>\n",
              "      <td>हीच का तुमची शिवसेने चि शिकवण आपली आई म्हणजे द...</td>\n",
              "      <td>TIN</td>\n",
              "    </tr>\n",
              "    <tr>\n",
              "      <th>2</th>\n",
              "      <td>1453</td>\n",
              "      <td>हे वाचा गाढवांनो आणि हे ही सांगा की तुमच्या मॅ...</td>\n",
              "      <td>TIN</td>\n",
              "    </tr>\n",
              "    <tr>\n",
              "      <th>3</th>\n",
              "      <td>1454</td>\n",
              "      <td>भक्त आंधळे असतात मूर्खा ना काही कळत नाही</td>\n",
              "      <td>TIN</td>\n",
              "    </tr>\n",
              "    <tr>\n",
              "      <th>4</th>\n",
              "      <td>1455</td>\n",
              "      <td>१९६६ साली छत्रपती शिवाजी महाराज या जागतिक दर्ज...</td>\n",
              "      <td>TIN</td>\n",
              "    </tr>\n",
              "  </tbody>\n",
              "</table>\n",
              "</div>\n",
              "      <button class=\"colab-df-convert\" onclick=\"convertToInteractive('df-81a5c84d-b122-48fc-936a-19983a6ce3b1')\"\n",
              "              title=\"Convert this dataframe to an interactive table.\"\n",
              "              style=\"display:none;\">\n",
              "        \n",
              "  <svg xmlns=\"http://www.w3.org/2000/svg\" height=\"24px\"viewBox=\"0 0 24 24\"\n",
              "       width=\"24px\">\n",
              "    <path d=\"M0 0h24v24H0V0z\" fill=\"none\"/>\n",
              "    <path d=\"M18.56 5.44l.94 2.06.94-2.06 2.06-.94-2.06-.94-.94-2.06-.94 2.06-2.06.94zm-11 1L8.5 8.5l.94-2.06 2.06-.94-2.06-.94L8.5 2.5l-.94 2.06-2.06.94zm10 10l.94 2.06.94-2.06 2.06-.94-2.06-.94-.94-2.06-.94 2.06-2.06.94z\"/><path d=\"M17.41 7.96l-1.37-1.37c-.4-.4-.92-.59-1.43-.59-.52 0-1.04.2-1.43.59L10.3 9.45l-7.72 7.72c-.78.78-.78 2.05 0 2.83L4 21.41c.39.39.9.59 1.41.59.51 0 1.02-.2 1.41-.59l7.78-7.78 2.81-2.81c.8-.78.8-2.07 0-2.86zM5.41 20L4 18.59l7.72-7.72 1.47 1.35L5.41 20z\"/>\n",
              "  </svg>\n",
              "      </button>\n",
              "      \n",
              "  <style>\n",
              "    .colab-df-container {\n",
              "      display:flex;\n",
              "      flex-wrap:wrap;\n",
              "      gap: 12px;\n",
              "    }\n",
              "\n",
              "    .colab-df-convert {\n",
              "      background-color: #E8F0FE;\n",
              "      border: none;\n",
              "      border-radius: 50%;\n",
              "      cursor: pointer;\n",
              "      display: none;\n",
              "      fill: #1967D2;\n",
              "      height: 32px;\n",
              "      padding: 0 0 0 0;\n",
              "      width: 32px;\n",
              "    }\n",
              "\n",
              "    .colab-df-convert:hover {\n",
              "      background-color: #E2EBFA;\n",
              "      box-shadow: 0px 1px 2px rgba(60, 64, 67, 0.3), 0px 1px 3px 1px rgba(60, 64, 67, 0.15);\n",
              "      fill: #174EA6;\n",
              "    }\n",
              "\n",
              "    [theme=dark] .colab-df-convert {\n",
              "      background-color: #3B4455;\n",
              "      fill: #D2E3FC;\n",
              "    }\n",
              "\n",
              "    [theme=dark] .colab-df-convert:hover {\n",
              "      background-color: #434B5C;\n",
              "      box-shadow: 0px 1px 3px 1px rgba(0, 0, 0, 0.15);\n",
              "      filter: drop-shadow(0px 1px 2px rgba(0, 0, 0, 0.3));\n",
              "      fill: #FFFFFF;\n",
              "    }\n",
              "  </style>\n",
              "\n",
              "      <script>\n",
              "        const buttonEl =\n",
              "          document.querySelector('#df-81a5c84d-b122-48fc-936a-19983a6ce3b1 button.colab-df-convert');\n",
              "        buttonEl.style.display =\n",
              "          google.colab.kernel.accessAllowed ? 'block' : 'none';\n",
              "\n",
              "        async function convertToInteractive(key) {\n",
              "          const element = document.querySelector('#df-81a5c84d-b122-48fc-936a-19983a6ce3b1');\n",
              "          const dataTable =\n",
              "            await google.colab.kernel.invokeFunction('convertToInteractive',\n",
              "                                                     [key], {});\n",
              "          if (!dataTable) return;\n",
              "\n",
              "          const docLinkHtml = 'Like what you see? Visit the ' +\n",
              "            '<a target=\"_blank\" href=https://colab.research.google.com/notebooks/data_table.ipynb>data table notebook</a>'\n",
              "            + ' to learn more about interactive tables.';\n",
              "          element.innerHTML = '';\n",
              "          dataTable['output_type'] = 'display_data';\n",
              "          await google.colab.output.renderOutput(dataTable, element);\n",
              "          const docLink = document.createElement('div');\n",
              "          docLink.innerHTML = docLinkHtml;\n",
              "          element.appendChild(docLink);\n",
              "        }\n",
              "      </script>\n",
              "    </div>\n",
              "  </div>\n",
              "  "
            ]
          },
          "metadata": {},
          "execution_count": 83
        }
      ],
      "source": [
        "trainb = pd.read_csv('/content/drive/MyDrive/ML_text_processing/MOLD_SPLIT/subtask_b1.tsv','\\t',skiprows=1,names=['id','tweet','subtask_b'])\n",
        "trainb.head()"
      ]
    },
    {
      "cell_type": "code",
      "execution_count": null,
      "metadata": {
        "id": "ASMeZMgERl8k"
      },
      "outputs": [],
      "source": [
        "trainb['encoded_b'] = le.fit_transform(trainb['subtask_b'].astype(str))"
      ]
    },
    {
      "cell_type": "code",
      "execution_count": null,
      "metadata": {
        "colab": {
          "base_uri": "https://localhost:8080/",
          "height": 206
        },
        "id": "o8G92sjgRmWw",
        "outputId": "0b276cd1-66aa-477f-d3ec-881ab1254b53"
      },
      "outputs": [
        {
          "output_type": "execute_result",
          "data": {
            "text/plain": [
              "     id                                              tweet subtask_b  \\\n",
              "0  1451  राम कदम वागण्यात नाही तर बोलण्यात चुकला बीजेपी...       TIN   \n",
              "1  1452  हीच का तुमची शिवसेने चि शिकवण आपली आई म्हणजे द...       TIN   \n",
              "2  1453  हे वाचा गाढवांनो आणि हे ही सांगा की तुमच्या मॅ...       TIN   \n",
              "3  1454           भक्त आंधळे असतात मूर्खा ना काही कळत नाही       TIN   \n",
              "4  1455  १९६६ साली छत्रपती शिवाजी महाराज या जागतिक दर्ज...       TIN   \n",
              "\n",
              "   encoded_b  \n",
              "0          0  \n",
              "1          0  \n",
              "2          0  \n",
              "3          0  \n",
              "4          0  "
            ],
            "text/html": [
              "\n",
              "  <div id=\"df-1dbd0e49-1493-4e2d-b8d4-877cbeaaae99\">\n",
              "    <div class=\"colab-df-container\">\n",
              "      <div>\n",
              "<style scoped>\n",
              "    .dataframe tbody tr th:only-of-type {\n",
              "        vertical-align: middle;\n",
              "    }\n",
              "\n",
              "    .dataframe tbody tr th {\n",
              "        vertical-align: top;\n",
              "    }\n",
              "\n",
              "    .dataframe thead th {\n",
              "        text-align: right;\n",
              "    }\n",
              "</style>\n",
              "<table border=\"1\" class=\"dataframe\">\n",
              "  <thead>\n",
              "    <tr style=\"text-align: right;\">\n",
              "      <th></th>\n",
              "      <th>id</th>\n",
              "      <th>tweet</th>\n",
              "      <th>subtask_b</th>\n",
              "      <th>encoded_b</th>\n",
              "    </tr>\n",
              "  </thead>\n",
              "  <tbody>\n",
              "    <tr>\n",
              "      <th>0</th>\n",
              "      <td>1451</td>\n",
              "      <td>राम कदम वागण्यात नाही तर बोलण्यात चुकला बीजेपी...</td>\n",
              "      <td>TIN</td>\n",
              "      <td>0</td>\n",
              "    </tr>\n",
              "    <tr>\n",
              "      <th>1</th>\n",
              "      <td>1452</td>\n",
              "      <td>हीच का तुमची शिवसेने चि शिकवण आपली आई म्हणजे द...</td>\n",
              "      <td>TIN</td>\n",
              "      <td>0</td>\n",
              "    </tr>\n",
              "    <tr>\n",
              "      <th>2</th>\n",
              "      <td>1453</td>\n",
              "      <td>हे वाचा गाढवांनो आणि हे ही सांगा की तुमच्या मॅ...</td>\n",
              "      <td>TIN</td>\n",
              "      <td>0</td>\n",
              "    </tr>\n",
              "    <tr>\n",
              "      <th>3</th>\n",
              "      <td>1454</td>\n",
              "      <td>भक्त आंधळे असतात मूर्खा ना काही कळत नाही</td>\n",
              "      <td>TIN</td>\n",
              "      <td>0</td>\n",
              "    </tr>\n",
              "    <tr>\n",
              "      <th>4</th>\n",
              "      <td>1455</td>\n",
              "      <td>१९६६ साली छत्रपती शिवाजी महाराज या जागतिक दर्ज...</td>\n",
              "      <td>TIN</td>\n",
              "      <td>0</td>\n",
              "    </tr>\n",
              "  </tbody>\n",
              "</table>\n",
              "</div>\n",
              "      <button class=\"colab-df-convert\" onclick=\"convertToInteractive('df-1dbd0e49-1493-4e2d-b8d4-877cbeaaae99')\"\n",
              "              title=\"Convert this dataframe to an interactive table.\"\n",
              "              style=\"display:none;\">\n",
              "        \n",
              "  <svg xmlns=\"http://www.w3.org/2000/svg\" height=\"24px\"viewBox=\"0 0 24 24\"\n",
              "       width=\"24px\">\n",
              "    <path d=\"M0 0h24v24H0V0z\" fill=\"none\"/>\n",
              "    <path d=\"M18.56 5.44l.94 2.06.94-2.06 2.06-.94-2.06-.94-.94-2.06-.94 2.06-2.06.94zm-11 1L8.5 8.5l.94-2.06 2.06-.94-2.06-.94L8.5 2.5l-.94 2.06-2.06.94zm10 10l.94 2.06.94-2.06 2.06-.94-2.06-.94-.94-2.06-.94 2.06-2.06.94z\"/><path d=\"M17.41 7.96l-1.37-1.37c-.4-.4-.92-.59-1.43-.59-.52 0-1.04.2-1.43.59L10.3 9.45l-7.72 7.72c-.78.78-.78 2.05 0 2.83L4 21.41c.39.39.9.59 1.41.59.51 0 1.02-.2 1.41-.59l7.78-7.78 2.81-2.81c.8-.78.8-2.07 0-2.86zM5.41 20L4 18.59l7.72-7.72 1.47 1.35L5.41 20z\"/>\n",
              "  </svg>\n",
              "      </button>\n",
              "      \n",
              "  <style>\n",
              "    .colab-df-container {\n",
              "      display:flex;\n",
              "      flex-wrap:wrap;\n",
              "      gap: 12px;\n",
              "    }\n",
              "\n",
              "    .colab-df-convert {\n",
              "      background-color: #E8F0FE;\n",
              "      border: none;\n",
              "      border-radius: 50%;\n",
              "      cursor: pointer;\n",
              "      display: none;\n",
              "      fill: #1967D2;\n",
              "      height: 32px;\n",
              "      padding: 0 0 0 0;\n",
              "      width: 32px;\n",
              "    }\n",
              "\n",
              "    .colab-df-convert:hover {\n",
              "      background-color: #E2EBFA;\n",
              "      box-shadow: 0px 1px 2px rgba(60, 64, 67, 0.3), 0px 1px 3px 1px rgba(60, 64, 67, 0.15);\n",
              "      fill: #174EA6;\n",
              "    }\n",
              "\n",
              "    [theme=dark] .colab-df-convert {\n",
              "      background-color: #3B4455;\n",
              "      fill: #D2E3FC;\n",
              "    }\n",
              "\n",
              "    [theme=dark] .colab-df-convert:hover {\n",
              "      background-color: #434B5C;\n",
              "      box-shadow: 0px 1px 3px 1px rgba(0, 0, 0, 0.15);\n",
              "      filter: drop-shadow(0px 1px 2px rgba(0, 0, 0, 0.3));\n",
              "      fill: #FFFFFF;\n",
              "    }\n",
              "  </style>\n",
              "\n",
              "      <script>\n",
              "        const buttonEl =\n",
              "          document.querySelector('#df-1dbd0e49-1493-4e2d-b8d4-877cbeaaae99 button.colab-df-convert');\n",
              "        buttonEl.style.display =\n",
              "          google.colab.kernel.accessAllowed ? 'block' : 'none';\n",
              "\n",
              "        async function convertToInteractive(key) {\n",
              "          const element = document.querySelector('#df-1dbd0e49-1493-4e2d-b8d4-877cbeaaae99');\n",
              "          const dataTable =\n",
              "            await google.colab.kernel.invokeFunction('convertToInteractive',\n",
              "                                                     [key], {});\n",
              "          if (!dataTable) return;\n",
              "\n",
              "          const docLinkHtml = 'Like what you see? Visit the ' +\n",
              "            '<a target=\"_blank\" href=https://colab.research.google.com/notebooks/data_table.ipynb>data table notebook</a>'\n",
              "            + ' to learn more about interactive tables.';\n",
              "          element.innerHTML = '';\n",
              "          dataTable['output_type'] = 'display_data';\n",
              "          await google.colab.output.renderOutput(dataTable, element);\n",
              "          const docLink = document.createElement('div');\n",
              "          docLink.innerHTML = docLinkHtml;\n",
              "          element.appendChild(docLink);\n",
              "        }\n",
              "      </script>\n",
              "    </div>\n",
              "  </div>\n",
              "  "
            ]
          },
          "metadata": {},
          "execution_count": 85
        }
      ],
      "source": [
        "trainb.head()"
      ]
    },
    {
      "cell_type": "code",
      "execution_count": null,
      "metadata": {
        "colab": {
          "base_uri": "https://localhost:8080/"
        },
        "id": "9cAOByIARmiW",
        "outputId": "af2550e8-0649-49f2-a2e5-3f9216fcff4a"
      },
      "outputs": [
        {
          "output_type": "stream",
          "name": "stdout",
          "text": [
            "      id label                                              tweet\n",
            "12    12   OFF  मग चला सुरू करूया मी पाहिलं वाक्य टाकतो काळोख ...\n",
            "28    28   OFF  दाऊद कडून कॉल आल्यानंतर उद्धव ठाकरे स्वतःच्या ...\n",
            "37    37   OFF  अरे मुर्खा निर्यात वाढली की शेतकरी ला पैसे मिळ...\n",
            "48    48   OFF  मराठी भय्या ज्या देशाला राष्ट्रभाषा नाही आणि र...\n",
            "52    52   OFF  कोरोनाच्या कॉलर ट्यूननंतर आता ह्या च्या जाहिरा...\n",
            "..   ...   ...                                                ...\n",
            "505  505   OFF  चायला  हा मराठीत कधी पासून ट्विट करायला लागला ...\n",
            "506  506   OFF  मदत तातडीने द्यायला हवी  महिने अधिकारी गोट्या ...\n",
            "507  507   OFF  @USER @USER @USER @USER @USER रंगा बिल्ला ने श...\n",
            "508  508   OFF  @USER काही लोकं अजूनही म्हणतात की पूर आल्यावर ...\n",
            "509  509   OFF             @USER सगळ्यात जास्त वास मारणारी पुच्ची\n",
            "\n",
            "[271 rows x 3 columns]\n"
          ]
        }
      ],
      "source": [
        "submission['tweet']=test['tweet']\n",
        "testb = submission[submission['label'] != 'NOT']\n",
        "print(testb)"
      ]
    },
    {
      "cell_type": "code",
      "execution_count": null,
      "metadata": {
        "id": "GY8EnlegRmrx"
      },
      "outputs": [],
      "source": [
        "x_train=trainb['tweet']\n",
        "y_train=trainb['encoded_b']\n",
        "x_train=x_train.replace(np.nan,\"\")\n",
        "x_test=testb['tweet']\n",
        "x_test=x_test.replace(np.nan,\"\")\n",
        "x_train = vectorizer.fit_transform(x_train)\n",
        "x_test=vectorizer.transform(x_test)"
      ]
    },
    {
      "cell_type": "code",
      "execution_count": null,
      "metadata": {
        "colab": {
          "base_uri": "https://localhost:8080/"
        },
        "id": "cHH3TxUIRm2b",
        "outputId": "13bf40e4-0121-4829-eadd-384d1313c282"
      },
      "outputs": [
        {
          "output_type": "execute_result",
          "data": {
            "text/plain": [
              "RandomForestRegressor(random_state=7)"
            ]
          },
          "metadata": {},
          "execution_count": 88
        }
      ],
      "source": [
        "regressor.fit(x_train, y_train)"
      ]
    },
    {
      "cell_type": "code",
      "execution_count": null,
      "metadata": {
        "id": "cO4nQR0tRm5C"
      },
      "outputs": [],
      "source": [
        "y_predb = regressor.predict(x_test)"
      ]
    },
    {
      "cell_type": "code",
      "source": [
        "y_predb"
      ],
      "metadata": {
        "colab": {
          "base_uri": "https://localhost:8080/"
        },
        "id": "L0hkvxoX0M8V",
        "outputId": "16d17d4b-aeb1-4606-9609-652d03cbc091"
      },
      "execution_count": null,
      "outputs": [
        {
          "output_type": "execute_result",
          "data": {
            "text/plain": [
              "array([0.32333333, 0.64      , 0.26      , 0.68      , 0.69      ,\n",
              "       0.18      , 0.27      , 0.1       , 0.27      , 0.63      ,\n",
              "       0.33      , 0.26      , 0.03      , 0.07      , 0.03      ,\n",
              "       0.15      , 0.1       , 0.11      , 0.15      , 0.04      ,\n",
              "       0.14      , 0.42      , 0.14      , 0.08      , 0.26119048,\n",
              "       0.06      , 0.02      , 0.19      , 0.25      , 0.416     ,\n",
              "       0.06      , 0.2       , 0.23      , 0.32      , 0.08      ,\n",
              "       0.03      , 0.14      , 0.24      , 0.15      , 0.01      ,\n",
              "       0.26      , 0.12      , 0.2       , 0.2       , 0.08      ,\n",
              "       0.14      , 0.06      , 0.17      , 0.07      , 0.21      ,\n",
              "       0.05      , 0.06      , 0.02      , 0.17      , 0.        ,\n",
              "       0.05      , 0.11      , 0.03      , 0.13666667, 0.15      ,\n",
              "       0.11      , 0.26      , 0.05      , 0.73      , 0.89      ,\n",
              "       0.91      , 0.77      , 0.78      , 0.8       , 0.73      ,\n",
              "       0.68      , 0.78      , 0.86      , 0.7       , 0.8       ,\n",
              "       0.84      , 0.73      , 0.71      , 0.85      , 0.88      ,\n",
              "       0.81      , 0.84      , 0.78      , 0.45666667, 0.7       ,\n",
              "       0.85      , 0.7275    , 0.66      , 0.64      , 0.76      ,\n",
              "       0.8       , 0.82      , 0.9       , 0.95      , 0.82      ,\n",
              "       0.8       , 0.81666667, 0.75      , 0.72      , 0.87      ,\n",
              "       0.76      , 0.73      , 0.74      , 0.79      , 0.69      ,\n",
              "       0.71      , 0.73333333, 0.75666667, 0.76      , 0.67      ,\n",
              "       0.74      , 0.89      , 0.83      , 0.7       , 0.14      ,\n",
              "       0.06      , 0.16      , 0.03      , 0.04      , 0.09      ,\n",
              "       0.03      , 0.03      , 0.19      , 0.06      , 0.02      ,\n",
              "       0.09      , 0.06      , 0.02      , 0.08      , 0.21      ,\n",
              "       0.01      , 0.03      , 0.18      , 0.02      , 0.05      ,\n",
              "       0.09      , 0.1       , 0.09      , 0.03      , 0.17      ,\n",
              "       0.05      , 0.2       , 0.13      , 0.03      , 0.12      ,\n",
              "       0.53535714, 0.17      , 0.03      , 0.04      , 0.06      ,\n",
              "       0.01      , 0.07      , 0.02      , 0.03      , 0.19      ,\n",
              "       0.04      , 0.15      , 0.03      , 0.07      , 0.13      ,\n",
              "       0.12      , 0.09      , 0.1       , 0.07      , 0.01      ,\n",
              "       0.15      , 0.14      , 0.18      , 0.08      , 0.17      ,\n",
              "       0.17      , 0.01      , 0.09      , 0.27      , 0.16      ,\n",
              "       0.09      , 0.1       , 0.09      , 0.02      , 0.05      ,\n",
              "       0.08      , 0.1       , 0.1       , 0.16      , 0.1       ,\n",
              "       0.11      , 0.08      , 0.12      , 0.05      , 0.06      ,\n",
              "       0.27      , 0.09      , 0.05      , 0.105     , 0.05      ,\n",
              "       0.12      , 0.15      , 0.27      , 0.18      , 0.        ,\n",
              "       0.01      , 0.2       , 0.09      , 0.26      , 0.02      ,\n",
              "       0.13      , 0.2       , 0.        , 0.16      , 0.12      ,\n",
              "       0.1125    , 0.05      , 0.05      , 0.15      , 0.45666667,\n",
              "       0.08      , 0.08      , 0.07      , 0.08      , 0.05      ,\n",
              "       0.18      , 0.77      , 0.77      , 0.67      , 0.9       ,\n",
              "       0.76      , 0.93      , 0.74      , 0.8       , 0.92      ,\n",
              "       0.9       , 0.85      , 0.71      , 0.71      , 0.68      ,\n",
              "       0.755     , 0.81      , 0.89      , 0.83      , 0.53133333,\n",
              "       0.79      , 0.91      , 0.86333333, 0.81      , 0.76      ,\n",
              "       0.74      , 0.81      , 0.73      , 0.85      , 0.78      ,\n",
              "       0.89      , 0.92      , 0.93      , 0.84      , 0.85      ,\n",
              "       0.65      , 0.75      , 0.7       , 0.77      , 0.71      ,\n",
              "       0.65      , 0.73      , 0.84      , 0.82      , 0.81      ,\n",
              "       0.91      , 0.92      , 0.86      , 0.78      , 0.79      ,\n",
              "       0.75      ])"
            ]
          },
          "metadata": {},
          "execution_count": 90
        }
      ]
    },
    {
      "cell_type": "code",
      "source": [
        "import math\n",
        "pred=[]\n",
        "for i in range(len(y_predb)):\n",
        " pred.append(int(y_pred[i].round()))\n",
        "pred=le.inverse_transform(pred)\n"
      ],
      "metadata": {
        "id": "t5FzEOoesGZY"
      },
      "execution_count": null,
      "outputs": []
    },
    {
      "cell_type": "code",
      "source": [
        "pred"
      ],
      "metadata": {
        "colab": {
          "base_uri": "https://localhost:8080/"
        },
        "id": "OVFK3z2z0X9w",
        "outputId": "5227a588-3559-43ed-d3d3-87aa3b1e58ed"
      },
      "execution_count": null,
      "outputs": [
        {
          "output_type": "execute_result",
          "data": {
            "text/plain": [
              "array(['TIN', 'TIN', 'TIN', 'TIN', 'TIN', 'TIN', 'TIN', 'TIN', 'TIN',\n",
              "       'TIN', 'TIN', 'TIN', 'UNT', 'TIN', 'TIN', 'TIN', 'TIN', 'TIN',\n",
              "       'TIN', 'TIN', 'TIN', 'TIN', 'TIN', 'TIN', 'TIN', 'TIN', 'TIN',\n",
              "       'TIN', 'UNT', 'TIN', 'TIN', 'TIN', 'TIN', 'TIN', 'TIN', 'TIN',\n",
              "       'TIN', 'UNT', 'TIN', 'TIN', 'TIN', 'TIN', 'TIN', 'TIN', 'TIN',\n",
              "       'TIN', 'TIN', 'TIN', 'UNT', 'TIN', 'TIN', 'TIN', 'UNT', 'TIN',\n",
              "       'TIN', 'TIN', 'TIN', 'TIN', 'TIN', 'TIN', 'TIN', 'TIN', 'TIN',\n",
              "       'TIN', 'TIN', 'TIN', 'TIN', 'TIN', 'TIN', 'TIN', 'TIN', 'TIN',\n",
              "       'TIN', 'TIN', 'TIN', 'TIN', 'TIN', 'TIN', 'TIN', 'TIN', 'UNT',\n",
              "       'UNT', 'TIN', 'TIN', 'TIN', 'TIN', 'TIN', 'TIN', 'TIN', 'TIN',\n",
              "       'TIN', 'TIN', 'TIN', 'TIN', 'TIN', 'TIN', 'TIN', 'TIN', 'UNT',\n",
              "       'TIN', 'TIN', 'TIN', 'TIN', 'TIN', 'TIN', 'TIN', 'TIN', 'TIN',\n",
              "       'TIN', 'TIN', 'TIN', 'TIN', 'TIN', 'TIN', 'TIN', 'TIN', 'TIN',\n",
              "       'TIN', 'TIN', 'TIN', 'TIN', 'TIN', 'TIN', 'TIN', 'TIN', 'TIN',\n",
              "       'TIN', 'TIN', 'TIN', 'TIN', 'TIN', 'TIN', 'TIN', 'TIN', 'TIN',\n",
              "       'TIN', 'TIN', 'TIN', 'TIN', 'TIN', 'TIN', 'TIN', 'TIN', 'TIN',\n",
              "       'TIN', 'UNT', 'TIN', 'TIN', 'TIN', 'TIN', 'TIN', 'TIN', 'TIN',\n",
              "       'TIN', 'TIN', 'TIN', 'TIN', 'TIN', 'TIN', 'TIN', 'TIN', 'TIN',\n",
              "       'TIN', 'UNT', 'TIN', 'TIN', 'TIN', 'TIN', 'TIN', 'TIN', 'TIN',\n",
              "       'TIN', 'TIN', 'TIN', 'TIN', 'TIN', 'TIN', 'TIN', 'TIN', 'TIN',\n",
              "       'TIN', 'TIN', 'TIN', 'TIN', 'TIN', 'TIN', 'TIN', 'TIN', 'TIN',\n",
              "       'TIN', 'UNT', 'TIN', 'TIN', 'TIN', 'TIN', 'TIN', 'TIN', 'TIN',\n",
              "       'TIN', 'TIN', 'TIN', 'TIN', 'TIN', 'TIN', 'TIN', 'TIN', 'TIN',\n",
              "       'TIN', 'TIN', 'UNT', 'TIN', 'TIN', 'TIN', 'TIN', 'TIN', 'TIN',\n",
              "       'TIN', 'TIN', 'TIN', 'TIN', 'TIN', 'TIN', 'TIN', 'TIN', 'TIN',\n",
              "       'TIN', 'TIN', 'TIN', 'TIN', 'TIN', 'TIN', 'TIN', 'TIN', 'TIN',\n",
              "       'TIN', 'TIN', 'TIN', 'TIN', 'TIN', 'TIN', 'TIN', 'TIN', 'TIN',\n",
              "       'TIN', 'TIN', 'TIN', 'TIN', 'TIN', 'TIN', 'TIN', 'UNT', 'UNT',\n",
              "       'UNT', 'UNT', 'UNT', 'UNT', 'UNT', 'UNT', 'UNT', 'UNT', 'UNT',\n",
              "       'UNT', 'UNT', 'UNT', 'UNT', 'UNT', 'UNT', 'UNT', 'UNT', 'UNT',\n",
              "       'UNT'], dtype=object)"
            ]
          },
          "metadata": {},
          "execution_count": 92
        }
      ]
    },
    {
      "cell_type": "code",
      "source": [
        "submissionb = pd.DataFrame()\n",
        "submissionb['id'] = testb['id']\n",
        "submissionb['label'] = pred\n",
        "sub_temp=submissionb\n",
        "for i in null_list:\n",
        "  submissionb=submissionb.append({'id' : int(i),'label' : None} , ignore_index=True)\n",
        "submissionb=submissionb.sort_values(by=['id'])\n",
        "submissionb['id']=submission.index\n",
        "submissionb.to_csv('/content/drive/MyDrive/ML_text_processing/MOLD_SPLIT/taskb1_sub1.csv',index= False)"
      ],
      "metadata": {
        "id": "o2DCevIJsPZy"
      },
      "execution_count": null,
      "outputs": []
    },
    {
      "cell_type": "code",
      "source": [
        "submissionb.index=submission.index\n",
        "submissionb.head()\n",
        "submissionb['tweet']=test['tweet']\n",
        "print(submissionb.index)\n",
        "print(submissionb['tweet'])"
      ],
      "metadata": {
        "colab": {
          "base_uri": "https://localhost:8080/"
        },
        "id": "b5XzFL0KtgED",
        "outputId": "413b3661-2325-4aec-f2b2-4c3dbcb4dd65"
      },
      "execution_count": null,
      "outputs": [
        {
          "output_type": "stream",
          "name": "stdout",
          "text": [
            "RangeIndex(start=0, stop=510, step=1)\n",
            "0      पूर्व लडाखमधील मुखपरी येथे प्रत्यक्ष ताबारेषेज...\n",
            "1      कोणत्याही  रिलेशनशिप मध्ये सुंदर दिसणं खूप महत...\n",
            "2      भारत  ऑगस्ट  ला स्वतंत्र झाला आणि त्यानंतर तब्...\n",
            "3      स्वत ला हवा तसा बाइट किंवा प्रतिक्रिया घेण्यास...\n",
            "4      व्या नंबरची अर्थव्यवस्था आहे भारताची जगात  पर्...\n",
            "                             ...                        \n",
            "505    चायला  हा मराठीत कधी पासून ट्विट करायला लागला ...\n",
            "506    मदत तातडीने द्यायला हवी  महिने अधिकारी गोट्या ...\n",
            "507    @USER @USER @USER @USER @USER रंगा बिल्ला ने श...\n",
            "508    @USER काही लोकं अजूनही म्हणतात की पूर आल्यावर ...\n",
            "509               @USER सगळ्यात जास्त वास मारणारी पुच्ची\n",
            "Name: tweet, Length: 510, dtype: object\n"
          ]
        }
      ]
    },
    {
      "cell_type": "code",
      "source": [
        "null_list1=[]\n",
        "null_list1=submissionb.index[submissionb['label'] == \"UNT\"].tolist()\n",
        "print(null_list1)\n",
        "print(len(null_list1))"
      ],
      "metadata": {
        "colab": {
          "base_uri": "https://localhost:8080/"
        },
        "id": "ZCewkxk8zhFw",
        "outputId": "1c8d399b-a12b-499a-b596-05d7373a378f"
      },
      "execution_count": null,
      "outputs": [
        {
          "output_type": "stream",
          "name": "stdout",
          "text": [
            "[250, 266, 275, 286, 290, 318, 319, 336, 383, 401, 428, 447, 489, 490, 491, 492, 493, 494, 495, 496, 497, 498, 499, 500, 501, 502, 503, 504, 505, 506, 507, 508, 509]\n",
            "33\n"
          ]
        }
      ]
    },
    {
      "cell_type": "code",
      "source": [
        "\n",
        "for i in null_list1:\n",
        "  null_list.append(i)\n",
        "null_list =list(set(null_list))\n"
      ],
      "metadata": {
        "id": "Sllm74SiBBg2"
      },
      "execution_count": null,
      "outputs": []
    },
    {
      "cell_type": "code",
      "source": [
        "print(null_list)"
      ],
      "metadata": {
        "colab": {
          "base_uri": "https://localhost:8080/"
        },
        "id": "1sUCKdW6GIXG",
        "outputId": "0b81e88b-e548-40e9-a222-139652bdd63b"
      },
      "execution_count": null,
      "outputs": [
        {
          "output_type": "stream",
          "name": "stdout",
          "text": [
            "[0, 1, 2, 3, 4, 5, 6, 7, 8, 9, 10, 11, 13, 14, 15, 16, 17, 18, 19, 20, 21, 22, 23, 24, 25, 26, 27, 29, 30, 31, 32, 33, 34, 35, 36, 38, 39, 40, 41, 42, 43, 44, 45, 46, 47, 49, 50, 51, 53, 54, 55, 56, 57, 58, 59, 60, 61, 62, 63, 64, 65, 66, 67, 68, 69, 70, 71, 72, 73, 74, 75, 76, 77, 78, 79, 82, 83, 84, 85, 86, 87, 88, 89, 90, 91, 92, 93, 94, 95, 96, 97, 99, 100, 101, 102, 103, 104, 105, 106, 107, 108, 109, 110, 111, 112, 113, 114, 115, 116, 117, 118, 119, 120, 121, 122, 123, 124, 125, 126, 127, 128, 129, 130, 131, 132, 133, 134, 135, 136, 137, 138, 139, 140, 141, 142, 143, 144, 146, 147, 148, 149, 150, 151, 152, 153, 154, 155, 156, 157, 158, 159, 160, 161, 162, 164, 165, 166, 167, 168, 169, 170, 171, 172, 173, 174, 175, 176, 177, 178, 179, 180, 181, 182, 183, 184, 185, 186, 187, 188, 189, 191, 192, 193, 194, 195, 196, 197, 198, 199, 200, 201, 202, 203, 204, 205, 206, 207, 208, 210, 211, 212, 213, 214, 215, 216, 217, 218, 219, 220, 221, 222, 223, 224, 225, 226, 227, 228, 229, 230, 231, 232, 233, 234, 235, 236, 237, 238, 239, 240, 241, 242, 243, 244, 245, 246, 247, 248, 249, 250, 266, 275, 286, 290, 318, 319, 336, 383, 401, 428, 447, 478, 489, 490, 491, 492, 493, 494, 495, 496, 497, 498, 499, 500, 501, 502, 503, 504, 505, 506, 507, 508, 509]\n"
          ]
        }
      ]
    },
    {
      "cell_type": "code",
      "source": [
        "testc = submissionb[submissionb['label'] != 'UNT']\n",
        "testc=testc.dropna()\n",
        "print(testc)"
      ],
      "metadata": {
        "colab": {
          "base_uri": "https://localhost:8080/"
        },
        "id": "AwjdDR4c2aLu",
        "outputId": "c4715564-18b6-43f7-f007-77e846162211"
      },
      "execution_count": null,
      "outputs": [
        {
          "output_type": "stream",
          "name": "stdout",
          "text": [
            "      id label                                              tweet\n",
            "12    12   TIN  मग चला सुरू करूया मी पाहिलं वाक्य टाकतो काळोख ...\n",
            "28    28   TIN  दाऊद कडून कॉल आल्यानंतर उद्धव ठाकरे स्वतःच्या ...\n",
            "37    37   TIN  अरे मुर्खा निर्यात वाढली की शेतकरी ला पैसे मिळ...\n",
            "48    48   TIN  मराठी भय्या ज्या देशाला राष्ट्रभाषा नाही आणि र...\n",
            "52    52   TIN  कोरोनाच्या कॉलर ट्यूननंतर आता ह्या च्या जाहिरा...\n",
            "..   ...   ...                                                ...\n",
            "484  484   TIN  @USER @USER @USER लाज वाटत होती पंढरी गेली पण ...\n",
            "485  485   TIN   @USER @USER भेंचो नालायक पणाची लिमीटच नाय राहिली\n",
            "486  486   TIN                           @USER @USER थुक्क नालायक\n",
            "487  487   TIN  नरेंद्रमोदीग्लोबलपप्पूहै देशातील लोकं अभावी मर...\n",
            "488  488   TIN  @USER @USER @USER प्रचारावेळी होणारी गर्दीवेळी...\n",
            "\n",
            "[238 rows x 3 columns]\n"
          ]
        }
      ]
    },
    {
      "cell_type": "code",
      "execution_count": null,
      "metadata": {
        "colab": {
          "base_uri": "https://localhost:8080/",
          "height": 206
        },
        "id": "zpYEqa24q5V1",
        "outputId": "204ffca7-bac2-40e8-fe04-14c93fc99371"
      },
      "outputs": [
        {
          "output_type": "execute_result",
          "data": {
            "text/plain": [
              "     id                                              tweet subtask_c\n",
              "0  1451  राम कदम वागण्यात नाही तर बोलण्यात चुकला बीजेपी...       GRP\n",
              "1  1452  हीच का तुमची शिवसेने चि शिकवण आपली आई म्हणजे द...       GRP\n",
              "2  1453  हे वाचा गाढवांनो आणि हे ही सांगा की तुमच्या मॅ...       GRP\n",
              "3  1454           भक्त आंधळे असतात मूर्खा ना काही कळत नाही       GRP\n",
              "4  1455  १९६६ साली छत्रपती शिवाजी महाराज या जागतिक दर्ज...       GRP"
            ],
            "text/html": [
              "\n",
              "  <div id=\"df-d3e25bff-4d8f-4ea8-92cc-31e62f01174c\">\n",
              "    <div class=\"colab-df-container\">\n",
              "      <div>\n",
              "<style scoped>\n",
              "    .dataframe tbody tr th:only-of-type {\n",
              "        vertical-align: middle;\n",
              "    }\n",
              "\n",
              "    .dataframe tbody tr th {\n",
              "        vertical-align: top;\n",
              "    }\n",
              "\n",
              "    .dataframe thead th {\n",
              "        text-align: right;\n",
              "    }\n",
              "</style>\n",
              "<table border=\"1\" class=\"dataframe\">\n",
              "  <thead>\n",
              "    <tr style=\"text-align: right;\">\n",
              "      <th></th>\n",
              "      <th>id</th>\n",
              "      <th>tweet</th>\n",
              "      <th>subtask_c</th>\n",
              "    </tr>\n",
              "  </thead>\n",
              "  <tbody>\n",
              "    <tr>\n",
              "      <th>0</th>\n",
              "      <td>1451</td>\n",
              "      <td>राम कदम वागण्यात नाही तर बोलण्यात चुकला बीजेपी...</td>\n",
              "      <td>GRP</td>\n",
              "    </tr>\n",
              "    <tr>\n",
              "      <th>1</th>\n",
              "      <td>1452</td>\n",
              "      <td>हीच का तुमची शिवसेने चि शिकवण आपली आई म्हणजे द...</td>\n",
              "      <td>GRP</td>\n",
              "    </tr>\n",
              "    <tr>\n",
              "      <th>2</th>\n",
              "      <td>1453</td>\n",
              "      <td>हे वाचा गाढवांनो आणि हे ही सांगा की तुमच्या मॅ...</td>\n",
              "      <td>GRP</td>\n",
              "    </tr>\n",
              "    <tr>\n",
              "      <th>3</th>\n",
              "      <td>1454</td>\n",
              "      <td>भक्त आंधळे असतात मूर्खा ना काही कळत नाही</td>\n",
              "      <td>GRP</td>\n",
              "    </tr>\n",
              "    <tr>\n",
              "      <th>4</th>\n",
              "      <td>1455</td>\n",
              "      <td>१९६६ साली छत्रपती शिवाजी महाराज या जागतिक दर्ज...</td>\n",
              "      <td>GRP</td>\n",
              "    </tr>\n",
              "  </tbody>\n",
              "</table>\n",
              "</div>\n",
              "      <button class=\"colab-df-convert\" onclick=\"convertToInteractive('df-d3e25bff-4d8f-4ea8-92cc-31e62f01174c')\"\n",
              "              title=\"Convert this dataframe to an interactive table.\"\n",
              "              style=\"display:none;\">\n",
              "        \n",
              "  <svg xmlns=\"http://www.w3.org/2000/svg\" height=\"24px\"viewBox=\"0 0 24 24\"\n",
              "       width=\"24px\">\n",
              "    <path d=\"M0 0h24v24H0V0z\" fill=\"none\"/>\n",
              "    <path d=\"M18.56 5.44l.94 2.06.94-2.06 2.06-.94-2.06-.94-.94-2.06-.94 2.06-2.06.94zm-11 1L8.5 8.5l.94-2.06 2.06-.94-2.06-.94L8.5 2.5l-.94 2.06-2.06.94zm10 10l.94 2.06.94-2.06 2.06-.94-2.06-.94-.94-2.06-.94 2.06-2.06.94z\"/><path d=\"M17.41 7.96l-1.37-1.37c-.4-.4-.92-.59-1.43-.59-.52 0-1.04.2-1.43.59L10.3 9.45l-7.72 7.72c-.78.78-.78 2.05 0 2.83L4 21.41c.39.39.9.59 1.41.59.51 0 1.02-.2 1.41-.59l7.78-7.78 2.81-2.81c.8-.78.8-2.07 0-2.86zM5.41 20L4 18.59l7.72-7.72 1.47 1.35L5.41 20z\"/>\n",
              "  </svg>\n",
              "      </button>\n",
              "      \n",
              "  <style>\n",
              "    .colab-df-container {\n",
              "      display:flex;\n",
              "      flex-wrap:wrap;\n",
              "      gap: 12px;\n",
              "    }\n",
              "\n",
              "    .colab-df-convert {\n",
              "      background-color: #E8F0FE;\n",
              "      border: none;\n",
              "      border-radius: 50%;\n",
              "      cursor: pointer;\n",
              "      display: none;\n",
              "      fill: #1967D2;\n",
              "      height: 32px;\n",
              "      padding: 0 0 0 0;\n",
              "      width: 32px;\n",
              "    }\n",
              "\n",
              "    .colab-df-convert:hover {\n",
              "      background-color: #E2EBFA;\n",
              "      box-shadow: 0px 1px 2px rgba(60, 64, 67, 0.3), 0px 1px 3px 1px rgba(60, 64, 67, 0.15);\n",
              "      fill: #174EA6;\n",
              "    }\n",
              "\n",
              "    [theme=dark] .colab-df-convert {\n",
              "      background-color: #3B4455;\n",
              "      fill: #D2E3FC;\n",
              "    }\n",
              "\n",
              "    [theme=dark] .colab-df-convert:hover {\n",
              "      background-color: #434B5C;\n",
              "      box-shadow: 0px 1px 3px 1px rgba(0, 0, 0, 0.15);\n",
              "      filter: drop-shadow(0px 1px 2px rgba(0, 0, 0, 0.3));\n",
              "      fill: #FFFFFF;\n",
              "    }\n",
              "  </style>\n",
              "\n",
              "      <script>\n",
              "        const buttonEl =\n",
              "          document.querySelector('#df-d3e25bff-4d8f-4ea8-92cc-31e62f01174c button.colab-df-convert');\n",
              "        buttonEl.style.display =\n",
              "          google.colab.kernel.accessAllowed ? 'block' : 'none';\n",
              "\n",
              "        async function convertToInteractive(key) {\n",
              "          const element = document.querySelector('#df-d3e25bff-4d8f-4ea8-92cc-31e62f01174c');\n",
              "          const dataTable =\n",
              "            await google.colab.kernel.invokeFunction('convertToInteractive',\n",
              "                                                     [key], {});\n",
              "          if (!dataTable) return;\n",
              "\n",
              "          const docLinkHtml = 'Like what you see? Visit the ' +\n",
              "            '<a target=\"_blank\" href=https://colab.research.google.com/notebooks/data_table.ipynb>data table notebook</a>'\n",
              "            + ' to learn more about interactive tables.';\n",
              "          element.innerHTML = '';\n",
              "          dataTable['output_type'] = 'display_data';\n",
              "          await google.colab.output.renderOutput(dataTable, element);\n",
              "          const docLink = document.createElement('div');\n",
              "          docLink.innerHTML = docLinkHtml;\n",
              "          element.appendChild(docLink);\n",
              "        }\n",
              "      </script>\n",
              "    </div>\n",
              "  </div>\n",
              "  "
            ]
          },
          "metadata": {},
          "execution_count": 99
        }
      ],
      "source": [
        "trainc = pd.read_csv('/content/drive/MyDrive/ML_text_processing/MOLD_SPLIT/subtask_c1.tsv','\\t',skiprows=1,names=['id','tweet','subtask_c'])\n",
        "trainc.head()\n"
      ]
    },
    {
      "cell_type": "code",
      "execution_count": null,
      "metadata": {
        "colab": {
          "base_uri": "https://localhost:8080/"
        },
        "id": "VZ1kObYWRnDO",
        "outputId": "40b463e2-6b56-447c-a23f-96f60fd09eac"
      },
      "outputs": [
        {
          "output_type": "stream",
          "name": "stdout",
          "text": [
            "       id                                              tweet subtask_c  \\\n",
            "0    1451  राम कदम वागण्यात नाही तर बोलण्यात चुकला बीजेपी...       GRP   \n",
            "1    1452  हीच का तुमची शिवसेने चि शिकवण आपली आई म्हणजे द...       GRP   \n",
            "2    1453  हे वाचा गाढवांनो आणि हे ही सांगा की तुमच्या मॅ...       GRP   \n",
            "3    1454           भक्त आंधळे असतात मूर्खा ना काही कळत नाही       GRP   \n",
            "4    1455  १९६६ साली छत्रपती शिवाजी महाराज या जागतिक दर्ज...       GRP   \n",
            "..    ...                                                ...       ...   \n",
            "735  3064                   @USER @USER हो रे साहेबचा गोट्या       OTH   \n",
            "736  3099  @USER दोन नंबर पुच्ची पाकळ्या मस्त आहेत चाटायल...       OTH   \n",
            "737  3100                            @USER पुच्ची कप्तान साब       OTH   \n",
            "738  3101  @USER नंबरकाळी पुच्ची आणि वर थोडे केसखालून चाट...       OTH   \n",
            "739  3102             @USER तुज्या आमची पुच्ची आतल्या लवड्या       OTH   \n",
            "\n",
            "     encoded_c  \n",
            "0            0  \n",
            "1            0  \n",
            "2            0  \n",
            "3            0  \n",
            "4            0  \n",
            "..         ...  \n",
            "735          2  \n",
            "736          2  \n",
            "737          2  \n",
            "738          2  \n",
            "739          2  \n",
            "\n",
            "[740 rows x 4 columns]\n"
          ]
        }
      ],
      "source": [
        "trainc['encoded_c'] = le.fit_transform(trainc['subtask_c'].astype(str))\n",
        "print(trainc)"
      ]
    },
    {
      "cell_type": "code",
      "source": [
        "print(submissionb.index)\n"
      ],
      "metadata": {
        "colab": {
          "base_uri": "https://localhost:8080/"
        },
        "id": "h2_Oa-zRDH62",
        "outputId": "45bb0535-df70-44bb-96b0-aa35d63709ef"
      },
      "execution_count": null,
      "outputs": [
        {
          "output_type": "stream",
          "name": "stdout",
          "text": [
            "RangeIndex(start=0, stop=510, step=1)\n"
          ]
        }
      ]
    },
    {
      "cell_type": "code",
      "execution_count": null,
      "metadata": {
        "id": "nxay4owyRnIF"
      },
      "outputs": [],
      "source": [
        "x_train=trainc['tweet']\n",
        "y_train=trainc['encoded_c']\n",
        "x_train=x_train.replace(np.nan,\"\")\n",
        "x_test=testc['tweet']\n",
        "x_test=x_test.replace(np.nan,\"\")\n",
        "x_train = vectorizer.fit_transform(x_train)\n",
        "x_test=vectorizer.transform(x_test)"
      ]
    },
    {
      "cell_type": "code",
      "execution_count": null,
      "metadata": {
        "colab": {
          "base_uri": "https://localhost:8080/"
        },
        "id": "19NOnDL5Z_nA",
        "outputId": "0e55d768-6aa4-4dfe-ebf8-37e3af6e6afd"
      },
      "outputs": [
        {
          "output_type": "execute_result",
          "data": {
            "text/plain": [
              "RandomForestRegressor(random_state=7)"
            ]
          },
          "metadata": {},
          "execution_count": 103
        }
      ],
      "source": [
        "regressor.fit(x_train, y_train)"
      ]
    },
    {
      "cell_type": "code",
      "execution_count": null,
      "metadata": {
        "id": "tmb0gE1XZ_pB"
      },
      "outputs": [],
      "source": [
        "y_predc = regressor.predict(x_test)\n",
        "import math\n",
        "pred=[]\n",
        "for i in range(len(y_predc)):\n",
        " pred.append(int(y_predc[i].round()))\n",
        "pred=le.inverse_transform(pred)"
      ]
    },
    {
      "cell_type": "code",
      "source": [
        "submissionc = pd.DataFrame()\n",
        "submissionc['id'] = testc['id']\n",
        "submissionc['label'] = pred\n"
      ],
      "metadata": {
        "id": "ZhnqHs1k8PsC"
      },
      "execution_count": null,
      "outputs": []
    },
    {
      "cell_type": "code",
      "source": [
        "submissionc"
      ],
      "metadata": {
        "colab": {
          "base_uri": "https://localhost:8080/",
          "height": 424
        },
        "id": "G3Y3IEWB-nb8",
        "outputId": "daac55da-1abb-406f-d244-a5bb96ba02de"
      },
      "execution_count": null,
      "outputs": [
        {
          "output_type": "execute_result",
          "data": {
            "text/plain": [
              "      id label\n",
              "12    12   IND\n",
              "28    28   IND\n",
              "37    37   IND\n",
              "48    48   IND\n",
              "52    52   IND\n",
              "..   ...   ...\n",
              "484  484   IND\n",
              "485  485   IND\n",
              "486  486   IND\n",
              "487  487   IND\n",
              "488  488   IND\n",
              "\n",
              "[238 rows x 2 columns]"
            ],
            "text/html": [
              "\n",
              "  <div id=\"df-11801ce1-a980-4a61-957b-e5d83b266cd9\">\n",
              "    <div class=\"colab-df-container\">\n",
              "      <div>\n",
              "<style scoped>\n",
              "    .dataframe tbody tr th:only-of-type {\n",
              "        vertical-align: middle;\n",
              "    }\n",
              "\n",
              "    .dataframe tbody tr th {\n",
              "        vertical-align: top;\n",
              "    }\n",
              "\n",
              "    .dataframe thead th {\n",
              "        text-align: right;\n",
              "    }\n",
              "</style>\n",
              "<table border=\"1\" class=\"dataframe\">\n",
              "  <thead>\n",
              "    <tr style=\"text-align: right;\">\n",
              "      <th></th>\n",
              "      <th>id</th>\n",
              "      <th>label</th>\n",
              "    </tr>\n",
              "  </thead>\n",
              "  <tbody>\n",
              "    <tr>\n",
              "      <th>12</th>\n",
              "      <td>12</td>\n",
              "      <td>IND</td>\n",
              "    </tr>\n",
              "    <tr>\n",
              "      <th>28</th>\n",
              "      <td>28</td>\n",
              "      <td>IND</td>\n",
              "    </tr>\n",
              "    <tr>\n",
              "      <th>37</th>\n",
              "      <td>37</td>\n",
              "      <td>IND</td>\n",
              "    </tr>\n",
              "    <tr>\n",
              "      <th>48</th>\n",
              "      <td>48</td>\n",
              "      <td>IND</td>\n",
              "    </tr>\n",
              "    <tr>\n",
              "      <th>52</th>\n",
              "      <td>52</td>\n",
              "      <td>IND</td>\n",
              "    </tr>\n",
              "    <tr>\n",
              "      <th>...</th>\n",
              "      <td>...</td>\n",
              "      <td>...</td>\n",
              "    </tr>\n",
              "    <tr>\n",
              "      <th>484</th>\n",
              "      <td>484</td>\n",
              "      <td>IND</td>\n",
              "    </tr>\n",
              "    <tr>\n",
              "      <th>485</th>\n",
              "      <td>485</td>\n",
              "      <td>IND</td>\n",
              "    </tr>\n",
              "    <tr>\n",
              "      <th>486</th>\n",
              "      <td>486</td>\n",
              "      <td>IND</td>\n",
              "    </tr>\n",
              "    <tr>\n",
              "      <th>487</th>\n",
              "      <td>487</td>\n",
              "      <td>IND</td>\n",
              "    </tr>\n",
              "    <tr>\n",
              "      <th>488</th>\n",
              "      <td>488</td>\n",
              "      <td>IND</td>\n",
              "    </tr>\n",
              "  </tbody>\n",
              "</table>\n",
              "<p>238 rows × 2 columns</p>\n",
              "</div>\n",
              "      <button class=\"colab-df-convert\" onclick=\"convertToInteractive('df-11801ce1-a980-4a61-957b-e5d83b266cd9')\"\n",
              "              title=\"Convert this dataframe to an interactive table.\"\n",
              "              style=\"display:none;\">\n",
              "        \n",
              "  <svg xmlns=\"http://www.w3.org/2000/svg\" height=\"24px\"viewBox=\"0 0 24 24\"\n",
              "       width=\"24px\">\n",
              "    <path d=\"M0 0h24v24H0V0z\" fill=\"none\"/>\n",
              "    <path d=\"M18.56 5.44l.94 2.06.94-2.06 2.06-.94-2.06-.94-.94-2.06-.94 2.06-2.06.94zm-11 1L8.5 8.5l.94-2.06 2.06-.94-2.06-.94L8.5 2.5l-.94 2.06-2.06.94zm10 10l.94 2.06.94-2.06 2.06-.94-2.06-.94-.94-2.06-.94 2.06-2.06.94z\"/><path d=\"M17.41 7.96l-1.37-1.37c-.4-.4-.92-.59-1.43-.59-.52 0-1.04.2-1.43.59L10.3 9.45l-7.72 7.72c-.78.78-.78 2.05 0 2.83L4 21.41c.39.39.9.59 1.41.59.51 0 1.02-.2 1.41-.59l7.78-7.78 2.81-2.81c.8-.78.8-2.07 0-2.86zM5.41 20L4 18.59l7.72-7.72 1.47 1.35L5.41 20z\"/>\n",
              "  </svg>\n",
              "      </button>\n",
              "      \n",
              "  <style>\n",
              "    .colab-df-container {\n",
              "      display:flex;\n",
              "      flex-wrap:wrap;\n",
              "      gap: 12px;\n",
              "    }\n",
              "\n",
              "    .colab-df-convert {\n",
              "      background-color: #E8F0FE;\n",
              "      border: none;\n",
              "      border-radius: 50%;\n",
              "      cursor: pointer;\n",
              "      display: none;\n",
              "      fill: #1967D2;\n",
              "      height: 32px;\n",
              "      padding: 0 0 0 0;\n",
              "      width: 32px;\n",
              "    }\n",
              "\n",
              "    .colab-df-convert:hover {\n",
              "      background-color: #E2EBFA;\n",
              "      box-shadow: 0px 1px 2px rgba(60, 64, 67, 0.3), 0px 1px 3px 1px rgba(60, 64, 67, 0.15);\n",
              "      fill: #174EA6;\n",
              "    }\n",
              "\n",
              "    [theme=dark] .colab-df-convert {\n",
              "      background-color: #3B4455;\n",
              "      fill: #D2E3FC;\n",
              "    }\n",
              "\n",
              "    [theme=dark] .colab-df-convert:hover {\n",
              "      background-color: #434B5C;\n",
              "      box-shadow: 0px 1px 3px 1px rgba(0, 0, 0, 0.15);\n",
              "      filter: drop-shadow(0px 1px 2px rgba(0, 0, 0, 0.3));\n",
              "      fill: #FFFFFF;\n",
              "    }\n",
              "  </style>\n",
              "\n",
              "      <script>\n",
              "        const buttonEl =\n",
              "          document.querySelector('#df-11801ce1-a980-4a61-957b-e5d83b266cd9 button.colab-df-convert');\n",
              "        buttonEl.style.display =\n",
              "          google.colab.kernel.accessAllowed ? 'block' : 'none';\n",
              "\n",
              "        async function convertToInteractive(key) {\n",
              "          const element = document.querySelector('#df-11801ce1-a980-4a61-957b-e5d83b266cd9');\n",
              "          const dataTable =\n",
              "            await google.colab.kernel.invokeFunction('convertToInteractive',\n",
              "                                                     [key], {});\n",
              "          if (!dataTable) return;\n",
              "\n",
              "          const docLinkHtml = 'Like what you see? Visit the ' +\n",
              "            '<a target=\"_blank\" href=https://colab.research.google.com/notebooks/data_table.ipynb>data table notebook</a>'\n",
              "            + ' to learn more about interactive tables.';\n",
              "          element.innerHTML = '';\n",
              "          dataTable['output_type'] = 'display_data';\n",
              "          await google.colab.output.renderOutput(dataTable, element);\n",
              "          const docLink = document.createElement('div');\n",
              "          docLink.innerHTML = docLinkHtml;\n",
              "          element.appendChild(docLink);\n",
              "        }\n",
              "      </script>\n",
              "    </div>\n",
              "  </div>\n",
              "  "
            ]
          },
          "metadata": {},
          "execution_count": 106
        }
      ]
    },
    {
      "cell_type": "code",
      "source": [
        "for i in null_list:\n",
        "  submissionc=submissionc.append({'id' : int(i),'label' : None} , ignore_index=True)\n",
        "submissionc=submissionc.sort_values(by=['id'])\n",
        "submissionc['id']=submission.index\n",
        "submissionc.to_csv('/content/drive/MyDrive/ML_text_processing/MOLD_SPLIT/taskc1_sub1.csv',index= False)"
      ],
      "metadata": {
        "id": "ip1DJo1W-mo4"
      },
      "execution_count": null,
      "outputs": []
    },
    {
      "cell_type": "code",
      "source": [
        "submissionc"
      ],
      "metadata": {
        "colab": {
          "base_uri": "https://localhost:8080/",
          "height": 424
        },
        "id": "2v_NiE9b8b8b",
        "outputId": "52950031-059f-43e9-e41e-be7375bf5bbe"
      },
      "execution_count": null,
      "outputs": [
        {
          "output_type": "execute_result",
          "data": {
            "text/plain": [
              "      id label\n",
              "238    0   NaN\n",
              "239    1   NaN\n",
              "240    2   NaN\n",
              "241    3   NaN\n",
              "242    4   NaN\n",
              "..   ...   ...\n",
              "505  505   NaN\n",
              "506  506   NaN\n",
              "507  507   NaN\n",
              "508  508   NaN\n",
              "509  509   NaN\n",
              "\n",
              "[510 rows x 2 columns]"
            ],
            "text/html": [
              "\n",
              "  <div id=\"df-0ab69a28-3d97-429a-86a1-23d81ff91362\">\n",
              "    <div class=\"colab-df-container\">\n",
              "      <div>\n",
              "<style scoped>\n",
              "    .dataframe tbody tr th:only-of-type {\n",
              "        vertical-align: middle;\n",
              "    }\n",
              "\n",
              "    .dataframe tbody tr th {\n",
              "        vertical-align: top;\n",
              "    }\n",
              "\n",
              "    .dataframe thead th {\n",
              "        text-align: right;\n",
              "    }\n",
              "</style>\n",
              "<table border=\"1\" class=\"dataframe\">\n",
              "  <thead>\n",
              "    <tr style=\"text-align: right;\">\n",
              "      <th></th>\n",
              "      <th>id</th>\n",
              "      <th>label</th>\n",
              "    </tr>\n",
              "  </thead>\n",
              "  <tbody>\n",
              "    <tr>\n",
              "      <th>238</th>\n",
              "      <td>0</td>\n",
              "      <td>NaN</td>\n",
              "    </tr>\n",
              "    <tr>\n",
              "      <th>239</th>\n",
              "      <td>1</td>\n",
              "      <td>NaN</td>\n",
              "    </tr>\n",
              "    <tr>\n",
              "      <th>240</th>\n",
              "      <td>2</td>\n",
              "      <td>NaN</td>\n",
              "    </tr>\n",
              "    <tr>\n",
              "      <th>241</th>\n",
              "      <td>3</td>\n",
              "      <td>NaN</td>\n",
              "    </tr>\n",
              "    <tr>\n",
              "      <th>242</th>\n",
              "      <td>4</td>\n",
              "      <td>NaN</td>\n",
              "    </tr>\n",
              "    <tr>\n",
              "      <th>...</th>\n",
              "      <td>...</td>\n",
              "      <td>...</td>\n",
              "    </tr>\n",
              "    <tr>\n",
              "      <th>505</th>\n",
              "      <td>505</td>\n",
              "      <td>NaN</td>\n",
              "    </tr>\n",
              "    <tr>\n",
              "      <th>506</th>\n",
              "      <td>506</td>\n",
              "      <td>NaN</td>\n",
              "    </tr>\n",
              "    <tr>\n",
              "      <th>507</th>\n",
              "      <td>507</td>\n",
              "      <td>NaN</td>\n",
              "    </tr>\n",
              "    <tr>\n",
              "      <th>508</th>\n",
              "      <td>508</td>\n",
              "      <td>NaN</td>\n",
              "    </tr>\n",
              "    <tr>\n",
              "      <th>509</th>\n",
              "      <td>509</td>\n",
              "      <td>NaN</td>\n",
              "    </tr>\n",
              "  </tbody>\n",
              "</table>\n",
              "<p>510 rows × 2 columns</p>\n",
              "</div>\n",
              "      <button class=\"colab-df-convert\" onclick=\"convertToInteractive('df-0ab69a28-3d97-429a-86a1-23d81ff91362')\"\n",
              "              title=\"Convert this dataframe to an interactive table.\"\n",
              "              style=\"display:none;\">\n",
              "        \n",
              "  <svg xmlns=\"http://www.w3.org/2000/svg\" height=\"24px\"viewBox=\"0 0 24 24\"\n",
              "       width=\"24px\">\n",
              "    <path d=\"M0 0h24v24H0V0z\" fill=\"none\"/>\n",
              "    <path d=\"M18.56 5.44l.94 2.06.94-2.06 2.06-.94-2.06-.94-.94-2.06-.94 2.06-2.06.94zm-11 1L8.5 8.5l.94-2.06 2.06-.94-2.06-.94L8.5 2.5l-.94 2.06-2.06.94zm10 10l.94 2.06.94-2.06 2.06-.94-2.06-.94-.94-2.06-.94 2.06-2.06.94z\"/><path d=\"M17.41 7.96l-1.37-1.37c-.4-.4-.92-.59-1.43-.59-.52 0-1.04.2-1.43.59L10.3 9.45l-7.72 7.72c-.78.78-.78 2.05 0 2.83L4 21.41c.39.39.9.59 1.41.59.51 0 1.02-.2 1.41-.59l7.78-7.78 2.81-2.81c.8-.78.8-2.07 0-2.86zM5.41 20L4 18.59l7.72-7.72 1.47 1.35L5.41 20z\"/>\n",
              "  </svg>\n",
              "      </button>\n",
              "      \n",
              "  <style>\n",
              "    .colab-df-container {\n",
              "      display:flex;\n",
              "      flex-wrap:wrap;\n",
              "      gap: 12px;\n",
              "    }\n",
              "\n",
              "    .colab-df-convert {\n",
              "      background-color: #E8F0FE;\n",
              "      border: none;\n",
              "      border-radius: 50%;\n",
              "      cursor: pointer;\n",
              "      display: none;\n",
              "      fill: #1967D2;\n",
              "      height: 32px;\n",
              "      padding: 0 0 0 0;\n",
              "      width: 32px;\n",
              "    }\n",
              "\n",
              "    .colab-df-convert:hover {\n",
              "      background-color: #E2EBFA;\n",
              "      box-shadow: 0px 1px 2px rgba(60, 64, 67, 0.3), 0px 1px 3px 1px rgba(60, 64, 67, 0.15);\n",
              "      fill: #174EA6;\n",
              "    }\n",
              "\n",
              "    [theme=dark] .colab-df-convert {\n",
              "      background-color: #3B4455;\n",
              "      fill: #D2E3FC;\n",
              "    }\n",
              "\n",
              "    [theme=dark] .colab-df-convert:hover {\n",
              "      background-color: #434B5C;\n",
              "      box-shadow: 0px 1px 3px 1px rgba(0, 0, 0, 0.15);\n",
              "      filter: drop-shadow(0px 1px 2px rgba(0, 0, 0, 0.3));\n",
              "      fill: #FFFFFF;\n",
              "    }\n",
              "  </style>\n",
              "\n",
              "      <script>\n",
              "        const buttonEl =\n",
              "          document.querySelector('#df-0ab69a28-3d97-429a-86a1-23d81ff91362 button.colab-df-convert');\n",
              "        buttonEl.style.display =\n",
              "          google.colab.kernel.accessAllowed ? 'block' : 'none';\n",
              "\n",
              "        async function convertToInteractive(key) {\n",
              "          const element = document.querySelector('#df-0ab69a28-3d97-429a-86a1-23d81ff91362');\n",
              "          const dataTable =\n",
              "            await google.colab.kernel.invokeFunction('convertToInteractive',\n",
              "                                                     [key], {});\n",
              "          if (!dataTable) return;\n",
              "\n",
              "          const docLinkHtml = 'Like what you see? Visit the ' +\n",
              "            '<a target=\"_blank\" href=https://colab.research.google.com/notebooks/data_table.ipynb>data table notebook</a>'\n",
              "            + ' to learn more about interactive tables.';\n",
              "          element.innerHTML = '';\n",
              "          dataTable['output_type'] = 'display_data';\n",
              "          await google.colab.output.renderOutput(dataTable, element);\n",
              "          const docLink = document.createElement('div');\n",
              "          docLink.innerHTML = docLinkHtml;\n",
              "          element.appendChild(docLink);\n",
              "        }\n",
              "      </script>\n",
              "    </div>\n",
              "  </div>\n",
              "  "
            ]
          },
          "metadata": {},
          "execution_count": 108
        }
      ]
    }
  ],
  "metadata": {
    "colab": {
      "collapsed_sections": [],
      "provenance": []
    },
    "kernelspec": {
      "display_name": "Python 3",
      "name": "python3"
    },
    "language_info": {
      "name": "python"
    }
  },
  "nbformat": 4,
  "nbformat_minor": 0
}