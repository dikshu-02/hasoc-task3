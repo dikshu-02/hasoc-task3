{
  "cells": [
    {
      "cell_type": "code",
      "execution_count": null,
      "metadata": {
        "id": "Pp4sj03uiU5J"
      },
      "outputs": [],
      "source": [
        "# # Random Forest Regression\n",
        "# ## Importing the libraries\n",
        "# In[1]:\n",
        "import numpy as np\n",
        "import matplotlib.pyplot as plt\n",
        "import pandas as pd\n",
        "import seaborn as sns\n",
        "sns.set()\n",
        "import warnings\n",
        "warnings.filterwarnings(\"ignore\")\n",
        "from sklearn.model_selection import train_test_split\n",
        "import pandas\n",
        "from sklearn import preprocessing \n",
        "from sklearn.naive_bayes import MultinomialNB \n",
        "from sklearn.feature_extraction.text import CountVectorizer\n",
        "\n"
      ]
    },
    {
      "cell_type": "code",
      "execution_count": null,
      "metadata": {
        "colab": {
          "base_uri": "https://localhost:8080/"
        },
        "id": "PbIWsOJwiWN7",
        "outputId": "bfc5a8ec-bedc-4f8b-f17c-59127e40c4da"
      },
      "outputs": [
        {
          "output_type": "stream",
          "name": "stdout",
          "text": [
            "Mounted at /content/drive\n"
          ]
        }
      ],
      "source": [
        "from google.colab import drive\n",
        "drive.mount('/content/drive')"
      ]
    },
    {
      "cell_type": "code",
      "execution_count": null,
      "metadata": {
        "id": "0JR5x0SbiaHa"
      },
      "outputs": [],
      "source": [
        "#Importing traing data\n",
        "train = pd.read_csv('/content/drive/MyDrive/ML_text_processing/MOLD_SPLIT/subtask_a.tsv','\\t',skiprows=1,names=['id','tweet','subtask_a'])\n",
        "test = pd.read_csv('/content/drive/MyDrive/ML_text_processing/MOLD_SPLIT/marathi_test_without_labels.csv',skiprows=1,names=['id','tweet'])"
      ]
    },
    {
      "cell_type": "code",
      "execution_count": null,
      "metadata": {
        "colab": {
          "base_uri": "https://localhost:8080/",
          "height": 206
        },
        "id": "WzXkuhjBicNC",
        "outputId": "90621ba8-433d-4ebb-c45b-70b91a02d16f"
      },
      "outputs": [
        {
          "output_type": "execute_result",
          "data": {
            "text/plain": [
              "   id                                              tweet subtask_a  encoded_a\n",
              "0   0  आजच्या जनता दरबारात जळगाव जिल्ह्यातील चाळीसगाव...       NOT          0\n",
              "1   1  कुणी कविता करत असतं तर कुणी कविता जगत असतं कुण...       NOT          0\n",
              "2   2  आम्हाला इतिहासातील औरंगजेबशी काही घेणे नाही आम...       NOT          0\n",
              "3   3  गँभीर प्रकरण महाराष्ट्राची अवस्था बिकट आहे भाष...       NOT          0\n",
              "4   4  कब्झा हा कन्नड चित्रपट लवकरच मराठी मध्ये डब्ब ...       NOT          0"
            ],
            "text/html": [
              "\n",
              "  <div id=\"df-c9f51c5f-d170-4648-95e8-85cffb35c70a\">\n",
              "    <div class=\"colab-df-container\">\n",
              "      <div>\n",
              "<style scoped>\n",
              "    .dataframe tbody tr th:only-of-type {\n",
              "        vertical-align: middle;\n",
              "    }\n",
              "\n",
              "    .dataframe tbody tr th {\n",
              "        vertical-align: top;\n",
              "    }\n",
              "\n",
              "    .dataframe thead th {\n",
              "        text-align: right;\n",
              "    }\n",
              "</style>\n",
              "<table border=\"1\" class=\"dataframe\">\n",
              "  <thead>\n",
              "    <tr style=\"text-align: right;\">\n",
              "      <th></th>\n",
              "      <th>id</th>\n",
              "      <th>tweet</th>\n",
              "      <th>subtask_a</th>\n",
              "      <th>encoded_a</th>\n",
              "    </tr>\n",
              "  </thead>\n",
              "  <tbody>\n",
              "    <tr>\n",
              "      <th>0</th>\n",
              "      <td>0</td>\n",
              "      <td>आजच्या जनता दरबारात जळगाव जिल्ह्यातील चाळीसगाव...</td>\n",
              "      <td>NOT</td>\n",
              "      <td>0</td>\n",
              "    </tr>\n",
              "    <tr>\n",
              "      <th>1</th>\n",
              "      <td>1</td>\n",
              "      <td>कुणी कविता करत असतं तर कुणी कविता जगत असतं कुण...</td>\n",
              "      <td>NOT</td>\n",
              "      <td>0</td>\n",
              "    </tr>\n",
              "    <tr>\n",
              "      <th>2</th>\n",
              "      <td>2</td>\n",
              "      <td>आम्हाला इतिहासातील औरंगजेबशी काही घेणे नाही आम...</td>\n",
              "      <td>NOT</td>\n",
              "      <td>0</td>\n",
              "    </tr>\n",
              "    <tr>\n",
              "      <th>3</th>\n",
              "      <td>3</td>\n",
              "      <td>गँभीर प्रकरण महाराष्ट्राची अवस्था बिकट आहे भाष...</td>\n",
              "      <td>NOT</td>\n",
              "      <td>0</td>\n",
              "    </tr>\n",
              "    <tr>\n",
              "      <th>4</th>\n",
              "      <td>4</td>\n",
              "      <td>कब्झा हा कन्नड चित्रपट लवकरच मराठी मध्ये डब्ब ...</td>\n",
              "      <td>NOT</td>\n",
              "      <td>0</td>\n",
              "    </tr>\n",
              "  </tbody>\n",
              "</table>\n",
              "</div>\n",
              "      <button class=\"colab-df-convert\" onclick=\"convertToInteractive('df-c9f51c5f-d170-4648-95e8-85cffb35c70a')\"\n",
              "              title=\"Convert this dataframe to an interactive table.\"\n",
              "              style=\"display:none;\">\n",
              "        \n",
              "  <svg xmlns=\"http://www.w3.org/2000/svg\" height=\"24px\"viewBox=\"0 0 24 24\"\n",
              "       width=\"24px\">\n",
              "    <path d=\"M0 0h24v24H0V0z\" fill=\"none\"/>\n",
              "    <path d=\"M18.56 5.44l.94 2.06.94-2.06 2.06-.94-2.06-.94-.94-2.06-.94 2.06-2.06.94zm-11 1L8.5 8.5l.94-2.06 2.06-.94-2.06-.94L8.5 2.5l-.94 2.06-2.06.94zm10 10l.94 2.06.94-2.06 2.06-.94-2.06-.94-.94-2.06-.94 2.06-2.06.94z\"/><path d=\"M17.41 7.96l-1.37-1.37c-.4-.4-.92-.59-1.43-.59-.52 0-1.04.2-1.43.59L10.3 9.45l-7.72 7.72c-.78.78-.78 2.05 0 2.83L4 21.41c.39.39.9.59 1.41.59.51 0 1.02-.2 1.41-.59l7.78-7.78 2.81-2.81c.8-.78.8-2.07 0-2.86zM5.41 20L4 18.59l7.72-7.72 1.47 1.35L5.41 20z\"/>\n",
              "  </svg>\n",
              "      </button>\n",
              "      \n",
              "  <style>\n",
              "    .colab-df-container {\n",
              "      display:flex;\n",
              "      flex-wrap:wrap;\n",
              "      gap: 12px;\n",
              "    }\n",
              "\n",
              "    .colab-df-convert {\n",
              "      background-color: #E8F0FE;\n",
              "      border: none;\n",
              "      border-radius: 50%;\n",
              "      cursor: pointer;\n",
              "      display: none;\n",
              "      fill: #1967D2;\n",
              "      height: 32px;\n",
              "      padding: 0 0 0 0;\n",
              "      width: 32px;\n",
              "    }\n",
              "\n",
              "    .colab-df-convert:hover {\n",
              "      background-color: #E2EBFA;\n",
              "      box-shadow: 0px 1px 2px rgba(60, 64, 67, 0.3), 0px 1px 3px 1px rgba(60, 64, 67, 0.15);\n",
              "      fill: #174EA6;\n",
              "    }\n",
              "\n",
              "    [theme=dark] .colab-df-convert {\n",
              "      background-color: #3B4455;\n",
              "      fill: #D2E3FC;\n",
              "    }\n",
              "\n",
              "    [theme=dark] .colab-df-convert:hover {\n",
              "      background-color: #434B5C;\n",
              "      box-shadow: 0px 1px 3px 1px rgba(0, 0, 0, 0.15);\n",
              "      filter: drop-shadow(0px 1px 2px rgba(0, 0, 0, 0.3));\n",
              "      fill: #FFFFFF;\n",
              "    }\n",
              "  </style>\n",
              "\n",
              "      <script>\n",
              "        const buttonEl =\n",
              "          document.querySelector('#df-c9f51c5f-d170-4648-95e8-85cffb35c70a button.colab-df-convert');\n",
              "        buttonEl.style.display =\n",
              "          google.colab.kernel.accessAllowed ? 'block' : 'none';\n",
              "\n",
              "        async function convertToInteractive(key) {\n",
              "          const element = document.querySelector('#df-c9f51c5f-d170-4648-95e8-85cffb35c70a');\n",
              "          const dataTable =\n",
              "            await google.colab.kernel.invokeFunction('convertToInteractive',\n",
              "                                                     [key], {});\n",
              "          if (!dataTable) return;\n",
              "\n",
              "          const docLinkHtml = 'Like what you see? Visit the ' +\n",
              "            '<a target=\"_blank\" href=https://colab.research.google.com/notebooks/data_table.ipynb>data table notebook</a>'\n",
              "            + ' to learn more about interactive tables.';\n",
              "          element.innerHTML = '';\n",
              "          dataTable['output_type'] = 'display_data';\n",
              "          await google.colab.output.renderOutput(dataTable, element);\n",
              "          const docLink = document.createElement('div');\n",
              "          docLink.innerHTML = docLinkHtml;\n",
              "          element.appendChild(docLink);\n",
              "        }\n",
              "      </script>\n",
              "    </div>\n",
              "  </div>\n",
              "  "
            ]
          },
          "metadata": {},
          "execution_count": 4
        }
      ],
      "source": [
        "le = preprocessing.LabelEncoder()\n",
        "train['encoded_a'] = le.fit_transform(train['subtask_a'].astype(str))\n",
        "train.head()"
      ]
    },
    {
      "cell_type": "code",
      "execution_count": null,
      "metadata": {
        "id": "BpHU2YonihOW"
      },
      "outputs": [],
      "source": [
        "from sklearn.feature_extraction.text import CountVectorizer, TfidfVectorizer\n",
        "vectorizer = CountVectorizer(analyzer='char', ngram_range=(1,3))\n",
        "x_train=train['tweet']\n",
        "y_train=train['encoded_a']\n",
        "x_train=x_train.replace(np.nan,\"\")\n",
        "x_test=test['tweet']\n",
        "x_test=x_test.replace(np.nan,\"\")\n",
        "x_train = vectorizer.fit_transform(x_train)\n",
        "x_test=vectorizer.transform(x_test)"
      ]
    },
    {
      "cell_type": "code",
      "execution_count": null,
      "metadata": {
        "id": "KtwVcfNeivV2"
      },
      "outputs": [],
      "source": [
        "from sklearn.neighbors import KNeighborsClassifier\n",
        "knn_clf=KNeighborsClassifier(n_neighbors=3)"
      ]
    },
    {
      "cell_type": "code",
      "execution_count": null,
      "metadata": {
        "id": "sabne-Kfiy31",
        "colab": {
          "base_uri": "https://localhost:8080/"
        },
        "outputId": "632b305c-6bea-43f0-876b-2daa580d75db"
      },
      "outputs": [
        {
          "output_type": "execute_result",
          "data": {
            "text/plain": [
              "KNeighborsClassifier(n_neighbors=3)"
            ]
          },
          "metadata": {},
          "execution_count": 7
        }
      ],
      "source": [
        "knn_clf.fit(x_train,y_train)"
      ]
    },
    {
      "cell_type": "code",
      "execution_count": null,
      "metadata": {
        "id": "WuOM-QSHjSB-"
      },
      "outputs": [],
      "source": [
        "y_pred = knn_clf.predict(x_test)"
      ]
    },
    {
      "cell_type": "code",
      "execution_count": null,
      "metadata": {
        "id": "sgfgIBTZXPc6"
      },
      "outputs": [],
      "source": [
        "import math\n",
        "pred=[]\n",
        "for i in range(len(y_pred)):\n",
        " pred.append(int(y_pred[i].round()))\n"
      ]
    },
    {
      "cell_type": "code",
      "source": [
        "pred=le.inverse_transform(pred)"
      ],
      "metadata": {
        "id": "xBS5ow_XiRfp"
      },
      "execution_count": null,
      "outputs": []
    },
    {
      "cell_type": "code",
      "source": [
        "submission = pd.DataFrame()\n",
        "submission['id'] = test['id']\n",
        "submission['label'] = pred\n",
        "submission.to_csv('/content/drive/MyDrive/ML_text_processing/MOLD_SPLIT/taska_sub4.csv',index= False)"
      ],
      "metadata": {
        "id": "x3bHDupDhAj9"
      },
      "execution_count": null,
      "outputs": []
    },
    {
      "cell_type": "code",
      "source": [
        "print(submission)\n",
        "null_list=[]\n",
        "null_list=submission.index[submission['label'] == \"NOT\"].tolist()\n",
        "print(null_list)"
      ],
      "metadata": {
        "colab": {
          "base_uri": "https://localhost:8080/"
        },
        "id": "Jn7Ogwf2i8X-",
        "outputId": "86aae99b-7513-46ad-a1a1-8417bc6aedeb"
      },
      "execution_count": null,
      "outputs": [
        {
          "output_type": "stream",
          "name": "stdout",
          "text": [
            "      id label\n",
            "0      0   NOT\n",
            "1      1   OFF\n",
            "2      2   NOT\n",
            "3      3   OFF\n",
            "4      4   OFF\n",
            "..   ...   ...\n",
            "505  505   OFF\n",
            "506  506   OFF\n",
            "507  507   OFF\n",
            "508  508   OFF\n",
            "509  509   OFF\n",
            "\n",
            "[510 rows x 2 columns]\n",
            "[0, 2, 5, 6, 8, 9, 11, 13, 14, 15, 16, 17, 18, 19, 22, 24, 25, 26, 27, 29, 31, 33, 34, 35, 38, 39, 40, 41, 42, 43, 45, 47, 49, 54, 55, 57, 59, 60, 61, 63, 64, 65, 66, 67, 68, 69, 71, 73, 75, 78, 82, 84, 85, 88, 89, 90, 92, 93, 95, 96, 97, 100, 101, 105, 106, 107, 109, 112, 113, 115, 118, 119, 121, 123, 124, 125, 126, 128, 131, 135, 137, 139, 142, 143, 147, 148, 149, 150, 151, 152, 156, 157, 158, 159, 160, 161, 165, 167, 168, 169, 172, 174, 175, 176, 178, 179, 181, 183, 185, 186, 187, 188, 189, 192, 193, 194, 195, 196, 197, 199, 200, 202, 203, 205, 209, 213, 214, 216, 218, 219, 220, 222, 224, 225, 226, 227, 228, 229, 230, 231, 232, 233, 234, 237, 239, 241, 242, 243, 244, 248, 249, 254, 256, 270, 282, 291, 294, 301, 309, 311, 316, 320, 334, 349, 350, 352, 363, 367, 377, 382, 398, 405, 419, 421, 425, 442, 447, 454, 461, 470, 478, 479, 488, 499, 501, 503]\n"
          ]
        }
      ]
    },
    {
      "cell_type": "code",
      "execution_count": null,
      "metadata": {
        "colab": {
          "base_uri": "https://localhost:8080/",
          "height": 206
        },
        "id": "MEqrVdIVnPQc",
        "outputId": "31ef1dce-9559-4b6b-a587-0c4b05b566c3"
      },
      "outputs": [
        {
          "output_type": "execute_result",
          "data": {
            "text/plain": [
              "     id                                              tweet subtask_b\n",
              "0  1451  राम कदम वागण्यात नाही तर बोलण्यात चुकला बीजेपी...       TIN\n",
              "1  1452  हीच का तुमची शिवसेने चि शिकवण आपली आई म्हणजे द...       TIN\n",
              "2  1453  हे वाचा गाढवांनो आणि हे ही सांगा की तुमच्या मॅ...       TIN\n",
              "3  1454           भक्त आंधळे असतात मूर्खा ना काही कळत नाही       TIN\n",
              "4  1455  १९६६ साली छत्रपती शिवाजी महाराज या जागतिक दर्ज...       TIN"
            ],
            "text/html": [
              "\n",
              "  <div id=\"df-5169d5cc-2212-45a6-87bd-a457b3e06b89\">\n",
              "    <div class=\"colab-df-container\">\n",
              "      <div>\n",
              "<style scoped>\n",
              "    .dataframe tbody tr th:only-of-type {\n",
              "        vertical-align: middle;\n",
              "    }\n",
              "\n",
              "    .dataframe tbody tr th {\n",
              "        vertical-align: top;\n",
              "    }\n",
              "\n",
              "    .dataframe thead th {\n",
              "        text-align: right;\n",
              "    }\n",
              "</style>\n",
              "<table border=\"1\" class=\"dataframe\">\n",
              "  <thead>\n",
              "    <tr style=\"text-align: right;\">\n",
              "      <th></th>\n",
              "      <th>id</th>\n",
              "      <th>tweet</th>\n",
              "      <th>subtask_b</th>\n",
              "    </tr>\n",
              "  </thead>\n",
              "  <tbody>\n",
              "    <tr>\n",
              "      <th>0</th>\n",
              "      <td>1451</td>\n",
              "      <td>राम कदम वागण्यात नाही तर बोलण्यात चुकला बीजेपी...</td>\n",
              "      <td>TIN</td>\n",
              "    </tr>\n",
              "    <tr>\n",
              "      <th>1</th>\n",
              "      <td>1452</td>\n",
              "      <td>हीच का तुमची शिवसेने चि शिकवण आपली आई म्हणजे द...</td>\n",
              "      <td>TIN</td>\n",
              "    </tr>\n",
              "    <tr>\n",
              "      <th>2</th>\n",
              "      <td>1453</td>\n",
              "      <td>हे वाचा गाढवांनो आणि हे ही सांगा की तुमच्या मॅ...</td>\n",
              "      <td>TIN</td>\n",
              "    </tr>\n",
              "    <tr>\n",
              "      <th>3</th>\n",
              "      <td>1454</td>\n",
              "      <td>भक्त आंधळे असतात मूर्खा ना काही कळत नाही</td>\n",
              "      <td>TIN</td>\n",
              "    </tr>\n",
              "    <tr>\n",
              "      <th>4</th>\n",
              "      <td>1455</td>\n",
              "      <td>१९६६ साली छत्रपती शिवाजी महाराज या जागतिक दर्ज...</td>\n",
              "      <td>TIN</td>\n",
              "    </tr>\n",
              "  </tbody>\n",
              "</table>\n",
              "</div>\n",
              "      <button class=\"colab-df-convert\" onclick=\"convertToInteractive('df-5169d5cc-2212-45a6-87bd-a457b3e06b89')\"\n",
              "              title=\"Convert this dataframe to an interactive table.\"\n",
              "              style=\"display:none;\">\n",
              "        \n",
              "  <svg xmlns=\"http://www.w3.org/2000/svg\" height=\"24px\"viewBox=\"0 0 24 24\"\n",
              "       width=\"24px\">\n",
              "    <path d=\"M0 0h24v24H0V0z\" fill=\"none\"/>\n",
              "    <path d=\"M18.56 5.44l.94 2.06.94-2.06 2.06-.94-2.06-.94-.94-2.06-.94 2.06-2.06.94zm-11 1L8.5 8.5l.94-2.06 2.06-.94-2.06-.94L8.5 2.5l-.94 2.06-2.06.94zm10 10l.94 2.06.94-2.06 2.06-.94-2.06-.94-.94-2.06-.94 2.06-2.06.94z\"/><path d=\"M17.41 7.96l-1.37-1.37c-.4-.4-.92-.59-1.43-.59-.52 0-1.04.2-1.43.59L10.3 9.45l-7.72 7.72c-.78.78-.78 2.05 0 2.83L4 21.41c.39.39.9.59 1.41.59.51 0 1.02-.2 1.41-.59l7.78-7.78 2.81-2.81c.8-.78.8-2.07 0-2.86zM5.41 20L4 18.59l7.72-7.72 1.47 1.35L5.41 20z\"/>\n",
              "  </svg>\n",
              "      </button>\n",
              "      \n",
              "  <style>\n",
              "    .colab-df-container {\n",
              "      display:flex;\n",
              "      flex-wrap:wrap;\n",
              "      gap: 12px;\n",
              "    }\n",
              "\n",
              "    .colab-df-convert {\n",
              "      background-color: #E8F0FE;\n",
              "      border: none;\n",
              "      border-radius: 50%;\n",
              "      cursor: pointer;\n",
              "      display: none;\n",
              "      fill: #1967D2;\n",
              "      height: 32px;\n",
              "      padding: 0 0 0 0;\n",
              "      width: 32px;\n",
              "    }\n",
              "\n",
              "    .colab-df-convert:hover {\n",
              "      background-color: #E2EBFA;\n",
              "      box-shadow: 0px 1px 2px rgba(60, 64, 67, 0.3), 0px 1px 3px 1px rgba(60, 64, 67, 0.15);\n",
              "      fill: #174EA6;\n",
              "    }\n",
              "\n",
              "    [theme=dark] .colab-df-convert {\n",
              "      background-color: #3B4455;\n",
              "      fill: #D2E3FC;\n",
              "    }\n",
              "\n",
              "    [theme=dark] .colab-df-convert:hover {\n",
              "      background-color: #434B5C;\n",
              "      box-shadow: 0px 1px 3px 1px rgba(0, 0, 0, 0.15);\n",
              "      filter: drop-shadow(0px 1px 2px rgba(0, 0, 0, 0.3));\n",
              "      fill: #FFFFFF;\n",
              "    }\n",
              "  </style>\n",
              "\n",
              "      <script>\n",
              "        const buttonEl =\n",
              "          document.querySelector('#df-5169d5cc-2212-45a6-87bd-a457b3e06b89 button.colab-df-convert');\n",
              "        buttonEl.style.display =\n",
              "          google.colab.kernel.accessAllowed ? 'block' : 'none';\n",
              "\n",
              "        async function convertToInteractive(key) {\n",
              "          const element = document.querySelector('#df-5169d5cc-2212-45a6-87bd-a457b3e06b89');\n",
              "          const dataTable =\n",
              "            await google.colab.kernel.invokeFunction('convertToInteractive',\n",
              "                                                     [key], {});\n",
              "          if (!dataTable) return;\n",
              "\n",
              "          const docLinkHtml = 'Like what you see? Visit the ' +\n",
              "            '<a target=\"_blank\" href=https://colab.research.google.com/notebooks/data_table.ipynb>data table notebook</a>'\n",
              "            + ' to learn more about interactive tables.';\n",
              "          element.innerHTML = '';\n",
              "          dataTable['output_type'] = 'display_data';\n",
              "          await google.colab.output.renderOutput(dataTable, element);\n",
              "          const docLink = document.createElement('div');\n",
              "          docLink.innerHTML = docLinkHtml;\n",
              "          element.appendChild(docLink);\n",
              "        }\n",
              "      </script>\n",
              "    </div>\n",
              "  </div>\n",
              "  "
            ]
          },
          "metadata": {},
          "execution_count": 13
        }
      ],
      "source": [
        "trainb = pd.read_csv('/content/drive/MyDrive/ML_text_processing/MOLD_SPLIT/subtask_b1.tsv','\\t',skiprows=1,names=['id','tweet','subtask_b'])\n",
        "trainb.head()"
      ]
    },
    {
      "cell_type": "code",
      "execution_count": null,
      "metadata": {
        "id": "ASMeZMgERl8k"
      },
      "outputs": [],
      "source": [
        "trainb['encoded_b'] = le.fit_transform(trainb['subtask_b'].astype(str))"
      ]
    },
    {
      "cell_type": "code",
      "execution_count": null,
      "metadata": {
        "colab": {
          "base_uri": "https://localhost:8080/",
          "height": 206
        },
        "id": "o8G92sjgRmWw",
        "outputId": "a0d2121d-f344-447d-c6eb-3c61f318f7f3"
      },
      "outputs": [
        {
          "output_type": "execute_result",
          "data": {
            "text/plain": [
              "     id                                              tweet subtask_b  \\\n",
              "0  1451  राम कदम वागण्यात नाही तर बोलण्यात चुकला बीजेपी...       TIN   \n",
              "1  1452  हीच का तुमची शिवसेने चि शिकवण आपली आई म्हणजे द...       TIN   \n",
              "2  1453  हे वाचा गाढवांनो आणि हे ही सांगा की तुमच्या मॅ...       TIN   \n",
              "3  1454           भक्त आंधळे असतात मूर्खा ना काही कळत नाही       TIN   \n",
              "4  1455  १९६६ साली छत्रपती शिवाजी महाराज या जागतिक दर्ज...       TIN   \n",
              "\n",
              "   encoded_b  \n",
              "0          0  \n",
              "1          0  \n",
              "2          0  \n",
              "3          0  \n",
              "4          0  "
            ],
            "text/html": [
              "\n",
              "  <div id=\"df-b03de1e4-460f-4e2d-88ab-cd1afcbcd8b6\">\n",
              "    <div class=\"colab-df-container\">\n",
              "      <div>\n",
              "<style scoped>\n",
              "    .dataframe tbody tr th:only-of-type {\n",
              "        vertical-align: middle;\n",
              "    }\n",
              "\n",
              "    .dataframe tbody tr th {\n",
              "        vertical-align: top;\n",
              "    }\n",
              "\n",
              "    .dataframe thead th {\n",
              "        text-align: right;\n",
              "    }\n",
              "</style>\n",
              "<table border=\"1\" class=\"dataframe\">\n",
              "  <thead>\n",
              "    <tr style=\"text-align: right;\">\n",
              "      <th></th>\n",
              "      <th>id</th>\n",
              "      <th>tweet</th>\n",
              "      <th>subtask_b</th>\n",
              "      <th>encoded_b</th>\n",
              "    </tr>\n",
              "  </thead>\n",
              "  <tbody>\n",
              "    <tr>\n",
              "      <th>0</th>\n",
              "      <td>1451</td>\n",
              "      <td>राम कदम वागण्यात नाही तर बोलण्यात चुकला बीजेपी...</td>\n",
              "      <td>TIN</td>\n",
              "      <td>0</td>\n",
              "    </tr>\n",
              "    <tr>\n",
              "      <th>1</th>\n",
              "      <td>1452</td>\n",
              "      <td>हीच का तुमची शिवसेने चि शिकवण आपली आई म्हणजे द...</td>\n",
              "      <td>TIN</td>\n",
              "      <td>0</td>\n",
              "    </tr>\n",
              "    <tr>\n",
              "      <th>2</th>\n",
              "      <td>1453</td>\n",
              "      <td>हे वाचा गाढवांनो आणि हे ही सांगा की तुमच्या मॅ...</td>\n",
              "      <td>TIN</td>\n",
              "      <td>0</td>\n",
              "    </tr>\n",
              "    <tr>\n",
              "      <th>3</th>\n",
              "      <td>1454</td>\n",
              "      <td>भक्त आंधळे असतात मूर्खा ना काही कळत नाही</td>\n",
              "      <td>TIN</td>\n",
              "      <td>0</td>\n",
              "    </tr>\n",
              "    <tr>\n",
              "      <th>4</th>\n",
              "      <td>1455</td>\n",
              "      <td>१९६६ साली छत्रपती शिवाजी महाराज या जागतिक दर्ज...</td>\n",
              "      <td>TIN</td>\n",
              "      <td>0</td>\n",
              "    </tr>\n",
              "  </tbody>\n",
              "</table>\n",
              "</div>\n",
              "      <button class=\"colab-df-convert\" onclick=\"convertToInteractive('df-b03de1e4-460f-4e2d-88ab-cd1afcbcd8b6')\"\n",
              "              title=\"Convert this dataframe to an interactive table.\"\n",
              "              style=\"display:none;\">\n",
              "        \n",
              "  <svg xmlns=\"http://www.w3.org/2000/svg\" height=\"24px\"viewBox=\"0 0 24 24\"\n",
              "       width=\"24px\">\n",
              "    <path d=\"M0 0h24v24H0V0z\" fill=\"none\"/>\n",
              "    <path d=\"M18.56 5.44l.94 2.06.94-2.06 2.06-.94-2.06-.94-.94-2.06-.94 2.06-2.06.94zm-11 1L8.5 8.5l.94-2.06 2.06-.94-2.06-.94L8.5 2.5l-.94 2.06-2.06.94zm10 10l.94 2.06.94-2.06 2.06-.94-2.06-.94-.94-2.06-.94 2.06-2.06.94z\"/><path d=\"M17.41 7.96l-1.37-1.37c-.4-.4-.92-.59-1.43-.59-.52 0-1.04.2-1.43.59L10.3 9.45l-7.72 7.72c-.78.78-.78 2.05 0 2.83L4 21.41c.39.39.9.59 1.41.59.51 0 1.02-.2 1.41-.59l7.78-7.78 2.81-2.81c.8-.78.8-2.07 0-2.86zM5.41 20L4 18.59l7.72-7.72 1.47 1.35L5.41 20z\"/>\n",
              "  </svg>\n",
              "      </button>\n",
              "      \n",
              "  <style>\n",
              "    .colab-df-container {\n",
              "      display:flex;\n",
              "      flex-wrap:wrap;\n",
              "      gap: 12px;\n",
              "    }\n",
              "\n",
              "    .colab-df-convert {\n",
              "      background-color: #E8F0FE;\n",
              "      border: none;\n",
              "      border-radius: 50%;\n",
              "      cursor: pointer;\n",
              "      display: none;\n",
              "      fill: #1967D2;\n",
              "      height: 32px;\n",
              "      padding: 0 0 0 0;\n",
              "      width: 32px;\n",
              "    }\n",
              "\n",
              "    .colab-df-convert:hover {\n",
              "      background-color: #E2EBFA;\n",
              "      box-shadow: 0px 1px 2px rgba(60, 64, 67, 0.3), 0px 1px 3px 1px rgba(60, 64, 67, 0.15);\n",
              "      fill: #174EA6;\n",
              "    }\n",
              "\n",
              "    [theme=dark] .colab-df-convert {\n",
              "      background-color: #3B4455;\n",
              "      fill: #D2E3FC;\n",
              "    }\n",
              "\n",
              "    [theme=dark] .colab-df-convert:hover {\n",
              "      background-color: #434B5C;\n",
              "      box-shadow: 0px 1px 3px 1px rgba(0, 0, 0, 0.15);\n",
              "      filter: drop-shadow(0px 1px 2px rgba(0, 0, 0, 0.3));\n",
              "      fill: #FFFFFF;\n",
              "    }\n",
              "  </style>\n",
              "\n",
              "      <script>\n",
              "        const buttonEl =\n",
              "          document.querySelector('#df-b03de1e4-460f-4e2d-88ab-cd1afcbcd8b6 button.colab-df-convert');\n",
              "        buttonEl.style.display =\n",
              "          google.colab.kernel.accessAllowed ? 'block' : 'none';\n",
              "\n",
              "        async function convertToInteractive(key) {\n",
              "          const element = document.querySelector('#df-b03de1e4-460f-4e2d-88ab-cd1afcbcd8b6');\n",
              "          const dataTable =\n",
              "            await google.colab.kernel.invokeFunction('convertToInteractive',\n",
              "                                                     [key], {});\n",
              "          if (!dataTable) return;\n",
              "\n",
              "          const docLinkHtml = 'Like what you see? Visit the ' +\n",
              "            '<a target=\"_blank\" href=https://colab.research.google.com/notebooks/data_table.ipynb>data table notebook</a>'\n",
              "            + ' to learn more about interactive tables.';\n",
              "          element.innerHTML = '';\n",
              "          dataTable['output_type'] = 'display_data';\n",
              "          await google.colab.output.renderOutput(dataTable, element);\n",
              "          const docLink = document.createElement('div');\n",
              "          docLink.innerHTML = docLinkHtml;\n",
              "          element.appendChild(docLink);\n",
              "        }\n",
              "      </script>\n",
              "    </div>\n",
              "  </div>\n",
              "  "
            ]
          },
          "metadata": {},
          "execution_count": 15
        }
      ],
      "source": [
        "trainb.head()"
      ]
    },
    {
      "cell_type": "code",
      "execution_count": null,
      "metadata": {
        "colab": {
          "base_uri": "https://localhost:8080/"
        },
        "id": "9cAOByIARmiW",
        "outputId": "1c0aec8a-7fa3-4c8e-cc7f-b0a723e2f604"
      },
      "outputs": [
        {
          "output_type": "stream",
          "name": "stdout",
          "text": [
            "      id label                                              tweet\n",
            "1      1   OFF  कोणत्याही  रिलेशनशिप मध्ये सुंदर दिसणं खूप महत...\n",
            "3      3   OFF  स्वत ला हवा तसा बाइट किंवा प्रतिक्रिया घेण्यास...\n",
            "4      4   OFF  व्या नंबरची अर्थव्यवस्था आहे भारताची जगात  पर्...\n",
            "7      7   OFF  अरे गैबान्या हुकलेल्या अनिस धर्म मानत नाही ना ...\n",
            "10    10   OFF  हिंदी च्या मोहापायी मुख्यमंत्रीपद गेलंय तरी ती...\n",
            "..   ...   ...                                                ...\n",
            "505  505   OFF  चायला  हा मराठीत कधी पासून ट्विट करायला लागला ...\n",
            "506  506   OFF  मदत तातडीने द्यायला हवी  महिने अधिकारी गोट्या ...\n",
            "507  507   OFF  @USER @USER @USER @USER @USER रंगा बिल्ला ने श...\n",
            "508  508   OFF  @USER काही लोकं अजूनही म्हणतात की पूर आल्यावर ...\n",
            "509  509   OFF             @USER सगळ्यात जास्त वास मारणारी पुच्ची\n",
            "\n",
            "[324 rows x 3 columns]\n"
          ]
        }
      ],
      "source": [
        "submission['tweet']=test['tweet']\n",
        "testb = submission[submission['label'] != 'NOT']\n",
        "print(testb)"
      ]
    },
    {
      "cell_type": "code",
      "execution_count": null,
      "metadata": {
        "id": "GY8EnlegRmrx"
      },
      "outputs": [],
      "source": [
        "x_train=trainb['tweet']\n",
        "y_train=trainb['encoded_b']\n",
        "x_train=x_train.replace(np.nan,\"\")\n",
        "x_test=testb['tweet']\n",
        "x_test=x_test.replace(np.nan,\"\")\n",
        "x_train = vectorizer.fit_transform(x_train)\n",
        "x_test=vectorizer.transform(x_test)"
      ]
    },
    {
      "cell_type": "code",
      "execution_count": null,
      "metadata": {
        "colab": {
          "base_uri": "https://localhost:8080/"
        },
        "id": "cHH3TxUIRm2b",
        "outputId": "71be36d4-7311-4603-8923-8921f460b162"
      },
      "outputs": [
        {
          "output_type": "execute_result",
          "data": {
            "text/plain": [
              "KNeighborsClassifier(n_neighbors=3)"
            ]
          },
          "metadata": {},
          "execution_count": 18
        }
      ],
      "source": [
        "knn_clf.fit(x_train, y_train)"
      ]
    },
    {
      "cell_type": "code",
      "execution_count": null,
      "metadata": {
        "id": "cO4nQR0tRm5C"
      },
      "outputs": [],
      "source": [
        "y_predb = knn_clf.predict(x_test)"
      ]
    },
    {
      "cell_type": "code",
      "source": [
        "y_predb"
      ],
      "metadata": {
        "colab": {
          "base_uri": "https://localhost:8080/"
        },
        "id": "L0hkvxoX0M8V",
        "outputId": "dda0a074-06fd-4100-f570-ad988ee2ab50"
      },
      "execution_count": null,
      "outputs": [
        {
          "output_type": "execute_result",
          "data": {
            "text/plain": [
              "array([1, 0, 0, 1, 0, 0, 0, 0, 0, 0, 0, 0, 0, 0, 1, 0, 0, 0, 0, 0, 0, 0,\n",
              "       0, 0, 0, 0, 0, 0, 1, 0, 1, 0, 1, 0, 1, 1, 1, 0, 0, 0, 0, 0, 0, 0,\n",
              "       1, 0, 0, 1, 1, 0, 0, 1, 0, 0, 0, 0, 0, 0, 1, 1, 1, 0, 1, 0, 0, 0,\n",
              "       0, 0, 0, 0, 0, 0, 1, 1, 0, 1, 0, 1, 0, 0, 0, 0, 0, 0, 0, 1, 0, 0,\n",
              "       1, 0, 1, 0, 0, 1, 0, 1, 1, 0, 1, 0, 0, 0, 1, 0, 0, 0, 0, 0, 0, 0,\n",
              "       0, 0, 0, 0, 1, 0, 0, 1, 0, 0, 0, 1, 0, 0, 1, 0, 1, 0, 0, 0, 0, 0,\n",
              "       0, 0, 0, 0, 0, 0, 0, 0, 0, 0, 1, 0, 1, 1, 1, 1, 1, 1, 0, 1, 1, 1,\n",
              "       0, 0, 1, 1, 1, 0, 0, 1, 0, 0, 1, 1, 0, 1, 1, 1, 0, 1, 1, 1, 1, 0,\n",
              "       0, 1, 1, 1, 1, 0, 1, 0, 1, 0, 0, 0, 0, 0, 0, 0, 0, 0, 0, 0, 0, 0,\n",
              "       0, 0, 0, 0, 0, 0, 0, 1, 0, 1, 0, 0, 1, 0, 0, 0, 1, 0, 0, 0, 0, 0,\n",
              "       0, 0, 1, 0, 0, 0, 0, 0, 0, 0, 0, 0, 0, 0, 0, 0, 1, 0, 0, 1, 1, 0,\n",
              "       1, 0, 0, 0, 0, 0, 0, 0, 0, 0, 0, 0, 0, 0, 0, 0, 0, 0, 1, 0, 0, 0,\n",
              "       0, 0, 1, 0, 1, 0, 0, 0, 0, 0, 1, 0, 0, 0, 0, 0, 0, 0, 1, 1, 0, 1,\n",
              "       1, 1, 1, 1, 1, 0, 0, 0, 0, 1, 1, 1, 1, 1, 1, 1, 1, 1, 1, 1, 1, 1,\n",
              "       1, 1, 1, 0, 0, 1, 0, 0, 0, 0, 1, 1, 1, 0, 1, 0])"
            ]
          },
          "metadata": {},
          "execution_count": 20
        }
      ]
    },
    {
      "cell_type": "code",
      "source": [
        "import math\n",
        "pred=[]\n",
        "for i in range(len(y_predb)):\n",
        " pred.append(int(y_pred[i].round()))\n",
        "pred=le.inverse_transform(pred)\n"
      ],
      "metadata": {
        "id": "t5FzEOoesGZY"
      },
      "execution_count": null,
      "outputs": []
    },
    {
      "cell_type": "code",
      "source": [
        "pred"
      ],
      "metadata": {
        "colab": {
          "base_uri": "https://localhost:8080/"
        },
        "id": "OVFK3z2z0X9w",
        "outputId": "54facf1b-5ed0-4bf0-ed01-dc747ba96319"
      },
      "execution_count": null,
      "outputs": [
        {
          "output_type": "execute_result",
          "data": {
            "text/plain": [
              "array(['TIN', 'UNT', 'TIN', 'UNT', 'UNT', 'TIN', 'TIN', 'UNT', 'TIN',\n",
              "       'TIN', 'UNT', 'TIN', 'UNT', 'TIN', 'TIN', 'TIN', 'TIN', 'TIN',\n",
              "       'TIN', 'TIN', 'UNT', 'UNT', 'TIN', 'UNT', 'TIN', 'TIN', 'TIN',\n",
              "       'TIN', 'UNT', 'TIN', 'UNT', 'TIN', 'UNT', 'TIN', 'TIN', 'TIN',\n",
              "       'UNT', 'UNT', 'TIN', 'TIN', 'TIN', 'TIN', 'TIN', 'TIN', 'UNT',\n",
              "       'TIN', 'UNT', 'TIN', 'UNT', 'TIN', 'UNT', 'UNT', 'UNT', 'UNT',\n",
              "       'TIN', 'TIN', 'UNT', 'TIN', 'UNT', 'TIN', 'TIN', 'TIN', 'UNT',\n",
              "       'TIN', 'TIN', 'TIN', 'TIN', 'TIN', 'TIN', 'TIN', 'UNT', 'TIN',\n",
              "       'UNT', 'TIN', 'UNT', 'TIN', 'UNT', 'UNT', 'TIN', 'UNT', 'UNT',\n",
              "       'UNT', 'TIN', 'UNT', 'TIN', 'TIN', 'UNT', 'UNT', 'TIN', 'TIN',\n",
              "       'TIN', 'UNT', 'TIN', 'TIN', 'UNT', 'TIN', 'TIN', 'TIN', 'UNT',\n",
              "       'UNT', 'TIN', 'TIN', 'UNT', 'UNT', 'UNT', 'TIN', 'TIN', 'TIN',\n",
              "       'UNT', 'TIN', 'UNT', 'UNT', 'TIN', 'TIN', 'UNT', 'TIN', 'UNT',\n",
              "       'UNT', 'TIN', 'TIN', 'UNT', 'TIN', 'UNT', 'TIN', 'TIN', 'TIN',\n",
              "       'TIN', 'UNT', 'TIN', 'UNT', 'UNT', 'TIN', 'UNT', 'UNT', 'UNT',\n",
              "       'TIN', 'UNT', 'TIN', 'UNT', 'TIN', 'UNT', 'UNT', 'TIN', 'TIN',\n",
              "       'UNT', 'UNT', 'UNT', 'TIN', 'TIN', 'TIN', 'TIN', 'TIN', 'TIN',\n",
              "       'UNT', 'UNT', 'UNT', 'TIN', 'TIN', 'TIN', 'TIN', 'TIN', 'TIN',\n",
              "       'UNT', 'UNT', 'UNT', 'TIN', 'UNT', 'TIN', 'TIN', 'TIN', 'UNT',\n",
              "       'UNT', 'TIN', 'UNT', 'TIN', 'TIN', 'TIN', 'UNT', 'TIN', 'TIN',\n",
              "       'UNT', 'TIN', 'UNT', 'TIN', 'UNT', 'TIN', 'TIN', 'TIN', 'TIN',\n",
              "       'TIN', 'UNT', 'UNT', 'TIN', 'TIN', 'TIN', 'TIN', 'TIN', 'TIN',\n",
              "       'UNT', 'TIN', 'TIN', 'UNT', 'TIN', 'TIN', 'UNT', 'TIN', 'UNT',\n",
              "       'UNT', 'UNT', 'TIN', 'UNT', 'UNT', 'UNT', 'TIN', 'TIN', 'UNT',\n",
              "       'TIN', 'UNT', 'TIN', 'TIN', 'TIN', 'UNT', 'TIN', 'UNT', 'TIN',\n",
              "       'TIN', 'TIN', 'TIN', 'TIN', 'TIN', 'TIN', 'TIN', 'TIN', 'TIN',\n",
              "       'TIN', 'UNT', 'UNT', 'TIN', 'UNT', 'TIN', 'UNT', 'TIN', 'TIN',\n",
              "       'TIN', 'TIN', 'UNT', 'UNT', 'UNT', 'TIN', 'TIN', 'UNT', 'UNT',\n",
              "       'UNT', 'UNT', 'TIN', 'UNT', 'TIN', 'UNT', 'UNT', 'UNT', 'UNT',\n",
              "       'UNT', 'UNT', 'UNT', 'UNT', 'UNT', 'UNT', 'UNT', 'UNT', 'UNT',\n",
              "       'TIN', 'UNT', 'UNT', 'UNT', 'UNT', 'UNT', 'UNT', 'UNT', 'UNT',\n",
              "       'UNT', 'UNT', 'UNT', 'TIN', 'UNT', 'UNT', 'UNT', 'UNT', 'UNT',\n",
              "       'UNT', 'UNT', 'UNT', 'TIN', 'UNT', 'UNT', 'TIN', 'UNT', 'UNT',\n",
              "       'UNT', 'UNT', 'UNT', 'UNT', 'TIN', 'UNT', 'UNT', 'UNT', 'UNT',\n",
              "       'UNT', 'UNT', 'UNT', 'TIN', 'UNT', 'TIN', 'UNT', 'UNT', 'UNT',\n",
              "       'UNT', 'TIN', 'UNT', 'UNT', 'UNT', 'TIN', 'UNT', 'UNT', 'UNT'],\n",
              "      dtype=object)"
            ]
          },
          "metadata": {},
          "execution_count": 22
        }
      ]
    },
    {
      "cell_type": "code",
      "source": [
        "submissionb = pd.DataFrame()\n",
        "submissionb['id'] = testb['id']\n",
        "submissionb['label'] = pred\n",
        "sub_temp=submissionb\n",
        "for i in null_list:\n",
        "  submissionb=submissionb.append({'id' : int(i),'label' : None} , ignore_index=True)\n",
        "submissionb=submissionb.sort_values(by=['id'])\n",
        "submissionb['id']=submission.index\n",
        "submissionb.to_csv('/content/drive/MyDrive/ML_text_processing/MOLD_SPLIT/taskb1_sub4.csv',index= False)"
      ],
      "metadata": {
        "id": "o2DCevIJsPZy"
      },
      "execution_count": null,
      "outputs": []
    },
    {
      "cell_type": "code",
      "source": [
        "submissionb.index=submission.index\n",
        "submissionb.head()\n",
        "submissionb['tweet']=test['tweet']\n",
        "print(submissionb.index)\n",
        "print(submissionb['tweet'])"
      ],
      "metadata": {
        "colab": {
          "base_uri": "https://localhost:8080/"
        },
        "id": "b5XzFL0KtgED",
        "outputId": "9bed8d47-95e0-4a7e-f261-70c14438c6c5"
      },
      "execution_count": null,
      "outputs": [
        {
          "output_type": "stream",
          "name": "stdout",
          "text": [
            "RangeIndex(start=0, stop=510, step=1)\n",
            "0      पूर्व लडाखमधील मुखपरी येथे प्रत्यक्ष ताबारेषेज...\n",
            "1      कोणत्याही  रिलेशनशिप मध्ये सुंदर दिसणं खूप महत...\n",
            "2      भारत  ऑगस्ट  ला स्वतंत्र झाला आणि त्यानंतर तब्...\n",
            "3      स्वत ला हवा तसा बाइट किंवा प्रतिक्रिया घेण्यास...\n",
            "4      व्या नंबरची अर्थव्यवस्था आहे भारताची जगात  पर्...\n",
            "                             ...                        \n",
            "505    चायला  हा मराठीत कधी पासून ट्विट करायला लागला ...\n",
            "506    मदत तातडीने द्यायला हवी  महिने अधिकारी गोट्या ...\n",
            "507    @USER @USER @USER @USER @USER रंगा बिल्ला ने श...\n",
            "508    @USER काही लोकं अजूनही म्हणतात की पूर आल्यावर ...\n",
            "509               @USER सगळ्यात जास्त वास मारणारी पुच्ची\n",
            "Name: tweet, Length: 510, dtype: object\n"
          ]
        }
      ]
    },
    {
      "cell_type": "code",
      "source": [
        "null_list1=[]\n",
        "null_list1=submissionb.index[submissionb['label'] == \"UNT\"].tolist()\n",
        "print(null_list1)\n",
        "print(len(null_list1))"
      ],
      "metadata": {
        "colab": {
          "base_uri": "https://localhost:8080/"
        },
        "id": "ZCewkxk8zhFw",
        "outputId": "b0cb8f2f-23ca-4f41-d507-76dd66e11858"
      },
      "execution_count": null,
      "outputs": [
        {
          "output_type": "stream",
          "name": "stdout",
          "text": [
            "[3, 7, 10, 21, 30, 36, 53, 56, 62, 77, 80, 83, 94, 98, 111, 116, 120, 127, 129, 130, 132, 136, 140, 146, 170, 173, 180, 184, 190, 198, 201, 204, 207, 211, 212, 223, 238, 247, 250, 253, 255, 257, 261, 263, 264, 267, 269, 271, 274, 276, 281, 284, 285, 287, 288, 289, 292, 295, 297, 298, 302, 303, 304, 313, 314, 315, 324, 325, 326, 328, 332, 333, 336, 340, 343, 345, 347, 356, 357, 365, 369, 372, 374, 375, 376, 379, 380, 381, 385, 387, 391, 393, 407, 408, 410, 412, 417, 418, 420, 424, 426, 427, 428, 430, 432, 433, 434, 435, 436, 437, 438, 439, 440, 441, 443, 444, 445, 448, 449, 450, 451, 452, 453, 455, 456, 457, 458, 459, 462, 463, 464, 465, 466, 467, 468, 469, 472, 473, 475, 476, 477, 480, 481, 482, 484, 485, 486, 487, 489, 490, 491, 493, 495, 496, 497, 498, 502, 504, 505, 507, 508, 509]\n",
            "162\n"
          ]
        }
      ]
    },
    {
      "cell_type": "code",
      "source": [
        "\n",
        "for i in null_list1:\n",
        "  null_list.append(i)\n",
        "null_list =list(set(null_list))\n"
      ],
      "metadata": {
        "id": "Sllm74SiBBg2"
      },
      "execution_count": null,
      "outputs": []
    },
    {
      "cell_type": "code",
      "source": [
        "print(null_list)"
      ],
      "metadata": {
        "colab": {
          "base_uri": "https://localhost:8080/"
        },
        "id": "1sUCKdW6GIXG",
        "outputId": "25d11b72-851c-4f03-820b-0830fe939d3b"
      },
      "execution_count": null,
      "outputs": [
        {
          "output_type": "stream",
          "name": "stdout",
          "text": [
            "[0, 2, 3, 5, 6, 7, 8, 9, 10, 11, 13, 14, 15, 16, 17, 18, 19, 21, 22, 24, 25, 26, 27, 29, 30, 31, 33, 34, 35, 36, 38, 39, 40, 41, 42, 43, 45, 47, 49, 53, 54, 55, 56, 57, 59, 60, 61, 62, 63, 64, 65, 66, 67, 68, 69, 71, 73, 75, 77, 78, 80, 82, 83, 84, 85, 88, 89, 90, 92, 93, 94, 95, 96, 97, 98, 100, 101, 105, 106, 107, 109, 111, 112, 113, 115, 116, 118, 119, 120, 121, 123, 124, 125, 126, 127, 128, 129, 130, 131, 132, 135, 136, 137, 139, 140, 142, 143, 146, 147, 148, 149, 150, 151, 152, 156, 157, 158, 159, 160, 161, 165, 167, 168, 169, 170, 172, 173, 174, 175, 176, 178, 179, 180, 181, 183, 184, 185, 186, 187, 188, 189, 190, 192, 193, 194, 195, 196, 197, 198, 199, 200, 201, 202, 203, 204, 205, 207, 209, 211, 212, 213, 214, 216, 218, 219, 220, 222, 223, 224, 225, 226, 227, 228, 229, 230, 231, 232, 233, 234, 237, 238, 239, 241, 242, 243, 244, 247, 248, 249, 250, 253, 254, 255, 256, 257, 261, 263, 264, 267, 269, 270, 271, 274, 276, 281, 282, 284, 285, 287, 288, 289, 291, 292, 294, 295, 297, 298, 301, 302, 303, 304, 309, 311, 313, 314, 315, 316, 320, 324, 325, 326, 328, 332, 333, 334, 336, 340, 343, 345, 347, 349, 350, 352, 356, 357, 363, 365, 367, 369, 372, 374, 375, 376, 377, 379, 380, 381, 382, 385, 387, 391, 393, 398, 405, 407, 408, 410, 412, 417, 418, 419, 420, 421, 424, 425, 426, 427, 428, 430, 432, 433, 434, 435, 436, 437, 438, 439, 440, 441, 442, 443, 444, 445, 447, 448, 449, 450, 451, 452, 453, 454, 455, 456, 457, 458, 459, 461, 462, 463, 464, 465, 466, 467, 468, 469, 470, 472, 473, 475, 476, 477, 478, 479, 480, 481, 482, 484, 485, 486, 487, 488, 489, 490, 491, 493, 495, 496, 497, 498, 499, 501, 502, 503, 504, 505, 507, 508, 509]\n"
          ]
        }
      ]
    },
    {
      "cell_type": "code",
      "source": [
        "testc = submissionb[submissionb['label'] != 'UNT']\n",
        "testc=testc.dropna()\n",
        "print(testc)"
      ],
      "metadata": {
        "colab": {
          "base_uri": "https://localhost:8080/"
        },
        "id": "AwjdDR4c2aLu",
        "outputId": "65604825-7f43-43db-f3c4-d31088347f07"
      },
      "execution_count": null,
      "outputs": [
        {
          "output_type": "stream",
          "name": "stdout",
          "text": [
            "      id label                                              tweet\n",
            "1      1   TIN  कोणत्याही  रिलेशनशिप मध्ये सुंदर दिसणं खूप महत...\n",
            "4      4   TIN  व्या नंबरची अर्थव्यवस्था आहे भारताची जगात  पर्...\n",
            "12    12   TIN  मग चला सुरू करूया मी पाहिलं वाक्य टाकतो काळोख ...\n",
            "20    20   TIN  भाजप हि मराठी अस्मितेची सर्वात मोठी शत्रू आहे ...\n",
            "23    23   TIN  आमच्या आवडत्या नेत्यावर कोणी साधी टीका जरी केल...\n",
            "..   ...   ...                                                ...\n",
            "483  483   TIN                 @USER नालायक पणाची पण एक सीमा असते\n",
            "492  492   TIN                                      @USER नालायक़\n",
            "494  494   TIN  @USER @USER @USER @USER अरे नालायक @USER काय द...\n",
            "500  500   TIN       @USER चायला मी बिडी च्या ऐवजी भिडे वाचला राव\n",
            "506  506   TIN  मदत तातडीने द्यायला हवी  महिने अधिकारी गोट्या ...\n",
            "\n",
            "[162 rows x 3 columns]\n"
          ]
        }
      ]
    },
    {
      "cell_type": "code",
      "execution_count": null,
      "metadata": {
        "colab": {
          "base_uri": "https://localhost:8080/",
          "height": 206
        },
        "id": "zpYEqa24q5V1",
        "outputId": "682fcbf7-2c91-4e8c-eadc-a062505e4519"
      },
      "outputs": [
        {
          "output_type": "execute_result",
          "data": {
            "text/plain": [
              "     id                                              tweet subtask_c\n",
              "0  1451  राम कदम वागण्यात नाही तर बोलण्यात चुकला बीजेपी...       GRP\n",
              "1  1452  हीच का तुमची शिवसेने चि शिकवण आपली आई म्हणजे द...       GRP\n",
              "2  1453  हे वाचा गाढवांनो आणि हे ही सांगा की तुमच्या मॅ...       GRP\n",
              "3  1454           भक्त आंधळे असतात मूर्खा ना काही कळत नाही       GRP\n",
              "4  1455  १९६६ साली छत्रपती शिवाजी महाराज या जागतिक दर्ज...       GRP"
            ],
            "text/html": [
              "\n",
              "  <div id=\"df-d26b4f90-6f97-4e78-be8c-75acc45bc6da\">\n",
              "    <div class=\"colab-df-container\">\n",
              "      <div>\n",
              "<style scoped>\n",
              "    .dataframe tbody tr th:only-of-type {\n",
              "        vertical-align: middle;\n",
              "    }\n",
              "\n",
              "    .dataframe tbody tr th {\n",
              "        vertical-align: top;\n",
              "    }\n",
              "\n",
              "    .dataframe thead th {\n",
              "        text-align: right;\n",
              "    }\n",
              "</style>\n",
              "<table border=\"1\" class=\"dataframe\">\n",
              "  <thead>\n",
              "    <tr style=\"text-align: right;\">\n",
              "      <th></th>\n",
              "      <th>id</th>\n",
              "      <th>tweet</th>\n",
              "      <th>subtask_c</th>\n",
              "    </tr>\n",
              "  </thead>\n",
              "  <tbody>\n",
              "    <tr>\n",
              "      <th>0</th>\n",
              "      <td>1451</td>\n",
              "      <td>राम कदम वागण्यात नाही तर बोलण्यात चुकला बीजेपी...</td>\n",
              "      <td>GRP</td>\n",
              "    </tr>\n",
              "    <tr>\n",
              "      <th>1</th>\n",
              "      <td>1452</td>\n",
              "      <td>हीच का तुमची शिवसेने चि शिकवण आपली आई म्हणजे द...</td>\n",
              "      <td>GRP</td>\n",
              "    </tr>\n",
              "    <tr>\n",
              "      <th>2</th>\n",
              "      <td>1453</td>\n",
              "      <td>हे वाचा गाढवांनो आणि हे ही सांगा की तुमच्या मॅ...</td>\n",
              "      <td>GRP</td>\n",
              "    </tr>\n",
              "    <tr>\n",
              "      <th>3</th>\n",
              "      <td>1454</td>\n",
              "      <td>भक्त आंधळे असतात मूर्खा ना काही कळत नाही</td>\n",
              "      <td>GRP</td>\n",
              "    </tr>\n",
              "    <tr>\n",
              "      <th>4</th>\n",
              "      <td>1455</td>\n",
              "      <td>१९६६ साली छत्रपती शिवाजी महाराज या जागतिक दर्ज...</td>\n",
              "      <td>GRP</td>\n",
              "    </tr>\n",
              "  </tbody>\n",
              "</table>\n",
              "</div>\n",
              "      <button class=\"colab-df-convert\" onclick=\"convertToInteractive('df-d26b4f90-6f97-4e78-be8c-75acc45bc6da')\"\n",
              "              title=\"Convert this dataframe to an interactive table.\"\n",
              "              style=\"display:none;\">\n",
              "        \n",
              "  <svg xmlns=\"http://www.w3.org/2000/svg\" height=\"24px\"viewBox=\"0 0 24 24\"\n",
              "       width=\"24px\">\n",
              "    <path d=\"M0 0h24v24H0V0z\" fill=\"none\"/>\n",
              "    <path d=\"M18.56 5.44l.94 2.06.94-2.06 2.06-.94-2.06-.94-.94-2.06-.94 2.06-2.06.94zm-11 1L8.5 8.5l.94-2.06 2.06-.94-2.06-.94L8.5 2.5l-.94 2.06-2.06.94zm10 10l.94 2.06.94-2.06 2.06-.94-2.06-.94-.94-2.06-.94 2.06-2.06.94z\"/><path d=\"M17.41 7.96l-1.37-1.37c-.4-.4-.92-.59-1.43-.59-.52 0-1.04.2-1.43.59L10.3 9.45l-7.72 7.72c-.78.78-.78 2.05 0 2.83L4 21.41c.39.39.9.59 1.41.59.51 0 1.02-.2 1.41-.59l7.78-7.78 2.81-2.81c.8-.78.8-2.07 0-2.86zM5.41 20L4 18.59l7.72-7.72 1.47 1.35L5.41 20z\"/>\n",
              "  </svg>\n",
              "      </button>\n",
              "      \n",
              "  <style>\n",
              "    .colab-df-container {\n",
              "      display:flex;\n",
              "      flex-wrap:wrap;\n",
              "      gap: 12px;\n",
              "    }\n",
              "\n",
              "    .colab-df-convert {\n",
              "      background-color: #E8F0FE;\n",
              "      border: none;\n",
              "      border-radius: 50%;\n",
              "      cursor: pointer;\n",
              "      display: none;\n",
              "      fill: #1967D2;\n",
              "      height: 32px;\n",
              "      padding: 0 0 0 0;\n",
              "      width: 32px;\n",
              "    }\n",
              "\n",
              "    .colab-df-convert:hover {\n",
              "      background-color: #E2EBFA;\n",
              "      box-shadow: 0px 1px 2px rgba(60, 64, 67, 0.3), 0px 1px 3px 1px rgba(60, 64, 67, 0.15);\n",
              "      fill: #174EA6;\n",
              "    }\n",
              "\n",
              "    [theme=dark] .colab-df-convert {\n",
              "      background-color: #3B4455;\n",
              "      fill: #D2E3FC;\n",
              "    }\n",
              "\n",
              "    [theme=dark] .colab-df-convert:hover {\n",
              "      background-color: #434B5C;\n",
              "      box-shadow: 0px 1px 3px 1px rgba(0, 0, 0, 0.15);\n",
              "      filter: drop-shadow(0px 1px 2px rgba(0, 0, 0, 0.3));\n",
              "      fill: #FFFFFF;\n",
              "    }\n",
              "  </style>\n",
              "\n",
              "      <script>\n",
              "        const buttonEl =\n",
              "          document.querySelector('#df-d26b4f90-6f97-4e78-be8c-75acc45bc6da button.colab-df-convert');\n",
              "        buttonEl.style.display =\n",
              "          google.colab.kernel.accessAllowed ? 'block' : 'none';\n",
              "\n",
              "        async function convertToInteractive(key) {\n",
              "          const element = document.querySelector('#df-d26b4f90-6f97-4e78-be8c-75acc45bc6da');\n",
              "          const dataTable =\n",
              "            await google.colab.kernel.invokeFunction('convertToInteractive',\n",
              "                                                     [key], {});\n",
              "          if (!dataTable) return;\n",
              "\n",
              "          const docLinkHtml = 'Like what you see? Visit the ' +\n",
              "            '<a target=\"_blank\" href=https://colab.research.google.com/notebooks/data_table.ipynb>data table notebook</a>'\n",
              "            + ' to learn more about interactive tables.';\n",
              "          element.innerHTML = '';\n",
              "          dataTable['output_type'] = 'display_data';\n",
              "          await google.colab.output.renderOutput(dataTable, element);\n",
              "          const docLink = document.createElement('div');\n",
              "          docLink.innerHTML = docLinkHtml;\n",
              "          element.appendChild(docLink);\n",
              "        }\n",
              "      </script>\n",
              "    </div>\n",
              "  </div>\n",
              "  "
            ]
          },
          "metadata": {},
          "execution_count": 29
        }
      ],
      "source": [
        "trainc = pd.read_csv('/content/drive/MyDrive/ML_text_processing/MOLD_SPLIT/subtask_c1.tsv','\\t',skiprows=1,names=['id','tweet','subtask_c'])\n",
        "trainc.head()\n"
      ]
    },
    {
      "cell_type": "code",
      "execution_count": null,
      "metadata": {
        "colab": {
          "base_uri": "https://localhost:8080/"
        },
        "id": "VZ1kObYWRnDO",
        "outputId": "fec32189-c61a-4b0c-e26f-a435d4e42179"
      },
      "outputs": [
        {
          "output_type": "stream",
          "name": "stdout",
          "text": [
            "       id                                              tweet subtask_c  \\\n",
            "0    1451  राम कदम वागण्यात नाही तर बोलण्यात चुकला बीजेपी...       GRP   \n",
            "1    1452  हीच का तुमची शिवसेने चि शिकवण आपली आई म्हणजे द...       GRP   \n",
            "2    1453  हे वाचा गाढवांनो आणि हे ही सांगा की तुमच्या मॅ...       GRP   \n",
            "3    1454           भक्त आंधळे असतात मूर्खा ना काही कळत नाही       GRP   \n",
            "4    1455  १९६६ साली छत्रपती शिवाजी महाराज या जागतिक दर्ज...       GRP   \n",
            "..    ...                                                ...       ...   \n",
            "735  3064                   @USER @USER हो रे साहेबचा गोट्या       OTH   \n",
            "736  3099  @USER दोन नंबर पुच्ची पाकळ्या मस्त आहेत चाटायल...       OTH   \n",
            "737  3100                            @USER पुच्ची कप्तान साब       OTH   \n",
            "738  3101  @USER नंबरकाळी पुच्ची आणि वर थोडे केसखालून चाट...       OTH   \n",
            "739  3102             @USER तुज्या आमची पुच्ची आतल्या लवड्या       OTH   \n",
            "\n",
            "     encoded_c  \n",
            "0            0  \n",
            "1            0  \n",
            "2            0  \n",
            "3            0  \n",
            "4            0  \n",
            "..         ...  \n",
            "735          2  \n",
            "736          2  \n",
            "737          2  \n",
            "738          2  \n",
            "739          2  \n",
            "\n",
            "[740 rows x 4 columns]\n"
          ]
        }
      ],
      "source": [
        "trainc['encoded_c'] = le.fit_transform(trainc['subtask_c'].astype(str))\n",
        "print(trainc)"
      ]
    },
    {
      "cell_type": "code",
      "source": [
        "print(submissionb.index)\n"
      ],
      "metadata": {
        "colab": {
          "base_uri": "https://localhost:8080/"
        },
        "id": "h2_Oa-zRDH62",
        "outputId": "59defb08-8dc7-48a9-bc96-39e288eae2b0"
      },
      "execution_count": null,
      "outputs": [
        {
          "output_type": "stream",
          "name": "stdout",
          "text": [
            "RangeIndex(start=0, stop=510, step=1)\n"
          ]
        }
      ]
    },
    {
      "cell_type": "code",
      "execution_count": null,
      "metadata": {
        "id": "nxay4owyRnIF"
      },
      "outputs": [],
      "source": [
        "x_train=trainc['tweet']\n",
        "y_train=trainc['encoded_c']\n",
        "x_train=x_train.replace(np.nan,\"\")\n",
        "x_test=testc['tweet']\n",
        "x_test=x_test.replace(np.nan,\"\")\n",
        "x_train = vectorizer.fit_transform(x_train)\n",
        "x_test=vectorizer.transform(x_test)"
      ]
    },
    {
      "cell_type": "code",
      "execution_count": null,
      "metadata": {
        "colab": {
          "base_uri": "https://localhost:8080/"
        },
        "id": "19NOnDL5Z_nA",
        "outputId": "77ba8b3b-7d06-421a-ec1c-2bb0f588ab48"
      },
      "outputs": [
        {
          "output_type": "execute_result",
          "data": {
            "text/plain": [
              "KNeighborsClassifier(n_neighbors=3)"
            ]
          },
          "metadata": {},
          "execution_count": 33
        }
      ],
      "source": [
        "knn_clf.fit(x_train, y_train)"
      ]
    },
    {
      "cell_type": "code",
      "execution_count": null,
      "metadata": {
        "id": "tmb0gE1XZ_pB"
      },
      "outputs": [],
      "source": [
        "y_predc = knn_clf.predict(x_test)\n",
        "import math\n",
        "pred=[]\n",
        "for i in range(len(y_predc)):\n",
        " pred.append(int(y_predc[i].round()))\n",
        "pred=le.inverse_transform(pred)"
      ]
    },
    {
      "cell_type": "code",
      "source": [
        "submissionc = pd.DataFrame()\n",
        "submissionc['id'] = testc['id']\n",
        "submissionc['label'] = pred\n"
      ],
      "metadata": {
        "id": "ZhnqHs1k8PsC"
      },
      "execution_count": null,
      "outputs": []
    },
    {
      "cell_type": "code",
      "source": [
        "submissionc"
      ],
      "metadata": {
        "colab": {
          "base_uri": "https://localhost:8080/",
          "height": 424
        },
        "id": "G3Y3IEWB-nb8",
        "outputId": "53588358-c3ad-4dbc-f73b-e921f2ad92f5"
      },
      "execution_count": null,
      "outputs": [
        {
          "output_type": "execute_result",
          "data": {
            "text/plain": [
              "      id label\n",
              "1      1   IND\n",
              "4      4   IND\n",
              "12    12   GRP\n",
              "20    20   IND\n",
              "23    23   IND\n",
              "..   ...   ...\n",
              "483  483   IND\n",
              "492  492   IND\n",
              "494  494   GRP\n",
              "500  500   IND\n",
              "506  506   IND\n",
              "\n",
              "[162 rows x 2 columns]"
            ],
            "text/html": [
              "\n",
              "  <div id=\"df-77a1bc64-1472-4607-a7b3-d9cac602b0e5\">\n",
              "    <div class=\"colab-df-container\">\n",
              "      <div>\n",
              "<style scoped>\n",
              "    .dataframe tbody tr th:only-of-type {\n",
              "        vertical-align: middle;\n",
              "    }\n",
              "\n",
              "    .dataframe tbody tr th {\n",
              "        vertical-align: top;\n",
              "    }\n",
              "\n",
              "    .dataframe thead th {\n",
              "        text-align: right;\n",
              "    }\n",
              "</style>\n",
              "<table border=\"1\" class=\"dataframe\">\n",
              "  <thead>\n",
              "    <tr style=\"text-align: right;\">\n",
              "      <th></th>\n",
              "      <th>id</th>\n",
              "      <th>label</th>\n",
              "    </tr>\n",
              "  </thead>\n",
              "  <tbody>\n",
              "    <tr>\n",
              "      <th>1</th>\n",
              "      <td>1</td>\n",
              "      <td>IND</td>\n",
              "    </tr>\n",
              "    <tr>\n",
              "      <th>4</th>\n",
              "      <td>4</td>\n",
              "      <td>IND</td>\n",
              "    </tr>\n",
              "    <tr>\n",
              "      <th>12</th>\n",
              "      <td>12</td>\n",
              "      <td>GRP</td>\n",
              "    </tr>\n",
              "    <tr>\n",
              "      <th>20</th>\n",
              "      <td>20</td>\n",
              "      <td>IND</td>\n",
              "    </tr>\n",
              "    <tr>\n",
              "      <th>23</th>\n",
              "      <td>23</td>\n",
              "      <td>IND</td>\n",
              "    </tr>\n",
              "    <tr>\n",
              "      <th>...</th>\n",
              "      <td>...</td>\n",
              "      <td>...</td>\n",
              "    </tr>\n",
              "    <tr>\n",
              "      <th>483</th>\n",
              "      <td>483</td>\n",
              "      <td>IND</td>\n",
              "    </tr>\n",
              "    <tr>\n",
              "      <th>492</th>\n",
              "      <td>492</td>\n",
              "      <td>IND</td>\n",
              "    </tr>\n",
              "    <tr>\n",
              "      <th>494</th>\n",
              "      <td>494</td>\n",
              "      <td>GRP</td>\n",
              "    </tr>\n",
              "    <tr>\n",
              "      <th>500</th>\n",
              "      <td>500</td>\n",
              "      <td>IND</td>\n",
              "    </tr>\n",
              "    <tr>\n",
              "      <th>506</th>\n",
              "      <td>506</td>\n",
              "      <td>IND</td>\n",
              "    </tr>\n",
              "  </tbody>\n",
              "</table>\n",
              "<p>162 rows × 2 columns</p>\n",
              "</div>\n",
              "      <button class=\"colab-df-convert\" onclick=\"convertToInteractive('df-77a1bc64-1472-4607-a7b3-d9cac602b0e5')\"\n",
              "              title=\"Convert this dataframe to an interactive table.\"\n",
              "              style=\"display:none;\">\n",
              "        \n",
              "  <svg xmlns=\"http://www.w3.org/2000/svg\" height=\"24px\"viewBox=\"0 0 24 24\"\n",
              "       width=\"24px\">\n",
              "    <path d=\"M0 0h24v24H0V0z\" fill=\"none\"/>\n",
              "    <path d=\"M18.56 5.44l.94 2.06.94-2.06 2.06-.94-2.06-.94-.94-2.06-.94 2.06-2.06.94zm-11 1L8.5 8.5l.94-2.06 2.06-.94-2.06-.94L8.5 2.5l-.94 2.06-2.06.94zm10 10l.94 2.06.94-2.06 2.06-.94-2.06-.94-.94-2.06-.94 2.06-2.06.94z\"/><path d=\"M17.41 7.96l-1.37-1.37c-.4-.4-.92-.59-1.43-.59-.52 0-1.04.2-1.43.59L10.3 9.45l-7.72 7.72c-.78.78-.78 2.05 0 2.83L4 21.41c.39.39.9.59 1.41.59.51 0 1.02-.2 1.41-.59l7.78-7.78 2.81-2.81c.8-.78.8-2.07 0-2.86zM5.41 20L4 18.59l7.72-7.72 1.47 1.35L5.41 20z\"/>\n",
              "  </svg>\n",
              "      </button>\n",
              "      \n",
              "  <style>\n",
              "    .colab-df-container {\n",
              "      display:flex;\n",
              "      flex-wrap:wrap;\n",
              "      gap: 12px;\n",
              "    }\n",
              "\n",
              "    .colab-df-convert {\n",
              "      background-color: #E8F0FE;\n",
              "      border: none;\n",
              "      border-radius: 50%;\n",
              "      cursor: pointer;\n",
              "      display: none;\n",
              "      fill: #1967D2;\n",
              "      height: 32px;\n",
              "      padding: 0 0 0 0;\n",
              "      width: 32px;\n",
              "    }\n",
              "\n",
              "    .colab-df-convert:hover {\n",
              "      background-color: #E2EBFA;\n",
              "      box-shadow: 0px 1px 2px rgba(60, 64, 67, 0.3), 0px 1px 3px 1px rgba(60, 64, 67, 0.15);\n",
              "      fill: #174EA6;\n",
              "    }\n",
              "\n",
              "    [theme=dark] .colab-df-convert {\n",
              "      background-color: #3B4455;\n",
              "      fill: #D2E3FC;\n",
              "    }\n",
              "\n",
              "    [theme=dark] .colab-df-convert:hover {\n",
              "      background-color: #434B5C;\n",
              "      box-shadow: 0px 1px 3px 1px rgba(0, 0, 0, 0.15);\n",
              "      filter: drop-shadow(0px 1px 2px rgba(0, 0, 0, 0.3));\n",
              "      fill: #FFFFFF;\n",
              "    }\n",
              "  </style>\n",
              "\n",
              "      <script>\n",
              "        const buttonEl =\n",
              "          document.querySelector('#df-77a1bc64-1472-4607-a7b3-d9cac602b0e5 button.colab-df-convert');\n",
              "        buttonEl.style.display =\n",
              "          google.colab.kernel.accessAllowed ? 'block' : 'none';\n",
              "\n",
              "        async function convertToInteractive(key) {\n",
              "          const element = document.querySelector('#df-77a1bc64-1472-4607-a7b3-d9cac602b0e5');\n",
              "          const dataTable =\n",
              "            await google.colab.kernel.invokeFunction('convertToInteractive',\n",
              "                                                     [key], {});\n",
              "          if (!dataTable) return;\n",
              "\n",
              "          const docLinkHtml = 'Like what you see? Visit the ' +\n",
              "            '<a target=\"_blank\" href=https://colab.research.google.com/notebooks/data_table.ipynb>data table notebook</a>'\n",
              "            + ' to learn more about interactive tables.';\n",
              "          element.innerHTML = '';\n",
              "          dataTable['output_type'] = 'display_data';\n",
              "          await google.colab.output.renderOutput(dataTable, element);\n",
              "          const docLink = document.createElement('div');\n",
              "          docLink.innerHTML = docLinkHtml;\n",
              "          element.appendChild(docLink);\n",
              "        }\n",
              "      </script>\n",
              "    </div>\n",
              "  </div>\n",
              "  "
            ]
          },
          "metadata": {},
          "execution_count": 36
        }
      ]
    },
    {
      "cell_type": "code",
      "source": [
        "for i in null_list:\n",
        "  submissionc=submissionc.append({'id' : int(i),'label' : None} , ignore_index=True)\n",
        "submissionc=submissionc.sort_values(by=['id'])\n",
        "submissionc['id']=submission.index\n",
        "submissionc.to_csv('/content/drive/MyDrive/ML_text_processing/MOLD_SPLIT/taskc1_sub4.csv',index= False)"
      ],
      "metadata": {
        "id": "ip1DJo1W-mo4"
      },
      "execution_count": null,
      "outputs": []
    },
    {
      "cell_type": "code",
      "source": [
        "submissionc"
      ],
      "metadata": {
        "colab": {
          "base_uri": "https://localhost:8080/",
          "height": 424
        },
        "id": "2v_NiE9b8b8b",
        "outputId": "64652ab5-9a52-4475-e92c-df883fbbbe95"
      },
      "execution_count": null,
      "outputs": [
        {
          "output_type": "execute_result",
          "data": {
            "text/plain": [
              "      id label\n",
              "162    0   NaN\n",
              "0      1   IND\n",
              "163    2   NaN\n",
              "164    3   NaN\n",
              "1      4   IND\n",
              "..   ...   ...\n",
              "506  505   NaN\n",
              "161  506   IND\n",
              "507  507   NaN\n",
              "508  508   NaN\n",
              "509  509   NaN\n",
              "\n",
              "[510 rows x 2 columns]"
            ],
            "text/html": [
              "\n",
              "  <div id=\"df-85609ce1-d379-483b-a40d-fb9fcac8a3cf\">\n",
              "    <div class=\"colab-df-container\">\n",
              "      <div>\n",
              "<style scoped>\n",
              "    .dataframe tbody tr th:only-of-type {\n",
              "        vertical-align: middle;\n",
              "    }\n",
              "\n",
              "    .dataframe tbody tr th {\n",
              "        vertical-align: top;\n",
              "    }\n",
              "\n",
              "    .dataframe thead th {\n",
              "        text-align: right;\n",
              "    }\n",
              "</style>\n",
              "<table border=\"1\" class=\"dataframe\">\n",
              "  <thead>\n",
              "    <tr style=\"text-align: right;\">\n",
              "      <th></th>\n",
              "      <th>id</th>\n",
              "      <th>label</th>\n",
              "    </tr>\n",
              "  </thead>\n",
              "  <tbody>\n",
              "    <tr>\n",
              "      <th>162</th>\n",
              "      <td>0</td>\n",
              "      <td>NaN</td>\n",
              "    </tr>\n",
              "    <tr>\n",
              "      <th>0</th>\n",
              "      <td>1</td>\n",
              "      <td>IND</td>\n",
              "    </tr>\n",
              "    <tr>\n",
              "      <th>163</th>\n",
              "      <td>2</td>\n",
              "      <td>NaN</td>\n",
              "    </tr>\n",
              "    <tr>\n",
              "      <th>164</th>\n",
              "      <td>3</td>\n",
              "      <td>NaN</td>\n",
              "    </tr>\n",
              "    <tr>\n",
              "      <th>1</th>\n",
              "      <td>4</td>\n",
              "      <td>IND</td>\n",
              "    </tr>\n",
              "    <tr>\n",
              "      <th>...</th>\n",
              "      <td>...</td>\n",
              "      <td>...</td>\n",
              "    </tr>\n",
              "    <tr>\n",
              "      <th>506</th>\n",
              "      <td>505</td>\n",
              "      <td>NaN</td>\n",
              "    </tr>\n",
              "    <tr>\n",
              "      <th>161</th>\n",
              "      <td>506</td>\n",
              "      <td>IND</td>\n",
              "    </tr>\n",
              "    <tr>\n",
              "      <th>507</th>\n",
              "      <td>507</td>\n",
              "      <td>NaN</td>\n",
              "    </tr>\n",
              "    <tr>\n",
              "      <th>508</th>\n",
              "      <td>508</td>\n",
              "      <td>NaN</td>\n",
              "    </tr>\n",
              "    <tr>\n",
              "      <th>509</th>\n",
              "      <td>509</td>\n",
              "      <td>NaN</td>\n",
              "    </tr>\n",
              "  </tbody>\n",
              "</table>\n",
              "<p>510 rows × 2 columns</p>\n",
              "</div>\n",
              "      <button class=\"colab-df-convert\" onclick=\"convertToInteractive('df-85609ce1-d379-483b-a40d-fb9fcac8a3cf')\"\n",
              "              title=\"Convert this dataframe to an interactive table.\"\n",
              "              style=\"display:none;\">\n",
              "        \n",
              "  <svg xmlns=\"http://www.w3.org/2000/svg\" height=\"24px\"viewBox=\"0 0 24 24\"\n",
              "       width=\"24px\">\n",
              "    <path d=\"M0 0h24v24H0V0z\" fill=\"none\"/>\n",
              "    <path d=\"M18.56 5.44l.94 2.06.94-2.06 2.06-.94-2.06-.94-.94-2.06-.94 2.06-2.06.94zm-11 1L8.5 8.5l.94-2.06 2.06-.94-2.06-.94L8.5 2.5l-.94 2.06-2.06.94zm10 10l.94 2.06.94-2.06 2.06-.94-2.06-.94-.94-2.06-.94 2.06-2.06.94z\"/><path d=\"M17.41 7.96l-1.37-1.37c-.4-.4-.92-.59-1.43-.59-.52 0-1.04.2-1.43.59L10.3 9.45l-7.72 7.72c-.78.78-.78 2.05 0 2.83L4 21.41c.39.39.9.59 1.41.59.51 0 1.02-.2 1.41-.59l7.78-7.78 2.81-2.81c.8-.78.8-2.07 0-2.86zM5.41 20L4 18.59l7.72-7.72 1.47 1.35L5.41 20z\"/>\n",
              "  </svg>\n",
              "      </button>\n",
              "      \n",
              "  <style>\n",
              "    .colab-df-container {\n",
              "      display:flex;\n",
              "      flex-wrap:wrap;\n",
              "      gap: 12px;\n",
              "    }\n",
              "\n",
              "    .colab-df-convert {\n",
              "      background-color: #E8F0FE;\n",
              "      border: none;\n",
              "      border-radius: 50%;\n",
              "      cursor: pointer;\n",
              "      display: none;\n",
              "      fill: #1967D2;\n",
              "      height: 32px;\n",
              "      padding: 0 0 0 0;\n",
              "      width: 32px;\n",
              "    }\n",
              "\n",
              "    .colab-df-convert:hover {\n",
              "      background-color: #E2EBFA;\n",
              "      box-shadow: 0px 1px 2px rgba(60, 64, 67, 0.3), 0px 1px 3px 1px rgba(60, 64, 67, 0.15);\n",
              "      fill: #174EA6;\n",
              "    }\n",
              "\n",
              "    [theme=dark] .colab-df-convert {\n",
              "      background-color: #3B4455;\n",
              "      fill: #D2E3FC;\n",
              "    }\n",
              "\n",
              "    [theme=dark] .colab-df-convert:hover {\n",
              "      background-color: #434B5C;\n",
              "      box-shadow: 0px 1px 3px 1px rgba(0, 0, 0, 0.15);\n",
              "      filter: drop-shadow(0px 1px 2px rgba(0, 0, 0, 0.3));\n",
              "      fill: #FFFFFF;\n",
              "    }\n",
              "  </style>\n",
              "\n",
              "      <script>\n",
              "        const buttonEl =\n",
              "          document.querySelector('#df-85609ce1-d379-483b-a40d-fb9fcac8a3cf button.colab-df-convert');\n",
              "        buttonEl.style.display =\n",
              "          google.colab.kernel.accessAllowed ? 'block' : 'none';\n",
              "\n",
              "        async function convertToInteractive(key) {\n",
              "          const element = document.querySelector('#df-85609ce1-d379-483b-a40d-fb9fcac8a3cf');\n",
              "          const dataTable =\n",
              "            await google.colab.kernel.invokeFunction('convertToInteractive',\n",
              "                                                     [key], {});\n",
              "          if (!dataTable) return;\n",
              "\n",
              "          const docLinkHtml = 'Like what you see? Visit the ' +\n",
              "            '<a target=\"_blank\" href=https://colab.research.google.com/notebooks/data_table.ipynb>data table notebook</a>'\n",
              "            + ' to learn more about interactive tables.';\n",
              "          element.innerHTML = '';\n",
              "          dataTable['output_type'] = 'display_data';\n",
              "          await google.colab.output.renderOutput(dataTable, element);\n",
              "          const docLink = document.createElement('div');\n",
              "          docLink.innerHTML = docLinkHtml;\n",
              "          element.appendChild(docLink);\n",
              "        }\n",
              "      </script>\n",
              "    </div>\n",
              "  </div>\n",
              "  "
            ]
          },
          "metadata": {},
          "execution_count": 38
        }
      ]
    }
  ],
  "metadata": {
    "colab": {
      "collapsed_sections": [],
      "provenance": []
    },
    "kernelspec": {
      "display_name": "Python 3",
      "name": "python3"
    },
    "language_info": {
      "name": "python"
    }
  },
  "nbformat": 4,
  "nbformat_minor": 0
}