{
  "cells": [
    {
      "cell_type": "code",
      "execution_count": null,
      "metadata": {
        "id": "Pp4sj03uiU5J"
      },
      "outputs": [],
      "source": [
        "# # Random Forest Regression\n",
        "# ## Importing the libraries\n",
        "# In[1]:\n",
        "import numpy as np\n",
        "import matplotlib.pyplot as plt\n",
        "import pandas as pd\n",
        "import seaborn as sns\n",
        "sns.set()\n",
        "import warnings\n",
        "warnings.filterwarnings(\"ignore\")\n",
        "from sklearn.model_selection import train_test_split\n",
        "import pandas\n",
        "from sklearn import preprocessing \n",
        "from sklearn.naive_bayes import MultinomialNB \n",
        "from sklearn.feature_extraction.text import CountVectorizer\n",
        "\n"
      ]
    },
    {
      "cell_type": "code",
      "execution_count": null,
      "metadata": {
        "colab": {
          "base_uri": "https://localhost:8080/"
        },
        "id": "PbIWsOJwiWN7",
        "outputId": "145931e4-25d3-49e4-ac30-5c7bc1bf12ae"
      },
      "outputs": [
        {
          "output_type": "stream",
          "name": "stdout",
          "text": [
            "Mounted at /content/drive\n"
          ]
        }
      ],
      "source": [
        "from google.colab import drive\n",
        "drive.mount('/content/drive')"
      ]
    },
    {
      "cell_type": "code",
      "execution_count": null,
      "metadata": {
        "id": "0JR5x0SbiaHa"
      },
      "outputs": [],
      "source": [
        "#Importing traing data\n",
        "train = pd.read_csv('/content/drive/MyDrive/ML_text_processing/MOLD_SPLIT/subtask_a.tsv','\\t',skiprows=1,names=['id','tweet','subtask_a'])\n",
        "test = pd.read_csv('/content/drive/MyDrive/ML_text_processing/MOLD_SPLIT/marathi_test_without_labels.csv',skiprows=1,names=['id','tweet'])"
      ]
    },
    {
      "cell_type": "code",
      "execution_count": null,
      "metadata": {
        "colab": {
          "base_uri": "https://localhost:8080/",
          "height": 206
        },
        "id": "WzXkuhjBicNC",
        "outputId": "70425903-3a05-4a51-f7f5-0094acb88201"
      },
      "outputs": [
        {
          "output_type": "execute_result",
          "data": {
            "text/plain": [
              "   id                                              tweet subtask_a  encoded_a\n",
              "0   0  आजच्या जनता दरबारात जळगाव जिल्ह्यातील चाळीसगाव...       NOT          0\n",
              "1   1  कुणी कविता करत असतं तर कुणी कविता जगत असतं कुण...       NOT          0\n",
              "2   2  आम्हाला इतिहासातील औरंगजेबशी काही घेणे नाही आम...       NOT          0\n",
              "3   3  गँभीर प्रकरण महाराष्ट्राची अवस्था बिकट आहे भाष...       NOT          0\n",
              "4   4  कब्झा हा कन्नड चित्रपट लवकरच मराठी मध्ये डब्ब ...       NOT          0"
            ],
            "text/html": [
              "\n",
              "  <div id=\"df-ee57c798-5f13-4a96-b672-906b568c5d36\">\n",
              "    <div class=\"colab-df-container\">\n",
              "      <div>\n",
              "<style scoped>\n",
              "    .dataframe tbody tr th:only-of-type {\n",
              "        vertical-align: middle;\n",
              "    }\n",
              "\n",
              "    .dataframe tbody tr th {\n",
              "        vertical-align: top;\n",
              "    }\n",
              "\n",
              "    .dataframe thead th {\n",
              "        text-align: right;\n",
              "    }\n",
              "</style>\n",
              "<table border=\"1\" class=\"dataframe\">\n",
              "  <thead>\n",
              "    <tr style=\"text-align: right;\">\n",
              "      <th></th>\n",
              "      <th>id</th>\n",
              "      <th>tweet</th>\n",
              "      <th>subtask_a</th>\n",
              "      <th>encoded_a</th>\n",
              "    </tr>\n",
              "  </thead>\n",
              "  <tbody>\n",
              "    <tr>\n",
              "      <th>0</th>\n",
              "      <td>0</td>\n",
              "      <td>आजच्या जनता दरबारात जळगाव जिल्ह्यातील चाळीसगाव...</td>\n",
              "      <td>NOT</td>\n",
              "      <td>0</td>\n",
              "    </tr>\n",
              "    <tr>\n",
              "      <th>1</th>\n",
              "      <td>1</td>\n",
              "      <td>कुणी कविता करत असतं तर कुणी कविता जगत असतं कुण...</td>\n",
              "      <td>NOT</td>\n",
              "      <td>0</td>\n",
              "    </tr>\n",
              "    <tr>\n",
              "      <th>2</th>\n",
              "      <td>2</td>\n",
              "      <td>आम्हाला इतिहासातील औरंगजेबशी काही घेणे नाही आम...</td>\n",
              "      <td>NOT</td>\n",
              "      <td>0</td>\n",
              "    </tr>\n",
              "    <tr>\n",
              "      <th>3</th>\n",
              "      <td>3</td>\n",
              "      <td>गँभीर प्रकरण महाराष्ट्राची अवस्था बिकट आहे भाष...</td>\n",
              "      <td>NOT</td>\n",
              "      <td>0</td>\n",
              "    </tr>\n",
              "    <tr>\n",
              "      <th>4</th>\n",
              "      <td>4</td>\n",
              "      <td>कब्झा हा कन्नड चित्रपट लवकरच मराठी मध्ये डब्ब ...</td>\n",
              "      <td>NOT</td>\n",
              "      <td>0</td>\n",
              "    </tr>\n",
              "  </tbody>\n",
              "</table>\n",
              "</div>\n",
              "      <button class=\"colab-df-convert\" onclick=\"convertToInteractive('df-ee57c798-5f13-4a96-b672-906b568c5d36')\"\n",
              "              title=\"Convert this dataframe to an interactive table.\"\n",
              "              style=\"display:none;\">\n",
              "        \n",
              "  <svg xmlns=\"http://www.w3.org/2000/svg\" height=\"24px\"viewBox=\"0 0 24 24\"\n",
              "       width=\"24px\">\n",
              "    <path d=\"M0 0h24v24H0V0z\" fill=\"none\"/>\n",
              "    <path d=\"M18.56 5.44l.94 2.06.94-2.06 2.06-.94-2.06-.94-.94-2.06-.94 2.06-2.06.94zm-11 1L8.5 8.5l.94-2.06 2.06-.94-2.06-.94L8.5 2.5l-.94 2.06-2.06.94zm10 10l.94 2.06.94-2.06 2.06-.94-2.06-.94-.94-2.06-.94 2.06-2.06.94z\"/><path d=\"M17.41 7.96l-1.37-1.37c-.4-.4-.92-.59-1.43-.59-.52 0-1.04.2-1.43.59L10.3 9.45l-7.72 7.72c-.78.78-.78 2.05 0 2.83L4 21.41c.39.39.9.59 1.41.59.51 0 1.02-.2 1.41-.59l7.78-7.78 2.81-2.81c.8-.78.8-2.07 0-2.86zM5.41 20L4 18.59l7.72-7.72 1.47 1.35L5.41 20z\"/>\n",
              "  </svg>\n",
              "      </button>\n",
              "      \n",
              "  <style>\n",
              "    .colab-df-container {\n",
              "      display:flex;\n",
              "      flex-wrap:wrap;\n",
              "      gap: 12px;\n",
              "    }\n",
              "\n",
              "    .colab-df-convert {\n",
              "      background-color: #E8F0FE;\n",
              "      border: none;\n",
              "      border-radius: 50%;\n",
              "      cursor: pointer;\n",
              "      display: none;\n",
              "      fill: #1967D2;\n",
              "      height: 32px;\n",
              "      padding: 0 0 0 0;\n",
              "      width: 32px;\n",
              "    }\n",
              "\n",
              "    .colab-df-convert:hover {\n",
              "      background-color: #E2EBFA;\n",
              "      box-shadow: 0px 1px 2px rgba(60, 64, 67, 0.3), 0px 1px 3px 1px rgba(60, 64, 67, 0.15);\n",
              "      fill: #174EA6;\n",
              "    }\n",
              "\n",
              "    [theme=dark] .colab-df-convert {\n",
              "      background-color: #3B4455;\n",
              "      fill: #D2E3FC;\n",
              "    }\n",
              "\n",
              "    [theme=dark] .colab-df-convert:hover {\n",
              "      background-color: #434B5C;\n",
              "      box-shadow: 0px 1px 3px 1px rgba(0, 0, 0, 0.15);\n",
              "      filter: drop-shadow(0px 1px 2px rgba(0, 0, 0, 0.3));\n",
              "      fill: #FFFFFF;\n",
              "    }\n",
              "  </style>\n",
              "\n",
              "      <script>\n",
              "        const buttonEl =\n",
              "          document.querySelector('#df-ee57c798-5f13-4a96-b672-906b568c5d36 button.colab-df-convert');\n",
              "        buttonEl.style.display =\n",
              "          google.colab.kernel.accessAllowed ? 'block' : 'none';\n",
              "\n",
              "        async function convertToInteractive(key) {\n",
              "          const element = document.querySelector('#df-ee57c798-5f13-4a96-b672-906b568c5d36');\n",
              "          const dataTable =\n",
              "            await google.colab.kernel.invokeFunction('convertToInteractive',\n",
              "                                                     [key], {});\n",
              "          if (!dataTable) return;\n",
              "\n",
              "          const docLinkHtml = 'Like what you see? Visit the ' +\n",
              "            '<a target=\"_blank\" href=https://colab.research.google.com/notebooks/data_table.ipynb>data table notebook</a>'\n",
              "            + ' to learn more about interactive tables.';\n",
              "          element.innerHTML = '';\n",
              "          dataTable['output_type'] = 'display_data';\n",
              "          await google.colab.output.renderOutput(dataTable, element);\n",
              "          const docLink = document.createElement('div');\n",
              "          docLink.innerHTML = docLinkHtml;\n",
              "          element.appendChild(docLink);\n",
              "        }\n",
              "      </script>\n",
              "    </div>\n",
              "  </div>\n",
              "  "
            ]
          },
          "metadata": {},
          "execution_count": 4
        }
      ],
      "source": [
        "le = preprocessing.LabelEncoder()\n",
        "train['encoded_a'] = le.fit_transform(train['subtask_a'].astype(str))\n",
        "train.head()"
      ]
    },
    {
      "cell_type": "code",
      "execution_count": null,
      "metadata": {
        "id": "BpHU2YonihOW"
      },
      "outputs": [],
      "source": [
        "from sklearn.feature_extraction.text import CountVectorizer, TfidfVectorizer\n",
        "vectorizer = CountVectorizer(analyzer='char', ngram_range=(1,3))\n",
        "x_train=train['tweet']\n",
        "y_train=train['encoded_a']\n",
        "x_train=x_train.replace(np.nan,\"\")\n",
        "x_test=test['tweet']\n",
        "x_test=x_test.replace(np.nan,\"\")\n",
        "x_train = vectorizer.fit_transform(x_train)\n",
        "x_test=vectorizer.transform(x_test)"
      ]
    },
    {
      "cell_type": "code",
      "execution_count": null,
      "metadata": {
        "id": "KtwVcfNeivV2"
      },
      "outputs": [],
      "source": [
        "from sklearn.svm import SVC\n",
        "sv_clf=SVC(probability=True)"
      ]
    },
    {
      "cell_type": "code",
      "execution_count": null,
      "metadata": {
        "id": "sabne-Kfiy31",
        "colab": {
          "base_uri": "https://localhost:8080/"
        },
        "outputId": "bf122f74-0f4c-4721-a362-68f4c8af84a9"
      },
      "outputs": [
        {
          "output_type": "execute_result",
          "data": {
            "text/plain": [
              "SVC(probability=True)"
            ]
          },
          "metadata": {},
          "execution_count": 7
        }
      ],
      "source": [
        "sv_clf.fit(x_train,y_train)"
      ]
    },
    {
      "cell_type": "code",
      "execution_count": null,
      "metadata": {
        "id": "WuOM-QSHjSB-"
      },
      "outputs": [],
      "source": [
        "y_pred = sv_clf.predict(x_test)"
      ]
    },
    {
      "cell_type": "code",
      "execution_count": null,
      "metadata": {
        "id": "sgfgIBTZXPc6"
      },
      "outputs": [],
      "source": [
        "import math\n",
        "pred=[]\n",
        "for i in range(len(y_pred)):\n",
        " pred.append(int(y_pred[i].round()))\n"
      ]
    },
    {
      "cell_type": "code",
      "source": [
        "pred=le.inverse_transform(pred)"
      ],
      "metadata": {
        "id": "xBS5ow_XiRfp"
      },
      "execution_count": null,
      "outputs": []
    },
    {
      "cell_type": "code",
      "source": [
        "submission = pd.DataFrame()\n",
        "submission['id'] = test['id']\n",
        "submission['label'] = pred\n",
        "submission.to_csv('/content/drive/MyDrive/ML_text_processing/MOLD_SPLIT/taska_sub2.csv',index= False)"
      ],
      "metadata": {
        "id": "x3bHDupDhAj9"
      },
      "execution_count": null,
      "outputs": []
    },
    {
      "cell_type": "code",
      "source": [
        "print(submission)\n",
        "null_list=[]\n",
        "null_list=submission.index[submission['label'] == \"NOT\"].tolist()\n",
        "print(null_list)"
      ],
      "metadata": {
        "colab": {
          "base_uri": "https://localhost:8080/"
        },
        "id": "Jn7Ogwf2i8X-",
        "outputId": "49c2d5e5-3a74-4c91-c728-c37b83c8bde6"
      },
      "execution_count": null,
      "outputs": [
        {
          "output_type": "stream",
          "name": "stdout",
          "text": [
            "      id label\n",
            "0      0   NOT\n",
            "1      1   NOT\n",
            "2      2   NOT\n",
            "3      3   NOT\n",
            "4      4   NOT\n",
            "..   ...   ...\n",
            "505  505   OFF\n",
            "506  506   OFF\n",
            "507  507   OFF\n",
            "508  508   OFF\n",
            "509  509   NOT\n",
            "\n",
            "[510 rows x 2 columns]\n",
            "[0, 1, 2, 3, 4, 5, 6, 7, 8, 9, 10, 12, 13, 14, 15, 17, 18, 19, 20, 21, 22, 23, 24, 25, 26, 27, 28, 29, 30, 31, 32, 33, 34, 35, 36, 38, 40, 41, 42, 43, 44, 45, 47, 48, 49, 50, 51, 52, 53, 54, 55, 56, 57, 58, 59, 60, 61, 62, 63, 64, 65, 66, 67, 68, 69, 70, 71, 72, 73, 74, 75, 76, 77, 78, 79, 82, 83, 84, 85, 86, 87, 88, 89, 90, 91, 92, 93, 94, 95, 96, 97, 99, 100, 101, 102, 103, 104, 105, 106, 107, 108, 109, 110, 112, 113, 114, 115, 116, 118, 119, 120, 121, 123, 124, 125, 126, 127, 128, 129, 130, 131, 132, 133, 134, 135, 136, 137, 138, 139, 140, 141, 142, 143, 144, 147, 148, 149, 150, 151, 152, 153, 154, 155, 156, 157, 158, 159, 160, 161, 162, 165, 166, 167, 168, 169, 170, 171, 172, 173, 174, 175, 176, 177, 178, 179, 180, 183, 185, 186, 187, 188, 189, 191, 192, 193, 194, 195, 196, 197, 198, 200, 201, 202, 203, 204, 205, 206, 207, 208, 209, 212, 213, 214, 215, 216, 218, 219, 220, 221, 222, 223, 224, 225, 226, 227, 228, 229, 230, 231, 232, 233, 234, 235, 236, 237, 239, 240, 241, 242, 243, 244, 245, 247, 248, 249, 251, 252, 254, 256, 263, 270, 279, 291, 296, 301, 309, 316, 320, 328, 334, 336, 338, 349, 351, 352, 357, 363, 367, 377, 394, 404, 408, 419, 420, 425, 432, 435, 446, 447, 459, 462, 464, 470, 478, 479, 496, 502, 503, 509]\n"
          ]
        }
      ]
    },
    {
      "cell_type": "code",
      "execution_count": null,
      "metadata": {
        "colab": {
          "base_uri": "https://localhost:8080/",
          "height": 206
        },
        "id": "MEqrVdIVnPQc",
        "outputId": "0065f8c6-26e3-42ca-e843-481fc3a707c5"
      },
      "outputs": [
        {
          "output_type": "execute_result",
          "data": {
            "text/plain": [
              "     id                                              tweet subtask_b\n",
              "0  1451  राम कदम वागण्यात नाही तर बोलण्यात चुकला बीजेपी...       TIN\n",
              "1  1452  हीच का तुमची शिवसेने चि शिकवण आपली आई म्हणजे द...       TIN\n",
              "2  1453  हे वाचा गाढवांनो आणि हे ही सांगा की तुमच्या मॅ...       TIN\n",
              "3  1454           भक्त आंधळे असतात मूर्खा ना काही कळत नाही       TIN\n",
              "4  1455  १९६६ साली छत्रपती शिवाजी महाराज या जागतिक दर्ज...       TIN"
            ],
            "text/html": [
              "\n",
              "  <div id=\"df-5217cc8b-4bb3-4470-8ee6-c0e77cbe204f\">\n",
              "    <div class=\"colab-df-container\">\n",
              "      <div>\n",
              "<style scoped>\n",
              "    .dataframe tbody tr th:only-of-type {\n",
              "        vertical-align: middle;\n",
              "    }\n",
              "\n",
              "    .dataframe tbody tr th {\n",
              "        vertical-align: top;\n",
              "    }\n",
              "\n",
              "    .dataframe thead th {\n",
              "        text-align: right;\n",
              "    }\n",
              "</style>\n",
              "<table border=\"1\" class=\"dataframe\">\n",
              "  <thead>\n",
              "    <tr style=\"text-align: right;\">\n",
              "      <th></th>\n",
              "      <th>id</th>\n",
              "      <th>tweet</th>\n",
              "      <th>subtask_b</th>\n",
              "    </tr>\n",
              "  </thead>\n",
              "  <tbody>\n",
              "    <tr>\n",
              "      <th>0</th>\n",
              "      <td>1451</td>\n",
              "      <td>राम कदम वागण्यात नाही तर बोलण्यात चुकला बीजेपी...</td>\n",
              "      <td>TIN</td>\n",
              "    </tr>\n",
              "    <tr>\n",
              "      <th>1</th>\n",
              "      <td>1452</td>\n",
              "      <td>हीच का तुमची शिवसेने चि शिकवण आपली आई म्हणजे द...</td>\n",
              "      <td>TIN</td>\n",
              "    </tr>\n",
              "    <tr>\n",
              "      <th>2</th>\n",
              "      <td>1453</td>\n",
              "      <td>हे वाचा गाढवांनो आणि हे ही सांगा की तुमच्या मॅ...</td>\n",
              "      <td>TIN</td>\n",
              "    </tr>\n",
              "    <tr>\n",
              "      <th>3</th>\n",
              "      <td>1454</td>\n",
              "      <td>भक्त आंधळे असतात मूर्खा ना काही कळत नाही</td>\n",
              "      <td>TIN</td>\n",
              "    </tr>\n",
              "    <tr>\n",
              "      <th>4</th>\n",
              "      <td>1455</td>\n",
              "      <td>१९६६ साली छत्रपती शिवाजी महाराज या जागतिक दर्ज...</td>\n",
              "      <td>TIN</td>\n",
              "    </tr>\n",
              "  </tbody>\n",
              "</table>\n",
              "</div>\n",
              "      <button class=\"colab-df-convert\" onclick=\"convertToInteractive('df-5217cc8b-4bb3-4470-8ee6-c0e77cbe204f')\"\n",
              "              title=\"Convert this dataframe to an interactive table.\"\n",
              "              style=\"display:none;\">\n",
              "        \n",
              "  <svg xmlns=\"http://www.w3.org/2000/svg\" height=\"24px\"viewBox=\"0 0 24 24\"\n",
              "       width=\"24px\">\n",
              "    <path d=\"M0 0h24v24H0V0z\" fill=\"none\"/>\n",
              "    <path d=\"M18.56 5.44l.94 2.06.94-2.06 2.06-.94-2.06-.94-.94-2.06-.94 2.06-2.06.94zm-11 1L8.5 8.5l.94-2.06 2.06-.94-2.06-.94L8.5 2.5l-.94 2.06-2.06.94zm10 10l.94 2.06.94-2.06 2.06-.94-2.06-.94-.94-2.06-.94 2.06-2.06.94z\"/><path d=\"M17.41 7.96l-1.37-1.37c-.4-.4-.92-.59-1.43-.59-.52 0-1.04.2-1.43.59L10.3 9.45l-7.72 7.72c-.78.78-.78 2.05 0 2.83L4 21.41c.39.39.9.59 1.41.59.51 0 1.02-.2 1.41-.59l7.78-7.78 2.81-2.81c.8-.78.8-2.07 0-2.86zM5.41 20L4 18.59l7.72-7.72 1.47 1.35L5.41 20z\"/>\n",
              "  </svg>\n",
              "      </button>\n",
              "      \n",
              "  <style>\n",
              "    .colab-df-container {\n",
              "      display:flex;\n",
              "      flex-wrap:wrap;\n",
              "      gap: 12px;\n",
              "    }\n",
              "\n",
              "    .colab-df-convert {\n",
              "      background-color: #E8F0FE;\n",
              "      border: none;\n",
              "      border-radius: 50%;\n",
              "      cursor: pointer;\n",
              "      display: none;\n",
              "      fill: #1967D2;\n",
              "      height: 32px;\n",
              "      padding: 0 0 0 0;\n",
              "      width: 32px;\n",
              "    }\n",
              "\n",
              "    .colab-df-convert:hover {\n",
              "      background-color: #E2EBFA;\n",
              "      box-shadow: 0px 1px 2px rgba(60, 64, 67, 0.3), 0px 1px 3px 1px rgba(60, 64, 67, 0.15);\n",
              "      fill: #174EA6;\n",
              "    }\n",
              "\n",
              "    [theme=dark] .colab-df-convert {\n",
              "      background-color: #3B4455;\n",
              "      fill: #D2E3FC;\n",
              "    }\n",
              "\n",
              "    [theme=dark] .colab-df-convert:hover {\n",
              "      background-color: #434B5C;\n",
              "      box-shadow: 0px 1px 3px 1px rgba(0, 0, 0, 0.15);\n",
              "      filter: drop-shadow(0px 1px 2px rgba(0, 0, 0, 0.3));\n",
              "      fill: #FFFFFF;\n",
              "    }\n",
              "  </style>\n",
              "\n",
              "      <script>\n",
              "        const buttonEl =\n",
              "          document.querySelector('#df-5217cc8b-4bb3-4470-8ee6-c0e77cbe204f button.colab-df-convert');\n",
              "        buttonEl.style.display =\n",
              "          google.colab.kernel.accessAllowed ? 'block' : 'none';\n",
              "\n",
              "        async function convertToInteractive(key) {\n",
              "          const element = document.querySelector('#df-5217cc8b-4bb3-4470-8ee6-c0e77cbe204f');\n",
              "          const dataTable =\n",
              "            await google.colab.kernel.invokeFunction('convertToInteractive',\n",
              "                                                     [key], {});\n",
              "          if (!dataTable) return;\n",
              "\n",
              "          const docLinkHtml = 'Like what you see? Visit the ' +\n",
              "            '<a target=\"_blank\" href=https://colab.research.google.com/notebooks/data_table.ipynb>data table notebook</a>'\n",
              "            + ' to learn more about interactive tables.';\n",
              "          element.innerHTML = '';\n",
              "          dataTable['output_type'] = 'display_data';\n",
              "          await google.colab.output.renderOutput(dataTable, element);\n",
              "          const docLink = document.createElement('div');\n",
              "          docLink.innerHTML = docLinkHtml;\n",
              "          element.appendChild(docLink);\n",
              "        }\n",
              "      </script>\n",
              "    </div>\n",
              "  </div>\n",
              "  "
            ]
          },
          "metadata": {},
          "execution_count": 13
        }
      ],
      "source": [
        "trainb = pd.read_csv('/content/drive/MyDrive/ML_text_processing/MOLD_SPLIT/subtask_b1.tsv','\\t',skiprows=1,names=['id','tweet','subtask_b'])\n",
        "trainb.head()"
      ]
    },
    {
      "cell_type": "code",
      "execution_count": null,
      "metadata": {
        "id": "ASMeZMgERl8k"
      },
      "outputs": [],
      "source": [
        "trainb['encoded_b'] = le.fit_transform(trainb['subtask_b'].astype(str))"
      ]
    },
    {
      "cell_type": "code",
      "execution_count": null,
      "metadata": {
        "colab": {
          "base_uri": "https://localhost:8080/",
          "height": 206
        },
        "id": "o8G92sjgRmWw",
        "outputId": "173a3f1c-5d28-4fa1-c80c-0ca26343849e"
      },
      "outputs": [
        {
          "output_type": "execute_result",
          "data": {
            "text/plain": [
              "     id                                              tweet subtask_b  \\\n",
              "0  1451  राम कदम वागण्यात नाही तर बोलण्यात चुकला बीजेपी...       TIN   \n",
              "1  1452  हीच का तुमची शिवसेने चि शिकवण आपली आई म्हणजे द...       TIN   \n",
              "2  1453  हे वाचा गाढवांनो आणि हे ही सांगा की तुमच्या मॅ...       TIN   \n",
              "3  1454           भक्त आंधळे असतात मूर्खा ना काही कळत नाही       TIN   \n",
              "4  1455  १९६६ साली छत्रपती शिवाजी महाराज या जागतिक दर्ज...       TIN   \n",
              "\n",
              "   encoded_b  \n",
              "0          0  \n",
              "1          0  \n",
              "2          0  \n",
              "3          0  \n",
              "4          0  "
            ],
            "text/html": [
              "\n",
              "  <div id=\"df-86ef78d5-e56e-4eb7-bab9-74d15d0f29d6\">\n",
              "    <div class=\"colab-df-container\">\n",
              "      <div>\n",
              "<style scoped>\n",
              "    .dataframe tbody tr th:only-of-type {\n",
              "        vertical-align: middle;\n",
              "    }\n",
              "\n",
              "    .dataframe tbody tr th {\n",
              "        vertical-align: top;\n",
              "    }\n",
              "\n",
              "    .dataframe thead th {\n",
              "        text-align: right;\n",
              "    }\n",
              "</style>\n",
              "<table border=\"1\" class=\"dataframe\">\n",
              "  <thead>\n",
              "    <tr style=\"text-align: right;\">\n",
              "      <th></th>\n",
              "      <th>id</th>\n",
              "      <th>tweet</th>\n",
              "      <th>subtask_b</th>\n",
              "      <th>encoded_b</th>\n",
              "    </tr>\n",
              "  </thead>\n",
              "  <tbody>\n",
              "    <tr>\n",
              "      <th>0</th>\n",
              "      <td>1451</td>\n",
              "      <td>राम कदम वागण्यात नाही तर बोलण्यात चुकला बीजेपी...</td>\n",
              "      <td>TIN</td>\n",
              "      <td>0</td>\n",
              "    </tr>\n",
              "    <tr>\n",
              "      <th>1</th>\n",
              "      <td>1452</td>\n",
              "      <td>हीच का तुमची शिवसेने चि शिकवण आपली आई म्हणजे द...</td>\n",
              "      <td>TIN</td>\n",
              "      <td>0</td>\n",
              "    </tr>\n",
              "    <tr>\n",
              "      <th>2</th>\n",
              "      <td>1453</td>\n",
              "      <td>हे वाचा गाढवांनो आणि हे ही सांगा की तुमच्या मॅ...</td>\n",
              "      <td>TIN</td>\n",
              "      <td>0</td>\n",
              "    </tr>\n",
              "    <tr>\n",
              "      <th>3</th>\n",
              "      <td>1454</td>\n",
              "      <td>भक्त आंधळे असतात मूर्खा ना काही कळत नाही</td>\n",
              "      <td>TIN</td>\n",
              "      <td>0</td>\n",
              "    </tr>\n",
              "    <tr>\n",
              "      <th>4</th>\n",
              "      <td>1455</td>\n",
              "      <td>१९६६ साली छत्रपती शिवाजी महाराज या जागतिक दर्ज...</td>\n",
              "      <td>TIN</td>\n",
              "      <td>0</td>\n",
              "    </tr>\n",
              "  </tbody>\n",
              "</table>\n",
              "</div>\n",
              "      <button class=\"colab-df-convert\" onclick=\"convertToInteractive('df-86ef78d5-e56e-4eb7-bab9-74d15d0f29d6')\"\n",
              "              title=\"Convert this dataframe to an interactive table.\"\n",
              "              style=\"display:none;\">\n",
              "        \n",
              "  <svg xmlns=\"http://www.w3.org/2000/svg\" height=\"24px\"viewBox=\"0 0 24 24\"\n",
              "       width=\"24px\">\n",
              "    <path d=\"M0 0h24v24H0V0z\" fill=\"none\"/>\n",
              "    <path d=\"M18.56 5.44l.94 2.06.94-2.06 2.06-.94-2.06-.94-.94-2.06-.94 2.06-2.06.94zm-11 1L8.5 8.5l.94-2.06 2.06-.94-2.06-.94L8.5 2.5l-.94 2.06-2.06.94zm10 10l.94 2.06.94-2.06 2.06-.94-2.06-.94-.94-2.06-.94 2.06-2.06.94z\"/><path d=\"M17.41 7.96l-1.37-1.37c-.4-.4-.92-.59-1.43-.59-.52 0-1.04.2-1.43.59L10.3 9.45l-7.72 7.72c-.78.78-.78 2.05 0 2.83L4 21.41c.39.39.9.59 1.41.59.51 0 1.02-.2 1.41-.59l7.78-7.78 2.81-2.81c.8-.78.8-2.07 0-2.86zM5.41 20L4 18.59l7.72-7.72 1.47 1.35L5.41 20z\"/>\n",
              "  </svg>\n",
              "      </button>\n",
              "      \n",
              "  <style>\n",
              "    .colab-df-container {\n",
              "      display:flex;\n",
              "      flex-wrap:wrap;\n",
              "      gap: 12px;\n",
              "    }\n",
              "\n",
              "    .colab-df-convert {\n",
              "      background-color: #E8F0FE;\n",
              "      border: none;\n",
              "      border-radius: 50%;\n",
              "      cursor: pointer;\n",
              "      display: none;\n",
              "      fill: #1967D2;\n",
              "      height: 32px;\n",
              "      padding: 0 0 0 0;\n",
              "      width: 32px;\n",
              "    }\n",
              "\n",
              "    .colab-df-convert:hover {\n",
              "      background-color: #E2EBFA;\n",
              "      box-shadow: 0px 1px 2px rgba(60, 64, 67, 0.3), 0px 1px 3px 1px rgba(60, 64, 67, 0.15);\n",
              "      fill: #174EA6;\n",
              "    }\n",
              "\n",
              "    [theme=dark] .colab-df-convert {\n",
              "      background-color: #3B4455;\n",
              "      fill: #D2E3FC;\n",
              "    }\n",
              "\n",
              "    [theme=dark] .colab-df-convert:hover {\n",
              "      background-color: #434B5C;\n",
              "      box-shadow: 0px 1px 3px 1px rgba(0, 0, 0, 0.15);\n",
              "      filter: drop-shadow(0px 1px 2px rgba(0, 0, 0, 0.3));\n",
              "      fill: #FFFFFF;\n",
              "    }\n",
              "  </style>\n",
              "\n",
              "      <script>\n",
              "        const buttonEl =\n",
              "          document.querySelector('#df-86ef78d5-e56e-4eb7-bab9-74d15d0f29d6 button.colab-df-convert');\n",
              "        buttonEl.style.display =\n",
              "          google.colab.kernel.accessAllowed ? 'block' : 'none';\n",
              "\n",
              "        async function convertToInteractive(key) {\n",
              "          const element = document.querySelector('#df-86ef78d5-e56e-4eb7-bab9-74d15d0f29d6');\n",
              "          const dataTable =\n",
              "            await google.colab.kernel.invokeFunction('convertToInteractive',\n",
              "                                                     [key], {});\n",
              "          if (!dataTable) return;\n",
              "\n",
              "          const docLinkHtml = 'Like what you see? Visit the ' +\n",
              "            '<a target=\"_blank\" href=https://colab.research.google.com/notebooks/data_table.ipynb>data table notebook</a>'\n",
              "            + ' to learn more about interactive tables.';\n",
              "          element.innerHTML = '';\n",
              "          dataTable['output_type'] = 'display_data';\n",
              "          await google.colab.output.renderOutput(dataTable, element);\n",
              "          const docLink = document.createElement('div');\n",
              "          docLink.innerHTML = docLinkHtml;\n",
              "          element.appendChild(docLink);\n",
              "        }\n",
              "      </script>\n",
              "    </div>\n",
              "  </div>\n",
              "  "
            ]
          },
          "metadata": {},
          "execution_count": 15
        }
      ],
      "source": [
        "trainb.head()"
      ]
    },
    {
      "cell_type": "code",
      "execution_count": null,
      "metadata": {
        "colab": {
          "base_uri": "https://localhost:8080/"
        },
        "id": "9cAOByIARmiW",
        "outputId": "fff3ebac-a6bb-4241-a91e-16ced42bfc22"
      },
      "outputs": [
        {
          "output_type": "stream",
          "name": "stdout",
          "text": [
            "      id label                                              tweet\n",
            "11    11   OFF  मायची कटकट लई घाण शिवी आलीय तोंडात ही  बघून पण...\n",
            "16    16   OFF                            तुमच्या तोंडात साखर पडो\n",
            "37    37   OFF  अरे मुर्खा निर्यात वाढली की शेतकरी ला पैसे मिळ...\n",
            "39    39   OFF           लै भारी काम हॉलिवूड ची धमाल आपल्या भाषेत\n",
            "46    46   OFF                                       सरळ आणि सोपे\n",
            "..   ...   ...                                                ...\n",
            "504  504   OFF  @USER चायला  हा मराठीत कधी पासून ट्विट करायला ...\n",
            "505  505   OFF  चायला  हा मराठीत कधी पासून ट्विट करायला लागला ...\n",
            "506  506   OFF  मदत तातडीने द्यायला हवी  महिने अधिकारी गोट्या ...\n",
            "507  507   OFF  @USER @USER @USER @USER @USER रंगा बिल्ला ने श...\n",
            "508  508   OFF  @USER काही लोकं अजूनही म्हणतात की पूर आल्यावर ...\n",
            "\n",
            "[241 rows x 3 columns]\n"
          ]
        }
      ],
      "source": [
        "submission['tweet']=test['tweet']\n",
        "testb = submission[submission['label'] != 'NOT']\n",
        "print(testb)"
      ]
    },
    {
      "cell_type": "code",
      "execution_count": null,
      "metadata": {
        "id": "GY8EnlegRmrx"
      },
      "outputs": [],
      "source": [
        "x_train=trainb['tweet']\n",
        "y_train=trainb['encoded_b']\n",
        "x_train=x_train.replace(np.nan,\"\")\n",
        "x_test=testb['tweet']\n",
        "x_test=x_test.replace(np.nan,\"\")\n",
        "x_train = vectorizer.fit_transform(x_train)\n",
        "x_test=vectorizer.transform(x_test)"
      ]
    },
    {
      "cell_type": "code",
      "execution_count": null,
      "metadata": {
        "colab": {
          "base_uri": "https://localhost:8080/"
        },
        "id": "cHH3TxUIRm2b",
        "outputId": "b0305a55-1ff4-48c1-f20b-f99ed50bdc5c"
      },
      "outputs": [
        {
          "output_type": "execute_result",
          "data": {
            "text/plain": [
              "SVC(probability=True)"
            ]
          },
          "metadata": {},
          "execution_count": 18
        }
      ],
      "source": [
        "sv_clf.fit(x_train, y_train)"
      ]
    },
    {
      "cell_type": "code",
      "execution_count": null,
      "metadata": {
        "id": "cO4nQR0tRm5C"
      },
      "outputs": [],
      "source": [
        "y_predb = sv_clf.predict(x_test)"
      ]
    },
    {
      "cell_type": "code",
      "source": [
        "y_predb"
      ],
      "metadata": {
        "colab": {
          "base_uri": "https://localhost:8080/"
        },
        "id": "L0hkvxoX0M8V",
        "outputId": "b1da3813-a2d3-4dc1-c506-6c44d799b98e"
      },
      "execution_count": null,
      "outputs": [
        {
          "output_type": "execute_result",
          "data": {
            "text/plain": [
              "array([0, 0, 0, 0, 0, 0, 0, 0, 0, 0, 0, 0, 0, 0, 0, 0, 0, 0, 0, 0, 0, 0,\n",
              "       0, 0, 0, 0, 0, 0, 0, 0, 0, 0, 0, 0, 0, 0, 0, 0, 0, 0, 0, 0, 0, 0,\n",
              "       0, 0, 0, 0, 0, 0, 0, 0, 0, 0, 0, 0, 0, 0, 0, 0, 0, 0, 0, 0, 0, 0,\n",
              "       0, 0, 1, 0, 0, 0, 0, 0, 1, 0, 0, 0, 0, 0, 1, 0, 0, 0, 0, 0, 0, 0,\n",
              "       0, 0, 0, 0, 0, 0, 0, 0, 0, 0, 0, 0, 0, 0, 0, 0, 0, 0, 0, 0, 0, 0,\n",
              "       0, 0, 0, 0, 0, 0, 0, 0, 0, 0, 0, 0, 0, 0, 0, 0, 0, 0, 0, 0, 0, 0,\n",
              "       0, 0, 0, 0, 0, 0, 0, 0, 0, 0, 0, 0, 0, 0, 0, 0, 0, 0, 0, 0, 0, 0,\n",
              "       0, 0, 0, 0, 0, 0, 0, 0, 0, 0, 0, 0, 0, 0, 0, 0, 0, 0, 0, 0, 0, 0,\n",
              "       0, 0, 0, 0, 0, 0, 0, 0, 0, 0, 0, 0, 0, 0, 0, 0, 0, 0, 0, 0, 0, 0,\n",
              "       0, 0, 0, 0, 0, 0, 0, 0, 0, 0, 0, 0, 1, 0, 0, 0, 0, 0, 0, 0, 0, 0,\n",
              "       0, 0, 1, 0, 1, 1, 1, 0, 0, 0, 0, 0, 0, 0, 0, 0, 1, 1, 0, 0, 0])"
            ]
          },
          "metadata": {},
          "execution_count": 20
        }
      ]
    },
    {
      "cell_type": "code",
      "source": [
        "import math\n",
        "pred=[]\n",
        "for i in range(len(y_predb)):\n",
        " pred.append(int(y_pred[i].round()))\n",
        "pred=le.inverse_transform(pred)\n"
      ],
      "metadata": {
        "id": "t5FzEOoesGZY"
      },
      "execution_count": null,
      "outputs": []
    },
    {
      "cell_type": "code",
      "source": [
        "pred"
      ],
      "metadata": {
        "colab": {
          "base_uri": "https://localhost:8080/"
        },
        "id": "OVFK3z2z0X9w",
        "outputId": "52842edd-1206-4f6e-c4bd-ea7c3c9ca173"
      },
      "execution_count": null,
      "outputs": [
        {
          "output_type": "execute_result",
          "data": {
            "text/plain": [
              "array(['TIN', 'TIN', 'TIN', 'TIN', 'TIN', 'TIN', 'TIN', 'TIN', 'TIN',\n",
              "       'TIN', 'TIN', 'UNT', 'TIN', 'TIN', 'TIN', 'TIN', 'UNT', 'TIN',\n",
              "       'TIN', 'TIN', 'TIN', 'TIN', 'TIN', 'TIN', 'TIN', 'TIN', 'TIN',\n",
              "       'TIN', 'TIN', 'TIN', 'TIN', 'TIN', 'TIN', 'TIN', 'TIN', 'TIN',\n",
              "       'TIN', 'UNT', 'TIN', 'UNT', 'TIN', 'TIN', 'TIN', 'TIN', 'TIN',\n",
              "       'TIN', 'UNT', 'TIN', 'TIN', 'TIN', 'TIN', 'TIN', 'TIN', 'TIN',\n",
              "       'TIN', 'TIN', 'TIN', 'TIN', 'TIN', 'TIN', 'TIN', 'TIN', 'TIN',\n",
              "       'TIN', 'TIN', 'TIN', 'TIN', 'TIN', 'TIN', 'TIN', 'TIN', 'TIN',\n",
              "       'TIN', 'TIN', 'TIN', 'TIN', 'TIN', 'TIN', 'TIN', 'TIN', 'UNT',\n",
              "       'UNT', 'TIN', 'TIN', 'TIN', 'TIN', 'TIN', 'TIN', 'TIN', 'TIN',\n",
              "       'TIN', 'TIN', 'TIN', 'TIN', 'TIN', 'TIN', 'TIN', 'TIN', 'UNT',\n",
              "       'TIN', 'TIN', 'TIN', 'TIN', 'TIN', 'TIN', 'TIN', 'TIN', 'TIN',\n",
              "       'TIN', 'TIN', 'TIN', 'UNT', 'TIN', 'TIN', 'TIN', 'TIN', 'TIN',\n",
              "       'UNT', 'TIN', 'TIN', 'TIN', 'TIN', 'UNT', 'TIN', 'TIN', 'TIN',\n",
              "       'TIN', 'TIN', 'TIN', 'TIN', 'TIN', 'TIN', 'TIN', 'TIN', 'TIN',\n",
              "       'TIN', 'TIN', 'TIN', 'TIN', 'TIN', 'TIN', 'TIN', 'TIN', 'TIN',\n",
              "       'TIN', 'UNT', 'UNT', 'TIN', 'TIN', 'TIN', 'TIN', 'TIN', 'TIN',\n",
              "       'TIN', 'TIN', 'TIN', 'TIN', 'TIN', 'TIN', 'TIN', 'TIN', 'TIN',\n",
              "       'TIN', 'UNT', 'UNT', 'TIN', 'TIN', 'TIN', 'TIN', 'TIN', 'TIN',\n",
              "       'TIN', 'TIN', 'TIN', 'TIN', 'TIN', 'TIN', 'TIN', 'TIN', 'TIN',\n",
              "       'TIN', 'UNT', 'UNT', 'TIN', 'UNT', 'TIN', 'TIN', 'TIN', 'TIN',\n",
              "       'TIN', 'UNT', 'TIN', 'TIN', 'TIN', 'TIN', 'TIN', 'TIN', 'TIN',\n",
              "       'TIN', 'UNT', 'TIN', 'TIN', 'TIN', 'TIN', 'TIN', 'TIN', 'TIN',\n",
              "       'TIN', 'TIN', 'TIN', 'UNT', 'UNT', 'TIN', 'TIN', 'TIN', 'TIN',\n",
              "       'TIN', 'UNT', 'TIN', 'TIN', 'TIN', 'TIN', 'TIN', 'TIN', 'TIN',\n",
              "       'TIN', 'TIN', 'TIN', 'TIN', 'TIN', 'TIN', 'TIN', 'TIN', 'TIN',\n",
              "       'TIN', 'TIN', 'TIN', 'TIN', 'UNT', 'TIN', 'TIN'], dtype=object)"
            ]
          },
          "metadata": {},
          "execution_count": 22
        }
      ]
    },
    {
      "cell_type": "code",
      "source": [
        "submissionb = pd.DataFrame()\n",
        "submissionb['id'] = testb['id']\n",
        "submissionb['label'] = pred\n",
        "sub_temp=submissionb\n",
        "for i in null_list:\n",
        "  submissionb=submissionb.append({'id' : int(i),'label' : None} , ignore_index=True)\n",
        "submissionb=submissionb.sort_values(by=['id'])\n",
        "submissionb['id']=submission.index\n",
        "submissionb.to_csv('/content/drive/MyDrive/ML_text_processing/MOLD_SPLIT/taskb1_sub2.csv',index= False)"
      ],
      "metadata": {
        "id": "o2DCevIJsPZy"
      },
      "execution_count": null,
      "outputs": []
    },
    {
      "cell_type": "code",
      "source": [
        "submissionb.index=submission.index\n",
        "submissionb.head()\n",
        "submissionb['tweet']=test['tweet']\n",
        "print(submissionb.index)\n",
        "print(submissionb['tweet'])"
      ],
      "metadata": {
        "colab": {
          "base_uri": "https://localhost:8080/"
        },
        "id": "b5XzFL0KtgED",
        "outputId": "5d03e547-ea7f-4425-971c-25fdbf83c294"
      },
      "execution_count": null,
      "outputs": [
        {
          "output_type": "stream",
          "name": "stdout",
          "text": [
            "RangeIndex(start=0, stop=510, step=1)\n",
            "0      पूर्व लडाखमधील मुखपरी येथे प्रत्यक्ष ताबारेषेज...\n",
            "1      कोणत्याही  रिलेशनशिप मध्ये सुंदर दिसणं खूप महत...\n",
            "2      भारत  ऑगस्ट  ला स्वतंत्र झाला आणि त्यानंतर तब्...\n",
            "3      स्वत ला हवा तसा बाइट किंवा प्रतिक्रिया घेण्यास...\n",
            "4      व्या नंबरची अर्थव्यवस्था आहे भारताची जगात  पर्...\n",
            "                             ...                        \n",
            "505    चायला  हा मराठीत कधी पासून ट्विट करायला लागला ...\n",
            "506    मदत तातडीने द्यायला हवी  महिने अधिकारी गोट्या ...\n",
            "507    @USER @USER @USER @USER @USER रंगा बिल्ला ने श...\n",
            "508    @USER काही लोकं अजूनही म्हणतात की पूर आल्यावर ...\n",
            "509               @USER सगळ्यात जास्त वास मारणारी पुच्ची\n",
            "Name: tweet, Length: 510, dtype: object\n"
          ]
        }
      ]
    },
    {
      "cell_type": "code",
      "source": [
        "null_list1=[]\n",
        "null_list1=submissionb.index[submissionb['label'] == \"UNT\"].tolist()\n",
        "print(null_list1)\n",
        "print(len(null_list1))"
      ],
      "metadata": {
        "colab": {
          "base_uri": "https://localhost:8080/"
        },
        "id": "ZCewkxk8zhFw",
        "outputId": "1a080924-b2f4-4312-f650-155e82bc8610"
      },
      "execution_count": null,
      "outputs": [
        {
          "output_type": "stream",
          "name": "stdout",
          "text": [
            "[145, 182, 267, 269, 277, 317, 318, 340, 356, 364, 370, 395, 396, 415, 416, 438, 439, 441, 449, 458, 473, 474, 482, 506]\n",
            "24\n"
          ]
        }
      ]
    },
    {
      "cell_type": "code",
      "source": [
        "\n",
        "for i in null_list1:\n",
        "  null_list.append(i)\n",
        "null_list =list(set(null_list))\n"
      ],
      "metadata": {
        "id": "Sllm74SiBBg2"
      },
      "execution_count": null,
      "outputs": []
    },
    {
      "cell_type": "code",
      "source": [
        "print(null_list)"
      ],
      "metadata": {
        "colab": {
          "base_uri": "https://localhost:8080/"
        },
        "id": "1sUCKdW6GIXG",
        "outputId": "c5502c9d-9d07-41e3-e25f-78abc40f408d"
      },
      "execution_count": null,
      "outputs": [
        {
          "output_type": "stream",
          "name": "stdout",
          "text": [
            "[0, 1, 2, 3, 4, 5, 6, 7, 8, 9, 10, 12, 13, 14, 15, 17, 18, 19, 20, 21, 22, 23, 24, 25, 26, 27, 28, 29, 30, 31, 32, 33, 34, 35, 36, 38, 40, 41, 42, 43, 44, 45, 47, 48, 49, 50, 51, 52, 53, 54, 55, 56, 57, 58, 59, 60, 61, 62, 63, 64, 65, 66, 67, 68, 69, 70, 71, 72, 73, 74, 75, 76, 77, 78, 79, 82, 83, 84, 85, 86, 87, 88, 89, 90, 91, 92, 93, 94, 95, 96, 97, 99, 100, 101, 102, 103, 104, 105, 106, 107, 108, 109, 110, 112, 113, 114, 115, 116, 118, 119, 120, 121, 123, 124, 125, 126, 127, 128, 129, 130, 131, 132, 133, 134, 135, 136, 137, 138, 139, 140, 141, 142, 143, 144, 145, 147, 148, 149, 150, 151, 152, 153, 154, 155, 156, 157, 158, 159, 160, 161, 162, 165, 166, 167, 168, 169, 170, 171, 172, 173, 174, 175, 176, 177, 178, 179, 180, 182, 183, 185, 186, 187, 188, 189, 191, 192, 193, 194, 195, 196, 197, 198, 200, 201, 202, 203, 204, 205, 206, 207, 208, 209, 212, 213, 214, 215, 216, 218, 219, 220, 221, 222, 223, 224, 225, 226, 227, 228, 229, 230, 231, 232, 233, 234, 235, 236, 237, 239, 240, 241, 242, 243, 244, 245, 247, 248, 249, 251, 252, 254, 256, 263, 267, 269, 270, 277, 279, 291, 296, 301, 309, 316, 317, 318, 320, 328, 334, 336, 338, 340, 349, 351, 352, 356, 357, 363, 364, 367, 370, 377, 394, 395, 396, 404, 408, 415, 416, 419, 420, 425, 432, 435, 438, 439, 441, 446, 447, 449, 458, 459, 462, 464, 470, 473, 474, 478, 479, 482, 496, 502, 503, 506, 509]\n"
          ]
        }
      ]
    },
    {
      "cell_type": "code",
      "source": [
        "testc = submissionb[submissionb['label'] != 'UNT']\n",
        "testc=testc.dropna()\n",
        "print(testc)"
      ],
      "metadata": {
        "colab": {
          "base_uri": "https://localhost:8080/"
        },
        "id": "AwjdDR4c2aLu",
        "outputId": "39d8a715-b012-47df-aec7-0c743af9657f"
      },
      "execution_count": null,
      "outputs": [
        {
          "output_type": "stream",
          "name": "stdout",
          "text": [
            "      id label                                              tweet\n",
            "11    11   TIN  मायची कटकट लई घाण शिवी आलीय तोंडात ही  बघून पण...\n",
            "16    16   TIN                            तुमच्या तोंडात साखर पडो\n",
            "37    37   TIN  अरे मुर्खा निर्यात वाढली की शेतकरी ला पैसे मिळ...\n",
            "39    39   TIN           लै भारी काम हॉलिवूड ची धमाल आपल्या भाषेत\n",
            "46    46   TIN                                       सरळ आणि सोपे\n",
            "..   ...   ...                                                ...\n",
            "501  501   TIN          @USER कोण आहे  चायला काय धंदे राव लोकांचे\n",
            "504  504   TIN  @USER चायला  हा मराठीत कधी पासून ट्विट करायला ...\n",
            "505  505   TIN  चायला  हा मराठीत कधी पासून ट्विट करायला लागला ...\n",
            "507  507   TIN  @USER @USER @USER @USER @USER रंगा बिल्ला ने श...\n",
            "508  508   TIN  @USER काही लोकं अजूनही म्हणतात की पूर आल्यावर ...\n",
            "\n",
            "[217 rows x 3 columns]\n"
          ]
        }
      ]
    },
    {
      "cell_type": "code",
      "execution_count": null,
      "metadata": {
        "colab": {
          "base_uri": "https://localhost:8080/",
          "height": 206
        },
        "id": "zpYEqa24q5V1",
        "outputId": "26bb898e-4624-4532-b412-f5b449e0a361"
      },
      "outputs": [
        {
          "output_type": "execute_result",
          "data": {
            "text/plain": [
              "     id                                              tweet subtask_c\n",
              "0  1451  राम कदम वागण्यात नाही तर बोलण्यात चुकला बीजेपी...       GRP\n",
              "1  1452  हीच का तुमची शिवसेने चि शिकवण आपली आई म्हणजे द...       GRP\n",
              "2  1453  हे वाचा गाढवांनो आणि हे ही सांगा की तुमच्या मॅ...       GRP\n",
              "3  1454           भक्त आंधळे असतात मूर्खा ना काही कळत नाही       GRP\n",
              "4  1455  १९६६ साली छत्रपती शिवाजी महाराज या जागतिक दर्ज...       GRP"
            ],
            "text/html": [
              "\n",
              "  <div id=\"df-38566d3a-1f3b-4135-bffc-0461ccdd6a4d\">\n",
              "    <div class=\"colab-df-container\">\n",
              "      <div>\n",
              "<style scoped>\n",
              "    .dataframe tbody tr th:only-of-type {\n",
              "        vertical-align: middle;\n",
              "    }\n",
              "\n",
              "    .dataframe tbody tr th {\n",
              "        vertical-align: top;\n",
              "    }\n",
              "\n",
              "    .dataframe thead th {\n",
              "        text-align: right;\n",
              "    }\n",
              "</style>\n",
              "<table border=\"1\" class=\"dataframe\">\n",
              "  <thead>\n",
              "    <tr style=\"text-align: right;\">\n",
              "      <th></th>\n",
              "      <th>id</th>\n",
              "      <th>tweet</th>\n",
              "      <th>subtask_c</th>\n",
              "    </tr>\n",
              "  </thead>\n",
              "  <tbody>\n",
              "    <tr>\n",
              "      <th>0</th>\n",
              "      <td>1451</td>\n",
              "      <td>राम कदम वागण्यात नाही तर बोलण्यात चुकला बीजेपी...</td>\n",
              "      <td>GRP</td>\n",
              "    </tr>\n",
              "    <tr>\n",
              "      <th>1</th>\n",
              "      <td>1452</td>\n",
              "      <td>हीच का तुमची शिवसेने चि शिकवण आपली आई म्हणजे द...</td>\n",
              "      <td>GRP</td>\n",
              "    </tr>\n",
              "    <tr>\n",
              "      <th>2</th>\n",
              "      <td>1453</td>\n",
              "      <td>हे वाचा गाढवांनो आणि हे ही सांगा की तुमच्या मॅ...</td>\n",
              "      <td>GRP</td>\n",
              "    </tr>\n",
              "    <tr>\n",
              "      <th>3</th>\n",
              "      <td>1454</td>\n",
              "      <td>भक्त आंधळे असतात मूर्खा ना काही कळत नाही</td>\n",
              "      <td>GRP</td>\n",
              "    </tr>\n",
              "    <tr>\n",
              "      <th>4</th>\n",
              "      <td>1455</td>\n",
              "      <td>१९६६ साली छत्रपती शिवाजी महाराज या जागतिक दर्ज...</td>\n",
              "      <td>GRP</td>\n",
              "    </tr>\n",
              "  </tbody>\n",
              "</table>\n",
              "</div>\n",
              "      <button class=\"colab-df-convert\" onclick=\"convertToInteractive('df-38566d3a-1f3b-4135-bffc-0461ccdd6a4d')\"\n",
              "              title=\"Convert this dataframe to an interactive table.\"\n",
              "              style=\"display:none;\">\n",
              "        \n",
              "  <svg xmlns=\"http://www.w3.org/2000/svg\" height=\"24px\"viewBox=\"0 0 24 24\"\n",
              "       width=\"24px\">\n",
              "    <path d=\"M0 0h24v24H0V0z\" fill=\"none\"/>\n",
              "    <path d=\"M18.56 5.44l.94 2.06.94-2.06 2.06-.94-2.06-.94-.94-2.06-.94 2.06-2.06.94zm-11 1L8.5 8.5l.94-2.06 2.06-.94-2.06-.94L8.5 2.5l-.94 2.06-2.06.94zm10 10l.94 2.06.94-2.06 2.06-.94-2.06-.94-.94-2.06-.94 2.06-2.06.94z\"/><path d=\"M17.41 7.96l-1.37-1.37c-.4-.4-.92-.59-1.43-.59-.52 0-1.04.2-1.43.59L10.3 9.45l-7.72 7.72c-.78.78-.78 2.05 0 2.83L4 21.41c.39.39.9.59 1.41.59.51 0 1.02-.2 1.41-.59l7.78-7.78 2.81-2.81c.8-.78.8-2.07 0-2.86zM5.41 20L4 18.59l7.72-7.72 1.47 1.35L5.41 20z\"/>\n",
              "  </svg>\n",
              "      </button>\n",
              "      \n",
              "  <style>\n",
              "    .colab-df-container {\n",
              "      display:flex;\n",
              "      flex-wrap:wrap;\n",
              "      gap: 12px;\n",
              "    }\n",
              "\n",
              "    .colab-df-convert {\n",
              "      background-color: #E8F0FE;\n",
              "      border: none;\n",
              "      border-radius: 50%;\n",
              "      cursor: pointer;\n",
              "      display: none;\n",
              "      fill: #1967D2;\n",
              "      height: 32px;\n",
              "      padding: 0 0 0 0;\n",
              "      width: 32px;\n",
              "    }\n",
              "\n",
              "    .colab-df-convert:hover {\n",
              "      background-color: #E2EBFA;\n",
              "      box-shadow: 0px 1px 2px rgba(60, 64, 67, 0.3), 0px 1px 3px 1px rgba(60, 64, 67, 0.15);\n",
              "      fill: #174EA6;\n",
              "    }\n",
              "\n",
              "    [theme=dark] .colab-df-convert {\n",
              "      background-color: #3B4455;\n",
              "      fill: #D2E3FC;\n",
              "    }\n",
              "\n",
              "    [theme=dark] .colab-df-convert:hover {\n",
              "      background-color: #434B5C;\n",
              "      box-shadow: 0px 1px 3px 1px rgba(0, 0, 0, 0.15);\n",
              "      filter: drop-shadow(0px 1px 2px rgba(0, 0, 0, 0.3));\n",
              "      fill: #FFFFFF;\n",
              "    }\n",
              "  </style>\n",
              "\n",
              "      <script>\n",
              "        const buttonEl =\n",
              "          document.querySelector('#df-38566d3a-1f3b-4135-bffc-0461ccdd6a4d button.colab-df-convert');\n",
              "        buttonEl.style.display =\n",
              "          google.colab.kernel.accessAllowed ? 'block' : 'none';\n",
              "\n",
              "        async function convertToInteractive(key) {\n",
              "          const element = document.querySelector('#df-38566d3a-1f3b-4135-bffc-0461ccdd6a4d');\n",
              "          const dataTable =\n",
              "            await google.colab.kernel.invokeFunction('convertToInteractive',\n",
              "                                                     [key], {});\n",
              "          if (!dataTable) return;\n",
              "\n",
              "          const docLinkHtml = 'Like what you see? Visit the ' +\n",
              "            '<a target=\"_blank\" href=https://colab.research.google.com/notebooks/data_table.ipynb>data table notebook</a>'\n",
              "            + ' to learn more about interactive tables.';\n",
              "          element.innerHTML = '';\n",
              "          dataTable['output_type'] = 'display_data';\n",
              "          await google.colab.output.renderOutput(dataTable, element);\n",
              "          const docLink = document.createElement('div');\n",
              "          docLink.innerHTML = docLinkHtml;\n",
              "          element.appendChild(docLink);\n",
              "        }\n",
              "      </script>\n",
              "    </div>\n",
              "  </div>\n",
              "  "
            ]
          },
          "metadata": {},
          "execution_count": 29
        }
      ],
      "source": [
        "trainc = pd.read_csv('/content/drive/MyDrive/ML_text_processing/MOLD_SPLIT/subtask_c1.tsv','\\t',skiprows=1,names=['id','tweet','subtask_c'])\n",
        "trainc.head()\n"
      ]
    },
    {
      "cell_type": "code",
      "execution_count": null,
      "metadata": {
        "colab": {
          "base_uri": "https://localhost:8080/"
        },
        "id": "VZ1kObYWRnDO",
        "outputId": "c2513096-b867-4e5d-a1a3-fb4906967bfa"
      },
      "outputs": [
        {
          "output_type": "stream",
          "name": "stdout",
          "text": [
            "       id                                              tweet subtask_c  \\\n",
            "0    1451  राम कदम वागण्यात नाही तर बोलण्यात चुकला बीजेपी...       GRP   \n",
            "1    1452  हीच का तुमची शिवसेने चि शिकवण आपली आई म्हणजे द...       GRP   \n",
            "2    1453  हे वाचा गाढवांनो आणि हे ही सांगा की तुमच्या मॅ...       GRP   \n",
            "3    1454           भक्त आंधळे असतात मूर्खा ना काही कळत नाही       GRP   \n",
            "4    1455  १९६६ साली छत्रपती शिवाजी महाराज या जागतिक दर्ज...       GRP   \n",
            "..    ...                                                ...       ...   \n",
            "735  3064                   @USER @USER हो रे साहेबचा गोट्या       OTH   \n",
            "736  3099  @USER दोन नंबर पुच्ची पाकळ्या मस्त आहेत चाटायल...       OTH   \n",
            "737  3100                            @USER पुच्ची कप्तान साब       OTH   \n",
            "738  3101  @USER नंबरकाळी पुच्ची आणि वर थोडे केसखालून चाट...       OTH   \n",
            "739  3102             @USER तुज्या आमची पुच्ची आतल्या लवड्या       OTH   \n",
            "\n",
            "     encoded_c  \n",
            "0            0  \n",
            "1            0  \n",
            "2            0  \n",
            "3            0  \n",
            "4            0  \n",
            "..         ...  \n",
            "735          2  \n",
            "736          2  \n",
            "737          2  \n",
            "738          2  \n",
            "739          2  \n",
            "\n",
            "[740 rows x 4 columns]\n"
          ]
        }
      ],
      "source": [
        "trainc['encoded_c'] = le.fit_transform(trainc['subtask_c'].astype(str))\n",
        "print(trainc)"
      ]
    },
    {
      "cell_type": "code",
      "source": [
        "print(submissionb.index)\n"
      ],
      "metadata": {
        "colab": {
          "base_uri": "https://localhost:8080/"
        },
        "id": "h2_Oa-zRDH62",
        "outputId": "b6c311db-ffff-4795-dc09-4eb9f7f9306c"
      },
      "execution_count": null,
      "outputs": [
        {
          "output_type": "stream",
          "name": "stdout",
          "text": [
            "RangeIndex(start=0, stop=510, step=1)\n"
          ]
        }
      ]
    },
    {
      "cell_type": "code",
      "execution_count": null,
      "metadata": {
        "id": "nxay4owyRnIF"
      },
      "outputs": [],
      "source": [
        "x_train=trainc['tweet']\n",
        "y_train=trainc['encoded_c']\n",
        "x_train=x_train.replace(np.nan,\"\")\n",
        "x_test=testc['tweet']\n",
        "x_test=x_test.replace(np.nan,\"\")\n",
        "x_train = vectorizer.fit_transform(x_train)\n",
        "x_test=vectorizer.transform(x_test)"
      ]
    },
    {
      "cell_type": "code",
      "execution_count": null,
      "metadata": {
        "colab": {
          "base_uri": "https://localhost:8080/"
        },
        "id": "19NOnDL5Z_nA",
        "outputId": "b9731ea2-0cef-48aa-b952-740a58202de7"
      },
      "outputs": [
        {
          "output_type": "execute_result",
          "data": {
            "text/plain": [
              "SVC(probability=True)"
            ]
          },
          "metadata": {},
          "execution_count": 33
        }
      ],
      "source": [
        "sv_clf.fit(x_train, y_train)"
      ]
    },
    {
      "cell_type": "code",
      "execution_count": null,
      "metadata": {
        "id": "tmb0gE1XZ_pB"
      },
      "outputs": [],
      "source": [
        "y_predc = sv_clf.predict(x_test)\n",
        "import math\n",
        "pred=[]\n",
        "for i in range(len(y_predc)):\n",
        " pred.append(int(y_predc[i].round()))\n",
        "pred=le.inverse_transform(pred)"
      ]
    },
    {
      "cell_type": "code",
      "source": [
        "submissionc = pd.DataFrame()\n",
        "submissionc['id'] = testc['id']\n",
        "submissionc['label'] = pred\n"
      ],
      "metadata": {
        "id": "ZhnqHs1k8PsC"
      },
      "execution_count": null,
      "outputs": []
    },
    {
      "cell_type": "code",
      "source": [
        "submissionc"
      ],
      "metadata": {
        "colab": {
          "base_uri": "https://localhost:8080/",
          "height": 424
        },
        "id": "G3Y3IEWB-nb8",
        "outputId": "0f7dc7bf-5281-401b-b312-d7618d4fcdf7"
      },
      "execution_count": null,
      "outputs": [
        {
          "output_type": "execute_result",
          "data": {
            "text/plain": [
              "      id label\n",
              "11    11   IND\n",
              "16    16   IND\n",
              "37    37   IND\n",
              "39    39   IND\n",
              "46    46   IND\n",
              "..   ...   ...\n",
              "501  501   IND\n",
              "504  504   IND\n",
              "505  505   IND\n",
              "507  507   IND\n",
              "508  508   IND\n",
              "\n",
              "[217 rows x 2 columns]"
            ],
            "text/html": [
              "\n",
              "  <div id=\"df-26eb7024-9fd8-47dd-9f60-f7dd1823aae4\">\n",
              "    <div class=\"colab-df-container\">\n",
              "      <div>\n",
              "<style scoped>\n",
              "    .dataframe tbody tr th:only-of-type {\n",
              "        vertical-align: middle;\n",
              "    }\n",
              "\n",
              "    .dataframe tbody tr th {\n",
              "        vertical-align: top;\n",
              "    }\n",
              "\n",
              "    .dataframe thead th {\n",
              "        text-align: right;\n",
              "    }\n",
              "</style>\n",
              "<table border=\"1\" class=\"dataframe\">\n",
              "  <thead>\n",
              "    <tr style=\"text-align: right;\">\n",
              "      <th></th>\n",
              "      <th>id</th>\n",
              "      <th>label</th>\n",
              "    </tr>\n",
              "  </thead>\n",
              "  <tbody>\n",
              "    <tr>\n",
              "      <th>11</th>\n",
              "      <td>11</td>\n",
              "      <td>IND</td>\n",
              "    </tr>\n",
              "    <tr>\n",
              "      <th>16</th>\n",
              "      <td>16</td>\n",
              "      <td>IND</td>\n",
              "    </tr>\n",
              "    <tr>\n",
              "      <th>37</th>\n",
              "      <td>37</td>\n",
              "      <td>IND</td>\n",
              "    </tr>\n",
              "    <tr>\n",
              "      <th>39</th>\n",
              "      <td>39</td>\n",
              "      <td>IND</td>\n",
              "    </tr>\n",
              "    <tr>\n",
              "      <th>46</th>\n",
              "      <td>46</td>\n",
              "      <td>IND</td>\n",
              "    </tr>\n",
              "    <tr>\n",
              "      <th>...</th>\n",
              "      <td>...</td>\n",
              "      <td>...</td>\n",
              "    </tr>\n",
              "    <tr>\n",
              "      <th>501</th>\n",
              "      <td>501</td>\n",
              "      <td>IND</td>\n",
              "    </tr>\n",
              "    <tr>\n",
              "      <th>504</th>\n",
              "      <td>504</td>\n",
              "      <td>IND</td>\n",
              "    </tr>\n",
              "    <tr>\n",
              "      <th>505</th>\n",
              "      <td>505</td>\n",
              "      <td>IND</td>\n",
              "    </tr>\n",
              "    <tr>\n",
              "      <th>507</th>\n",
              "      <td>507</td>\n",
              "      <td>IND</td>\n",
              "    </tr>\n",
              "    <tr>\n",
              "      <th>508</th>\n",
              "      <td>508</td>\n",
              "      <td>IND</td>\n",
              "    </tr>\n",
              "  </tbody>\n",
              "</table>\n",
              "<p>217 rows × 2 columns</p>\n",
              "</div>\n",
              "      <button class=\"colab-df-convert\" onclick=\"convertToInteractive('df-26eb7024-9fd8-47dd-9f60-f7dd1823aae4')\"\n",
              "              title=\"Convert this dataframe to an interactive table.\"\n",
              "              style=\"display:none;\">\n",
              "        \n",
              "  <svg xmlns=\"http://www.w3.org/2000/svg\" height=\"24px\"viewBox=\"0 0 24 24\"\n",
              "       width=\"24px\">\n",
              "    <path d=\"M0 0h24v24H0V0z\" fill=\"none\"/>\n",
              "    <path d=\"M18.56 5.44l.94 2.06.94-2.06 2.06-.94-2.06-.94-.94-2.06-.94 2.06-2.06.94zm-11 1L8.5 8.5l.94-2.06 2.06-.94-2.06-.94L8.5 2.5l-.94 2.06-2.06.94zm10 10l.94 2.06.94-2.06 2.06-.94-2.06-.94-.94-2.06-.94 2.06-2.06.94z\"/><path d=\"M17.41 7.96l-1.37-1.37c-.4-.4-.92-.59-1.43-.59-.52 0-1.04.2-1.43.59L10.3 9.45l-7.72 7.72c-.78.78-.78 2.05 0 2.83L4 21.41c.39.39.9.59 1.41.59.51 0 1.02-.2 1.41-.59l7.78-7.78 2.81-2.81c.8-.78.8-2.07 0-2.86zM5.41 20L4 18.59l7.72-7.72 1.47 1.35L5.41 20z\"/>\n",
              "  </svg>\n",
              "      </button>\n",
              "      \n",
              "  <style>\n",
              "    .colab-df-container {\n",
              "      display:flex;\n",
              "      flex-wrap:wrap;\n",
              "      gap: 12px;\n",
              "    }\n",
              "\n",
              "    .colab-df-convert {\n",
              "      background-color: #E8F0FE;\n",
              "      border: none;\n",
              "      border-radius: 50%;\n",
              "      cursor: pointer;\n",
              "      display: none;\n",
              "      fill: #1967D2;\n",
              "      height: 32px;\n",
              "      padding: 0 0 0 0;\n",
              "      width: 32px;\n",
              "    }\n",
              "\n",
              "    .colab-df-convert:hover {\n",
              "      background-color: #E2EBFA;\n",
              "      box-shadow: 0px 1px 2px rgba(60, 64, 67, 0.3), 0px 1px 3px 1px rgba(60, 64, 67, 0.15);\n",
              "      fill: #174EA6;\n",
              "    }\n",
              "\n",
              "    [theme=dark] .colab-df-convert {\n",
              "      background-color: #3B4455;\n",
              "      fill: #D2E3FC;\n",
              "    }\n",
              "\n",
              "    [theme=dark] .colab-df-convert:hover {\n",
              "      background-color: #434B5C;\n",
              "      box-shadow: 0px 1px 3px 1px rgba(0, 0, 0, 0.15);\n",
              "      filter: drop-shadow(0px 1px 2px rgba(0, 0, 0, 0.3));\n",
              "      fill: #FFFFFF;\n",
              "    }\n",
              "  </style>\n",
              "\n",
              "      <script>\n",
              "        const buttonEl =\n",
              "          document.querySelector('#df-26eb7024-9fd8-47dd-9f60-f7dd1823aae4 button.colab-df-convert');\n",
              "        buttonEl.style.display =\n",
              "          google.colab.kernel.accessAllowed ? 'block' : 'none';\n",
              "\n",
              "        async function convertToInteractive(key) {\n",
              "          const element = document.querySelector('#df-26eb7024-9fd8-47dd-9f60-f7dd1823aae4');\n",
              "          const dataTable =\n",
              "            await google.colab.kernel.invokeFunction('convertToInteractive',\n",
              "                                                     [key], {});\n",
              "          if (!dataTable) return;\n",
              "\n",
              "          const docLinkHtml = 'Like what you see? Visit the ' +\n",
              "            '<a target=\"_blank\" href=https://colab.research.google.com/notebooks/data_table.ipynb>data table notebook</a>'\n",
              "            + ' to learn more about interactive tables.';\n",
              "          element.innerHTML = '';\n",
              "          dataTable['output_type'] = 'display_data';\n",
              "          await google.colab.output.renderOutput(dataTable, element);\n",
              "          const docLink = document.createElement('div');\n",
              "          docLink.innerHTML = docLinkHtml;\n",
              "          element.appendChild(docLink);\n",
              "        }\n",
              "      </script>\n",
              "    </div>\n",
              "  </div>\n",
              "  "
            ]
          },
          "metadata": {},
          "execution_count": 36
        }
      ]
    },
    {
      "cell_type": "code",
      "source": [
        "for i in null_list:\n",
        "  submissionc=submissionc.append({'id' : int(i),'label' : None} , ignore_index=True)\n",
        "submissionc=submissionc.sort_values(by=['id'])\n",
        "submissionc['id']=submission.index\n",
        "submissionc.to_csv('/content/drive/MyDrive/ML_text_processing/MOLD_SPLIT/taskc1_sub2.csv',index= False)"
      ],
      "metadata": {
        "id": "ip1DJo1W-mo4"
      },
      "execution_count": null,
      "outputs": []
    },
    {
      "cell_type": "code",
      "source": [
        "submissionc"
      ],
      "metadata": {
        "colab": {
          "base_uri": "https://localhost:8080/",
          "height": 424
        },
        "id": "2v_NiE9b8b8b",
        "outputId": "efe517b2-1a3a-4646-9ce8-b3a010e69d71"
      },
      "execution_count": null,
      "outputs": [
        {
          "output_type": "execute_result",
          "data": {
            "text/plain": [
              "      id label\n",
              "217    0   NaN\n",
              "218    1   NaN\n",
              "219    2   NaN\n",
              "220    3   NaN\n",
              "221    4   NaN\n",
              "..   ...   ...\n",
              "214  505   IND\n",
              "508  506   NaN\n",
              "215  507   IND\n",
              "216  508   IND\n",
              "509  509   NaN\n",
              "\n",
              "[510 rows x 2 columns]"
            ],
            "text/html": [
              "\n",
              "  <div id=\"df-07254f25-d92c-4be1-b079-8cc7548d883f\">\n",
              "    <div class=\"colab-df-container\">\n",
              "      <div>\n",
              "<style scoped>\n",
              "    .dataframe tbody tr th:only-of-type {\n",
              "        vertical-align: middle;\n",
              "    }\n",
              "\n",
              "    .dataframe tbody tr th {\n",
              "        vertical-align: top;\n",
              "    }\n",
              "\n",
              "    .dataframe thead th {\n",
              "        text-align: right;\n",
              "    }\n",
              "</style>\n",
              "<table border=\"1\" class=\"dataframe\">\n",
              "  <thead>\n",
              "    <tr style=\"text-align: right;\">\n",
              "      <th></th>\n",
              "      <th>id</th>\n",
              "      <th>label</th>\n",
              "    </tr>\n",
              "  </thead>\n",
              "  <tbody>\n",
              "    <tr>\n",
              "      <th>217</th>\n",
              "      <td>0</td>\n",
              "      <td>NaN</td>\n",
              "    </tr>\n",
              "    <tr>\n",
              "      <th>218</th>\n",
              "      <td>1</td>\n",
              "      <td>NaN</td>\n",
              "    </tr>\n",
              "    <tr>\n",
              "      <th>219</th>\n",
              "      <td>2</td>\n",
              "      <td>NaN</td>\n",
              "    </tr>\n",
              "    <tr>\n",
              "      <th>220</th>\n",
              "      <td>3</td>\n",
              "      <td>NaN</td>\n",
              "    </tr>\n",
              "    <tr>\n",
              "      <th>221</th>\n",
              "      <td>4</td>\n",
              "      <td>NaN</td>\n",
              "    </tr>\n",
              "    <tr>\n",
              "      <th>...</th>\n",
              "      <td>...</td>\n",
              "      <td>...</td>\n",
              "    </tr>\n",
              "    <tr>\n",
              "      <th>214</th>\n",
              "      <td>505</td>\n",
              "      <td>IND</td>\n",
              "    </tr>\n",
              "    <tr>\n",
              "      <th>508</th>\n",
              "      <td>506</td>\n",
              "      <td>NaN</td>\n",
              "    </tr>\n",
              "    <tr>\n",
              "      <th>215</th>\n",
              "      <td>507</td>\n",
              "      <td>IND</td>\n",
              "    </tr>\n",
              "    <tr>\n",
              "      <th>216</th>\n",
              "      <td>508</td>\n",
              "      <td>IND</td>\n",
              "    </tr>\n",
              "    <tr>\n",
              "      <th>509</th>\n",
              "      <td>509</td>\n",
              "      <td>NaN</td>\n",
              "    </tr>\n",
              "  </tbody>\n",
              "</table>\n",
              "<p>510 rows × 2 columns</p>\n",
              "</div>\n",
              "      <button class=\"colab-df-convert\" onclick=\"convertToInteractive('df-07254f25-d92c-4be1-b079-8cc7548d883f')\"\n",
              "              title=\"Convert this dataframe to an interactive table.\"\n",
              "              style=\"display:none;\">\n",
              "        \n",
              "  <svg xmlns=\"http://www.w3.org/2000/svg\" height=\"24px\"viewBox=\"0 0 24 24\"\n",
              "       width=\"24px\">\n",
              "    <path d=\"M0 0h24v24H0V0z\" fill=\"none\"/>\n",
              "    <path d=\"M18.56 5.44l.94 2.06.94-2.06 2.06-.94-2.06-.94-.94-2.06-.94 2.06-2.06.94zm-11 1L8.5 8.5l.94-2.06 2.06-.94-2.06-.94L8.5 2.5l-.94 2.06-2.06.94zm10 10l.94 2.06.94-2.06 2.06-.94-2.06-.94-.94-2.06-.94 2.06-2.06.94z\"/><path d=\"M17.41 7.96l-1.37-1.37c-.4-.4-.92-.59-1.43-.59-.52 0-1.04.2-1.43.59L10.3 9.45l-7.72 7.72c-.78.78-.78 2.05 0 2.83L4 21.41c.39.39.9.59 1.41.59.51 0 1.02-.2 1.41-.59l7.78-7.78 2.81-2.81c.8-.78.8-2.07 0-2.86zM5.41 20L4 18.59l7.72-7.72 1.47 1.35L5.41 20z\"/>\n",
              "  </svg>\n",
              "      </button>\n",
              "      \n",
              "  <style>\n",
              "    .colab-df-container {\n",
              "      display:flex;\n",
              "      flex-wrap:wrap;\n",
              "      gap: 12px;\n",
              "    }\n",
              "\n",
              "    .colab-df-convert {\n",
              "      background-color: #E8F0FE;\n",
              "      border: none;\n",
              "      border-radius: 50%;\n",
              "      cursor: pointer;\n",
              "      display: none;\n",
              "      fill: #1967D2;\n",
              "      height: 32px;\n",
              "      padding: 0 0 0 0;\n",
              "      width: 32px;\n",
              "    }\n",
              "\n",
              "    .colab-df-convert:hover {\n",
              "      background-color: #E2EBFA;\n",
              "      box-shadow: 0px 1px 2px rgba(60, 64, 67, 0.3), 0px 1px 3px 1px rgba(60, 64, 67, 0.15);\n",
              "      fill: #174EA6;\n",
              "    }\n",
              "\n",
              "    [theme=dark] .colab-df-convert {\n",
              "      background-color: #3B4455;\n",
              "      fill: #D2E3FC;\n",
              "    }\n",
              "\n",
              "    [theme=dark] .colab-df-convert:hover {\n",
              "      background-color: #434B5C;\n",
              "      box-shadow: 0px 1px 3px 1px rgba(0, 0, 0, 0.15);\n",
              "      filter: drop-shadow(0px 1px 2px rgba(0, 0, 0, 0.3));\n",
              "      fill: #FFFFFF;\n",
              "    }\n",
              "  </style>\n",
              "\n",
              "      <script>\n",
              "        const buttonEl =\n",
              "          document.querySelector('#df-07254f25-d92c-4be1-b079-8cc7548d883f button.colab-df-convert');\n",
              "        buttonEl.style.display =\n",
              "          google.colab.kernel.accessAllowed ? 'block' : 'none';\n",
              "\n",
              "        async function convertToInteractive(key) {\n",
              "          const element = document.querySelector('#df-07254f25-d92c-4be1-b079-8cc7548d883f');\n",
              "          const dataTable =\n",
              "            await google.colab.kernel.invokeFunction('convertToInteractive',\n",
              "                                                     [key], {});\n",
              "          if (!dataTable) return;\n",
              "\n",
              "          const docLinkHtml = 'Like what you see? Visit the ' +\n",
              "            '<a target=\"_blank\" href=https://colab.research.google.com/notebooks/data_table.ipynb>data table notebook</a>'\n",
              "            + ' to learn more about interactive tables.';\n",
              "          element.innerHTML = '';\n",
              "          dataTable['output_type'] = 'display_data';\n",
              "          await google.colab.output.renderOutput(dataTable, element);\n",
              "          const docLink = document.createElement('div');\n",
              "          docLink.innerHTML = docLinkHtml;\n",
              "          element.appendChild(docLink);\n",
              "        }\n",
              "      </script>\n",
              "    </div>\n",
              "  </div>\n",
              "  "
            ]
          },
          "metadata": {},
          "execution_count": 38
        }
      ]
    }
  ],
  "metadata": {
    "colab": {
      "collapsed_sections": [],
      "provenance": []
    },
    "kernelspec": {
      "display_name": "Python 3",
      "name": "python3"
    },
    "language_info": {
      "name": "python"
    }
  },
  "nbformat": 4,
  "nbformat_minor": 0
}